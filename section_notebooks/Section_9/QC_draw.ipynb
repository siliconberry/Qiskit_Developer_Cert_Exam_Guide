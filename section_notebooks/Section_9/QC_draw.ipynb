{
 "cells": [
  {
   "cell_type": "markdown",
   "id": "3aef9194",
   "metadata": {},
   "source": [
    "# Draw the Quantum Circuit"
   ]
  },
  {
   "cell_type": "markdown",
   "id": "4bf58082",
   "metadata": {},
   "source": [
    "REFERENCES:\n",
    "    \n",
    "https://qiskit.org/documentation/stubs/qiskit.circuit.QuantumCircuit.draw.html\n",
    "    \n",
    "    \n",
    "https://qiskit.org/documentation/tutorials/circuits_advanced/03_advanced_circuit_visualization.html"
   ]
  },
  {
   "cell_type": "code",
   "execution_count": 1,
   "id": "80bf1f6b",
   "metadata": {},
   "outputs": [],
   "source": [
    "from qiskit import QuantumCircuit"
   ]
  },
  {
   "cell_type": "code",
   "execution_count": 2,
   "id": "6b2a67b0",
   "metadata": {},
   "outputs": [
    {
     "data": {
      "text/html": [
       "<pre style=\"word-wrap: normal;white-space: pre;background: #fff0;line-height: 1.1;font-family: &quot;Courier New&quot;,Courier,monospace\">     ┌───┐               \n",
       "q_0: ┤ H ├──■─────────■──\n",
       "     ├───┤┌─┴─┐┌───┐  │  \n",
       "q_1: ┤ X ├┤ X ├┤ H ├──■──\n",
       "     └───┘└───┘└───┘┌─┴─┐\n",
       "q_2: ───────────────┤ X ├\n",
       "                    └───┘\n",
       "c: 3/════════════════════\n",
       "                         </pre>"
      ],
      "text/plain": [
       "     ┌───┐               \n",
       "q_0: ┤ H ├──■─────────■──\n",
       "     ├───┤┌─┴─┐┌───┐  │  \n",
       "q_1: ┤ X ├┤ X ├┤ H ├──■──\n",
       "     └───┘└───┘└───┘┌─┴─┐\n",
       "q_2: ───────────────┤ X ├\n",
       "                    └───┘\n",
       "c: 3/════════════════════\n",
       "                         "
      ]
     },
     "execution_count": 2,
     "metadata": {},
     "output_type": "execute_result"
    }
   ],
   "source": [
    "qc=QuantumCircuit(3,3)\n",
    "qc.h(0)\n",
    "qc.x(1)\n",
    "qc.cx(0,1)\n",
    "qc.h(1)\n",
    "qc.ccx(0,1,2)\n",
    "qc.draw()"
   ]
  },
  {
   "cell_type": "markdown",
   "id": "58558aa0",
   "metadata": {},
   "source": [
    "## Without using the output parameter will get the format as text drawer"
   ]
  },
  {
   "cell_type": "code",
   "execution_count": 3,
   "id": "26fecaac",
   "metadata": {},
   "outputs": [
    {
     "data": {
      "text/html": [
       "<pre style=\"word-wrap: normal;white-space: pre;background: #fff0;line-height: 1.1;font-family: &quot;Courier New&quot;,Courier,monospace\">     ┌───┐               \n",
       "q_0: ┤ H ├──■─────────■──\n",
       "     ├───┤┌─┴─┐┌───┐  │  \n",
       "q_1: ┤ X ├┤ X ├┤ H ├──■──\n",
       "     └───┘└───┘└───┘┌─┴─┐\n",
       "q_2: ───────────────┤ X ├\n",
       "                    └───┘\n",
       "c: 3/════════════════════\n",
       "                         </pre>"
      ],
      "text/plain": [
       "     ┌───┐               \n",
       "q_0: ┤ H ├──■─────────■──\n",
       "     ├───┤┌─┴─┐┌───┐  │  \n",
       "q_1: ┤ X ├┤ X ├┤ H ├──■──\n",
       "     └───┘└───┘└───┘┌─┴─┐\n",
       "q_2: ───────────────┤ X ├\n",
       "                    └───┘\n",
       "c: 3/════════════════════\n",
       "                         "
      ]
     },
     "execution_count": 3,
     "metadata": {},
     "output_type": "execute_result"
    }
   ],
   "source": [
    "qc.draw(output='text')"
   ]
  },
  {
   "cell_type": "markdown",
   "id": "7fc464da",
   "metadata": {},
   "source": [
    "## In the output there are different formats:\n",
    "    1. text\n",
    "    2. matplotllib\n",
    "    3. latex\n",
    "    4. latex_source"
   ]
  },
  {
   "cell_type": "markdown",
   "id": "98c216ac",
   "metadata": {},
   "source": [
    "## mpl\n",
    "    returns: matplotlib.Figure object"
   ]
  },
  {
   "cell_type": "code",
   "execution_count": 4,
   "id": "891352f0",
   "metadata": {},
   "outputs": [
    {
     "data": {
      "image/png": "[encoded data removed]",
      "text/plain": [
       "<Figure size 327.397x264.88 with 1 Axes>"
      ]
     },
     "execution_count": 4,
     "metadata": {},
     "output_type": "execute_result"
    }
   ],
   "source": [
    "qc.draw(output='mpl')"
   ]
  },
  {
   "cell_type": "markdown",
   "id": "3feef105",
   "metadata": {},
   "source": [
    "## Latex \n",
    "\n",
    "- Required to install\n",
    "\n",
    "- It returns the PIL.image as an object\n",
    "\n",
    "- PIL.image(output='latex')\n"
   ]
  },
  {
   "cell_type": "markdown",
   "id": "2c42ba8a",
   "metadata": {},
   "source": [
    "## latex_source\n",
    "\n",
    "- qc.draw(output='latex source')\n",
    "\n",
    "- prints the latex source code string "
   ]
  },
  {
   "cell_type": "code",
   "execution_count": 5,
   "id": "283cb076",
   "metadata": {},
   "outputs": [
    {
     "data": {
      "text/plain": [
       "'\\\\documentclass[border=2px]{standalone}\\n        \\n\\\\usepackage[braket, qm]{qcircuit}\\n\\\\usepackage{graphicx}\\n\\n\\\\begin{document} \\n\\\\scalebox{1.0}{\\n\\\\Qcircuit @C=1.0em @R=0.2em @!R { \\\\\\\\\\n\\t \\t\\\\nghost{ {q}_{0} :  } & \\\\lstick{ {q}_{0} :  } & \\\\gate{\\\\mathrm{H}} & \\\\ctrl{1} & \\\\qw & \\\\ctrl{1} & \\\\qw & \\\\qw\\\\\\\\ \\n\\t \\t\\\\nghost{ {q}_{1} :  } & \\\\lstick{ {q}_{1} :  } & \\\\gate{\\\\mathrm{X}} & \\\\targ & \\\\gate{\\\\mathrm{H}} & \\\\ctrl{1} & \\\\qw & \\\\qw\\\\\\\\ \\n\\t \\t\\\\nghost{ {q}_{2} :  } & \\\\lstick{ {q}_{2} :  } & \\\\qw & \\\\qw & \\\\qw & \\\\targ & \\\\qw & \\\\qw\\\\\\\\ \\n\\t \\t\\\\nghost{c:} & \\\\lstick{c:} & \\\\lstick{/_{_{3}}} \\\\cw & \\\\cw & \\\\cw & \\\\cw & \\\\cw & \\\\cw\\\\\\\\ \\n\\\\\\\\ }}\\n\\\\end{document}'"
      ]
     },
     "execution_count": 5,
     "metadata": {},
     "output_type": "execute_result"
    }
   ],
   "source": [
    "qc.draw(output='latex_source')"
   ]
  },
  {
   "cell_type": "markdown",
   "id": "c51c25a4",
   "metadata": {},
   "source": [
    "## NOTE:\n",
    "    draw method has optional:display/save the output"
   ]
  },
  {
   "cell_type": "markdown",
   "id": "3d48a3aa",
   "metadata": {},
   "source": [
    "## plot_barriers: Enable/Disable the barriers(bool)"
   ]
  },
  {
   "cell_type": "code",
   "execution_count": 6,
   "id": "abf04ae8",
   "metadata": {},
   "outputs": [
    {
     "data": {
      "image/png": "[encoded data removed]",
      "text/plain": [
       "<Figure size 507.997x264.88 with 1 Axes>"
      ]
     },
     "execution_count": 6,
     "metadata": {},
     "output_type": "execute_result"
    }
   ],
   "source": [
    "qc=QuantumCircuit(3,3)\n",
    "qc.h(0)\n",
    "qc.barrier()\n",
    "qc.x(1)\n",
    "qc.cx(0,1)\n",
    "qc.h(1)\n",
    "qc.barrier()\n",
    "qc.ccx(0,1,2)\n",
    "qc.draw(output=\"mpl\")"
   ]
  },
  {
   "cell_type": "code",
   "execution_count": 7,
   "id": "78b4a9bf",
   "metadata": {},
   "outputs": [
    {
     "data": {
      "image/png": "[encoded data removed]",
      "text/plain": [
       "<Figure size 387.597x264.88 with 1 Axes>"
      ]
     },
     "execution_count": 7,
     "metadata": {},
     "output_type": "execute_result"
    }
   ],
   "source": [
    "qc=QuantumCircuit(3,3)\n",
    "qc.h(0)\n",
    "qc.barrier()\n",
    "qc.x(1)\n",
    "qc.cx(0,1)\n",
    "qc.h(1)\n",
    "qc.barrier()\n",
    "qc.ccx(0,1,2)\n",
    "qc.draw(output=\"mpl\",plot_barriers=False)"
   ]
  },
  {
   "cell_type": "markdown",
   "id": "6495ad0a",
   "metadata": {},
   "source": [
    "## reverse_bits : Reverse the order of the bits(bool)"
   ]
  },
  {
   "cell_type": "code",
   "execution_count": 8,
   "id": "595ccfe6",
   "metadata": {},
   "outputs": [
    {
     "data": {
      "image/png": "[encoded data removed]",
      "text/plain": [
       "<Figure size 507.997x264.88 with 1 Axes>"
      ]
     },
     "execution_count": 8,
     "metadata": {},
     "output_type": "execute_result"
    }
   ],
   "source": [
    "qc=QuantumCircuit(3,3)\n",
    "qc.h(0)\n",
    "qc.barrier()\n",
    "qc.x(1)\n",
    "qc.cx(0,1)\n",
    "qc.h(1)\n",
    "qc.barrier()\n",
    "qc.ccx(0,1,2)\n",
    "qc.draw(output=\"mpl\")"
   ]
  },
  {
   "cell_type": "code",
   "execution_count": 9,
   "id": "73935b05",
   "metadata": {},
   "outputs": [
    {
     "data": {
      "image/png": "[encoded data removed]",
      "text/plain": [
       "<Figure size 507.997x264.88 with 1 Axes>"
      ]
     },
     "execution_count": 9,
     "metadata": {},
     "output_type": "execute_result"
    }
   ],
   "source": [
    "qc=QuantumCircuit(3,3)\n",
    "qc.h(0)\n",
    "qc.barrier()\n",
    "qc.x(1)\n",
    "qc.cx(0,1)\n",
    "qc.h(1)\n",
    "qc.barrier()\n",
    "qc.ccx(0,1,2)\n",
    "qc.draw(output=\"mpl\",reverse_bits=True)"
   ]
  },
  {
   "cell_type": "code",
   "execution_count": 10,
   "id": "0ecfe801",
   "metadata": {},
   "outputs": [
    {
     "name": "stdout",
     "output_type": "stream",
     "text": [
      "     ┌───┐ ░                 ░      \n",
      "q_0: ┤ H ├─░────────■────────░───■──\n",
      "     └───┘ ░ ┌───┐┌─┴─┐┌───┐ ░   │  \n",
      "q_1: ──────░─┤ X ├┤ X ├┤ H ├─░───■──\n",
      "           ░ └───┘└───┘└───┘ ░ ┌─┴─┐\n",
      "q_2: ──────░─────────────────░─┤ X ├\n",
      "           ░                 ░ └───┘\n",
      "c: 3/═══════════════════════════════\n",
      "                                    \n"
     ]
    }
   ],
   "source": [
    "print(qc)"
   ]
  },
  {
   "cell_type": "markdown",
   "id": "55f81834",
   "metadata": {},
   "source": [
    "## initial state: displays |0> state (bool)"
   ]
  },
  {
   "cell_type": "code",
   "execution_count": 11,
   "id": "4e378cb3",
   "metadata": {},
   "outputs": [
    {
     "data": {
      "image/png": "[encoded data removed]",
      "text/plain": [
       "<Figure size 551.841x264.88 with 1 Axes>"
      ]
     },
     "execution_count": 11,
     "metadata": {},
     "output_type": "execute_result"
    }
   ],
   "source": [
    "qc=QuantumCircuit(3,3)\n",
    "qc.h(0)\n",
    "qc.barrier()\n",
    "qc.x(1)\n",
    "qc.cx(0,1)\n",
    "qc.h(1)\n",
    "qc.barrier()\n",
    "qc.ccx(0,1,2)\n",
    "qc.draw(output=\"mpl\",initial_state=True)"
   ]
  },
  {
   "cell_type": "code",
   "execution_count": null,
   "id": "991acfc2",
   "metadata": {},
   "outputs": [],
   "source": []
  }
 ],
 "metadata": {
  "kernelspec": {
   "display_name": "Python 3 (ipykernel)",
   "language": "python",
   "name": "python3"
  },
  "language_info": {
   "codemirror_mode": {
    "name": "ipython",
    "version": 3
   },
   "file_extension": ".py",
   "mimetype": "text/x-python",
   "name": "python",
   "nbconvert_exporter": "python",
   "pygments_lexer": "ipython3",
   "version": "3.9.12"
  }
 },
 "nbformat": 4,
 "nbformat_minor": 5
}
