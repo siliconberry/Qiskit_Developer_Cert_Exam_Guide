{
 "cells": [
  {
   "cell_type": "markdown",
   "id": "e21074b2",
   "metadata": {},
   "source": [
    "# OPENQASM: OPEN QUANTUM ASSEMBLY LANGUAGE\n",
    "\n",
    "https://en.wikipedia.org/wiki/OpenQASM\n",
    "\n",
    "1-minute video: \n",
    "\n",
    "https://www.youtube.com/watch?v=wG94YHKDIxc&list=PLOFEBzvs-VvpOCmJ9BonUhf7NYB4d1p0e&index=3"
   ]
  },
  {
   "cell_type": "markdown",
   "id": "2b13c9be",
   "metadata": {},
   "source": [
    "## Quantum Circuit Class methods for openqasm :\n",
    "\n",
    "https://qiskit.org/documentation/stubs/qiskit.circuit.QuantumCircuit.html\n",
    "    \n",
    "1. qasm\n",
    "2. from_qasm_file\n",
    "3. from_qasm_str"
   ]
  },
  {
   "cell_type": "markdown",
   "id": "61b46b72",
   "metadata": {},
   "source": [
    "# qasm\n",
    "\n",
    "https://qiskit.org/documentation/stubs/qiskit.circuit.QuantumCircuit.qasm.html#qiskit.circuit.QuantumCircuit.qasm\n",
    "        \n",
    "    - converts the qunatum circuit object to the open qasm string\n",
    "    \n",
    "    - returns the openqasm string\n",
    "    \n",
    "    - in the example, filename is optional\n"
   ]
  },
  {
   "cell_type": "code",
   "execution_count": 1,
   "id": "3caffae1",
   "metadata": {},
   "outputs": [],
   "source": [
    "from qiskit import *\n",
    "from qiskit.quantum_info import Statevector\n",
    "from math import pi"
   ]
  },
  {
   "cell_type": "code",
   "execution_count": 2,
   "id": "ad6b4d18",
   "metadata": {},
   "outputs": [
    {
     "data": {
      "image/png": "[encoded data removed]",
      "text/plain": [
       "<Figure size 146.797x204.68 with 1 Axes>"
      ]
     },
     "execution_count": 2,
     "metadata": {},
     "output_type": "execute_result"
    }
   ],
   "source": [
    "qc=QuantumCircuit(3)\n",
    "qc.h(range(2))\n",
    "qc.x(2)\n",
    "qc.draw(output=\"mpl\")"
   ]
  },
  {
   "cell_type": "markdown",
   "id": "b8675ca1",
   "metadata": {},
   "source": [
    "## qc.qasm() returns the qasm string"
   ]
  },
  {
   "cell_type": "code",
   "execution_count": 3,
   "id": "1570e99e",
   "metadata": {},
   "outputs": [
    {
     "name": "stdout",
     "output_type": "stream",
     "text": [
      "OPENQASM 2.0;\n",
      "include \"qelib1.inc\";\n",
      "qreg q[3];\n",
      "h q[0];\n",
      "h q[1];\n",
      "x q[2];\n",
      "\n"
     ]
    }
   ],
   "source": [
    "print(qc.qasm())"
   ]
  },
  {
   "cell_type": "markdown",
   "id": "96e969cf",
   "metadata": {},
   "source": [
    "## save the returned qasm string"
   ]
  },
  {
   "cell_type": "code",
   "execution_count": 4,
   "id": "47ffc228",
   "metadata": {},
   "outputs": [],
   "source": [
    "qc_qasm=qc.qasm(filename='sample.qasm')"
   ]
  },
  {
   "cell_type": "code",
   "execution_count": 5,
   "id": "6e2af1d3",
   "metadata": {},
   "outputs": [
    {
     "name": "stdout",
     "output_type": "stream",
     "text": [
      "OPENQASM 2.0;\n",
      "include \"qelib1.inc\";\n",
      "qreg q[3];\n",
      "h q[0];\n",
      "h q[1];\n",
      "x q[2];\n",
      "\n"
     ]
    }
   ],
   "source": [
    "print(qc_qasm)"
   ]
  },
  {
   "cell_type": "markdown",
   "id": "f23a7ced",
   "metadata": {},
   "source": [
    "***\n",
    "# Read from the file \n",
    "***"
   ]
  },
  {
   "cell_type": "markdown",
   "id": "ec4524bc",
   "metadata": {},
   "source": [
    "## from_qasm_file\n",
    "\n",
    "https://qiskit.org/documentation/stubs/qiskit.circuit.QuantumCircuit.from_qasm_file.html#qiskit.circuit.QuantumCircuit.from_qasm_file\n",
    "\n",
    "- INPUT  : path of the file which contains qasm string for the circuit\n",
    "\n",
    "- OUTPUT : returns the quantum circuit object"
   ]
  },
  {
   "cell_type": "code",
   "execution_count": 6,
   "id": "360b7c7d",
   "metadata": {},
   "outputs": [],
   "source": [
    "qc1=qc.from_qasm_file(\"./sample.qasm\")"
   ]
  },
  {
   "cell_type": "code",
   "execution_count": 7,
   "id": "045374c4",
   "metadata": {},
   "outputs": [
    {
     "data": {
      "image/png": "[encoded data removed]",
      "text/plain": [
       "<Figure size 146.797x204.68 with 1 Axes>"
      ]
     },
     "execution_count": 7,
     "metadata": {},
     "output_type": "execute_result"
    }
   ],
   "source": [
    "qc1.draw(output=\"mpl\")"
   ]
  },
  {
   "cell_type": "markdown",
   "id": "2dad1004",
   "metadata": {},
   "source": [
    "***\n",
    "# Read from the qasm str\n",
    "***"
   ]
  },
  {
   "cell_type": "markdown",
   "id": "6c06f5d0",
   "metadata": {},
   "source": [
    "# from_qasm_str\n",
    "   https://qiskit.org/documentation/stubs/qiskit.circuit.QuantumCircuit.from_qasm_str.html#qiskit.circuit.QuantumCircuit.from_qasm_str\n",
    "   \n",
    "- INPUT : qasm string for the circuit\n",
    "- OUTPUT: returns the quantum circuit object"
   ]
  },
  {
   "cell_type": "code",
   "execution_count": 8,
   "id": "e06262e8",
   "metadata": {},
   "outputs": [],
   "source": [
    "qc2=qc.from_qasm_str(qc.qasm())"
   ]
  },
  {
   "cell_type": "code",
   "execution_count": 9,
   "id": "ce915491",
   "metadata": {},
   "outputs": [
    {
     "data": {
      "image/png": "[encoded data removed]",
      "text/plain": [
       "<Figure size 146.797x204.68 with 1 Axes>"
      ]
     },
     "execution_count": 9,
     "metadata": {},
     "output_type": "execute_result"
    }
   ],
   "source": [
    "qc2.draw(output=\"mpl\")"
   ]
  }
 ],
 "metadata": {
  "kernelspec": {
   "display_name": "Python 3",
   "language": "python",
   "name": "python3"
  },
  "language_info": {
   "codemirror_mode": {
    "name": "ipython",
    "version": 3
   },
   "file_extension": ".py",
   "mimetype": "text/x-python",
   "name": "python",
   "nbconvert_exporter": "python",
   "pygments_lexer": "ipython3",
   "version": "3.7.9"
  }
 },
 "nbformat": 4,
 "nbformat_minor": 5
}
