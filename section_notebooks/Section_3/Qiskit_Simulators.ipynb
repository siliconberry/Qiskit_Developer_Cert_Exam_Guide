{
 "cells": [
  {
   "cell_type": "markdown",
   "id": "c7d860b8",
   "metadata": {},
   "source": [
    "# Qiskit Simulators:"
   ]
  },
  {
   "cell_type": "markdown",
   "id": "b717d0fa",
   "metadata": {},
   "source": [
    "## 1.  Aer <a href=\"./Qiskit_Aer.ipynb\">Qiskit Aer Simulator Backend </a>\n",
    "- Aer backends\n",
    "- AerProvider\n"
   ]
  },
  {
   "cell_type": "markdown",
   "id": "e169c1d1",
   "metadata": {},
   "source": [
    "## 2. Basic Aer: Python based simulators"
   ]
  },
  {
   "cell_type": "markdown",
   "id": "40332d7e",
   "metadata": {},
   "source": [
    "REFERENCES:\n",
    "\n",
    "1. BasicAer backends:\n",
    "\n",
    "https://qiskit.org/documentation/stable/0.26/apidoc/providers_basicaer.html\n",
    "\n",
    "2. BasicAerProvider:\n",
    "\n",
    "https://qiskit.org/documentation/stable/0.26/stubs/qiskit.providers.basicaer.BasicAerProvider.html#qiskit.providers.basicaer.BasicAerProvider"
   ]
  },
  {
   "cell_type": "markdown",
   "id": "9a4f56a6",
   "metadata": {},
   "source": [
    "***\n",
    "# Python Based Simulators: available in Terra package\n",
    "***\n",
    "\n",
    "- qiskit.providers.basicaer : Module for python-based simulators\n",
    "- Simulators can be access through BasicAer"
   ]
  },
  {
   "cell_type": "code",
   "execution_count": 1,
   "id": "68d2f987",
   "metadata": {},
   "outputs": [],
   "source": [
    "from qiskit import BasicAer\n",
    "from qiskit.providers.basicaer import BasicAerProvider"
   ]
  },
  {
   "cell_type": "markdown",
   "id": "eeccdbc4",
   "metadata": {},
   "source": [
    "## 3 Types of Python based simulators available\n",
    "1. qasm simulator\n",
    "2. statevector simulator\n",
    "3. unitary simulator"
   ]
  },
  {
   "cell_type": "code",
   "execution_count": 2,
   "id": "58c9cc36",
   "metadata": {},
   "outputs": [],
   "source": [
    "backend_list=BasicAer.backends()"
   ]
  },
  {
   "cell_type": "code",
   "execution_count": 3,
   "id": "0e892cff",
   "metadata": {},
   "outputs": [
    {
     "data": {
      "text/plain": [
       "[<QasmSimulatorPy('qasm_simulator')>,\n",
       " <StatevectorSimulatorPy('statevector_simulator')>,\n",
       " <UnitarySimulatorPy('unitary_simulator')>]"
      ]
     },
     "execution_count": 3,
     "metadata": {},
     "output_type": "execute_result"
    }
   ],
   "source": [
    "backend_list"
   ]
  },
  {
   "cell_type": "code",
   "execution_count": 4,
   "id": "42e64112",
   "metadata": {},
   "outputs": [
    {
     "name": "stdout",
     "output_type": "stream",
     "text": [
      "qasm_simulator\n",
      "statevector_simulator\n",
      "unitary_simulator\n"
     ]
    }
   ],
   "source": [
    "for name in backend_list:\n",
    "    print(name)"
   ]
  },
  {
   "cell_type": "markdown",
   "id": "fff91c79",
   "metadata": {},
   "source": [
    "### To access a particular simulator: Use get_backend method"
   ]
  },
  {
   "cell_type": "code",
   "execution_count": 5,
   "id": "a27d95cf",
   "metadata": {},
   "outputs": [],
   "source": [
    "backend=BasicAer.get_backend('qasm_simulator')"
   ]
  },
  {
   "cell_type": "code",
   "execution_count": 6,
   "id": "2db6be2b",
   "metadata": {},
   "outputs": [
    {
     "data": {
      "text/plain": [
       "<QasmSimulatorPy('qasm_simulator')>"
      ]
     },
     "execution_count": 6,
     "metadata": {},
     "output_type": "execute_result"
    }
   ],
   "source": [
    "backend"
   ]
  },
  {
   "cell_type": "code",
   "execution_count": 7,
   "id": "25b05535",
   "metadata": {},
   "outputs": [
    {
     "data": {
      "text/plain": [
       "'qasm_simulator'"
      ]
     },
     "execution_count": 7,
     "metadata": {},
     "output_type": "execute_result"
    }
   ],
   "source": [
    "backend.name()"
   ]
  },
  {
   "cell_type": "markdown",
   "id": "7178c010",
   "metadata": {},
   "source": [
    "### We can also access a particular backend : use backends(name='backend name ')"
   ]
  },
  {
   "cell_type": "code",
   "execution_count": 8,
   "id": "4ee6bc7d",
   "metadata": {},
   "outputs": [],
   "source": [
    "backend=BasicAer.backends(name='qasm_simulator')"
   ]
  },
  {
   "cell_type": "code",
   "execution_count": 9,
   "id": "58b44169",
   "metadata": {},
   "outputs": [
    {
     "data": {
      "text/plain": [
       "[<QasmSimulatorPy('qasm_simulator')>]"
      ]
     },
     "execution_count": 9,
     "metadata": {},
     "output_type": "execute_result"
    }
   ],
   "source": [
    "backend"
   ]
  },
  {
   "cell_type": "markdown",
   "id": "077b582e",
   "metadata": {},
   "source": [
    "***\n",
    "# We can also access the simulators using BasicAer Provider\n",
    "***\n",
    "\n",
    "Reference:https://qiskit.org/documentation/stubs/qiskit.providers.basicaer.BasicAerProvider.html#qiskit.providers.basicaer.BasicAerProvider"
   ]
  },
  {
   "cell_type": "markdown",
   "id": "18031a21",
   "metadata": {},
   "source": [
    "# BasicAer Provider: Provider for Basic Aer backends\n",
    "    - backends\n",
    "    - get_backend()"
   ]
  },
  {
   "cell_type": "markdown",
   "id": "2dc755fe",
   "metadata": {},
   "source": [
    "### List all the available backends with BasicAerProvider"
   ]
  },
  {
   "cell_type": "code",
   "execution_count": 10,
   "id": "611f60b9",
   "metadata": {},
   "outputs": [],
   "source": [
    "provider=BasicAerProvider()\n",
    "backend_list=provider.backends()"
   ]
  },
  {
   "cell_type": "code",
   "execution_count": 11,
   "id": "1b4fa0aa",
   "metadata": {},
   "outputs": [
    {
     "data": {
      "text/plain": [
       "[<QasmSimulatorPy('qasm_simulator')>,\n",
       " <StatevectorSimulatorPy('statevector_simulator')>,\n",
       " <UnitarySimulatorPy('unitary_simulator')>]"
      ]
     },
     "execution_count": 11,
     "metadata": {},
     "output_type": "execute_result"
    }
   ],
   "source": [
    "backend_list"
   ]
  },
  {
   "cell_type": "code",
   "execution_count": 12,
   "id": "b7874cfc",
   "metadata": {},
   "outputs": [
    {
     "name": "stdout",
     "output_type": "stream",
     "text": [
      "qasm_simulator\n",
      "statevector_simulator\n",
      "unitary_simulator\n"
     ]
    }
   ],
   "source": [
    "for name in backend_list:\n",
    "    print(name)"
   ]
  },
  {
   "cell_type": "markdown",
   "id": "280c862a",
   "metadata": {},
   "source": [
    "### To access a particular backend with backends() method with the simulator name"
   ]
  },
  {
   "cell_type": "code",
   "execution_count": 13,
   "id": "c36de89a",
   "metadata": {},
   "outputs": [],
   "source": [
    "backend=provider.backends(name='qasm_simulator')"
   ]
  },
  {
   "cell_type": "code",
   "execution_count": 14,
   "id": "03e8ce36",
   "metadata": {},
   "outputs": [
    {
     "data": {
      "text/plain": [
       "[<QasmSimulatorPy('qasm_simulator')>]"
      ]
     },
     "execution_count": 14,
     "metadata": {},
     "output_type": "execute_result"
    }
   ],
   "source": [
    "backend"
   ]
  },
  {
   "cell_type": "markdown",
   "id": "590ae2dc",
   "metadata": {},
   "source": [
    "### To use get_backend() to access a particular simulator"
   ]
  },
  {
   "cell_type": "code",
   "execution_count": 15,
   "id": "b80d75a5",
   "metadata": {},
   "outputs": [],
   "source": [
    "backend=provider.get_backend('qasm_simulator')"
   ]
  },
  {
   "cell_type": "code",
   "execution_count": 16,
   "id": "91846aab",
   "metadata": {},
   "outputs": [
    {
     "data": {
      "text/plain": [
       "<QasmSimulatorPy('qasm_simulator')>"
      ]
     },
     "execution_count": 16,
     "metadata": {},
     "output_type": "execute_result"
    }
   ],
   "source": [
    "backend"
   ]
  },
  {
   "cell_type": "code",
   "execution_count": 17,
   "id": "e2925a53",
   "metadata": {},
   "outputs": [
    {
     "data": {
      "text/plain": [
       "'qasm_simulator'"
      ]
     },
     "execution_count": 17,
     "metadata": {},
     "output_type": "execute_result"
    }
   ],
   "source": [
    "backend.name()"
   ]
  },
  {
   "cell_type": "markdown",
   "id": "6b6417a7",
   "metadata": {},
   "source": [
    "# Point to be remember: How to access qasm_simulator (following are different ways)"
   ]
  },
  {
   "cell_type": "markdown",
   "id": "ee87c7ee",
   "metadata": {},
   "source": [
    "## 1. Using BasicAer"
   ]
  },
  {
   "cell_type": "code",
   "execution_count": 18,
   "id": "ec6690a9",
   "metadata": {},
   "outputs": [],
   "source": [
    "backend=BasicAer.backends(name='qasm_simulator')"
   ]
  },
  {
   "cell_type": "code",
   "execution_count": 19,
   "id": "ad4eacf1",
   "metadata": {},
   "outputs": [
    {
     "data": {
      "text/plain": [
       "[<QasmSimulatorPy('qasm_simulator')>]"
      ]
     },
     "execution_count": 19,
     "metadata": {},
     "output_type": "execute_result"
    }
   ],
   "source": [
    "backend"
   ]
  },
  {
   "cell_type": "code",
   "execution_count": 20,
   "id": "4aaf5b52",
   "metadata": {},
   "outputs": [],
   "source": [
    "backend=BasicAer.get_backend('qasm_simulator')"
   ]
  },
  {
   "cell_type": "code",
   "execution_count": 21,
   "id": "83fb7bc7",
   "metadata": {},
   "outputs": [
    {
     "data": {
      "text/plain": [
       "<QasmSimulatorPy('qasm_simulator')>"
      ]
     },
     "execution_count": 21,
     "metadata": {},
     "output_type": "execute_result"
    }
   ],
   "source": [
    "backend"
   ]
  },
  {
   "cell_type": "code",
   "execution_count": 22,
   "id": "8a6f8b05",
   "metadata": {},
   "outputs": [
    {
     "data": {
      "text/plain": [
       "'qasm_simulator'"
      ]
     },
     "execution_count": 22,
     "metadata": {},
     "output_type": "execute_result"
    }
   ],
   "source": [
    "backend.name()"
   ]
  },
  {
   "cell_type": "markdown",
   "id": "ac1752f5",
   "metadata": {},
   "source": [
    "## 2. Using BasicAerProvider"
   ]
  },
  {
   "cell_type": "code",
   "execution_count": 23,
   "id": "0651a719",
   "metadata": {},
   "outputs": [],
   "source": [
    "provider=BasicAerProvider()\n",
    "backend=provider.backends(name='qasm_simulator')"
   ]
  },
  {
   "cell_type": "code",
   "execution_count": 24,
   "id": "21577af7",
   "metadata": {},
   "outputs": [
    {
     "data": {
      "text/plain": [
       "[<QasmSimulatorPy('qasm_simulator')>]"
      ]
     },
     "execution_count": 24,
     "metadata": {},
     "output_type": "execute_result"
    }
   ],
   "source": [
    "backend"
   ]
  },
  {
   "cell_type": "code",
   "execution_count": 25,
   "id": "e48f1263",
   "metadata": {},
   "outputs": [],
   "source": [
    "backend=provider.get_backend('qasm_simulator')"
   ]
  },
  {
   "cell_type": "code",
   "execution_count": 26,
   "id": "42064b9c",
   "metadata": {},
   "outputs": [
    {
     "data": {
      "text/plain": [
       "<QasmSimulatorPy('qasm_simulator')>"
      ]
     },
     "execution_count": 26,
     "metadata": {},
     "output_type": "execute_result"
    }
   ],
   "source": [
    "backend"
   ]
  },
  {
   "cell_type": "code",
   "execution_count": 27,
   "id": "e72c63b6",
   "metadata": {},
   "outputs": [
    {
     "data": {
      "text/plain": [
       "'qasm_simulator'"
      ]
     },
     "execution_count": 27,
     "metadata": {},
     "output_type": "execute_result"
    }
   ],
   "source": [
    "backend.name()"
   ]
  },
  {
   "cell_type": "markdown",
   "id": "61a70a08",
   "metadata": {},
   "source": [
    "## 3. Using QasmSimulatorPy()"
   ]
  },
  {
   "cell_type": "code",
   "execution_count": 28,
   "id": "74d2a2fc",
   "metadata": {},
   "outputs": [],
   "source": [
    "from qiskit.providers.basicaer import QasmSimulatorPy\n"
   ]
  },
  {
   "cell_type": "code",
   "execution_count": 29,
   "id": "96cc8410",
   "metadata": {},
   "outputs": [],
   "source": [
    "backend=QasmSimulatorPy()"
   ]
  },
  {
   "cell_type": "code",
   "execution_count": 30,
   "id": "fad21a96",
   "metadata": {},
   "outputs": [
    {
     "data": {
      "text/plain": [
       "<QasmSimulatorPy('qasm_simulator')>"
      ]
     },
     "execution_count": 30,
     "metadata": {},
     "output_type": "execute_result"
    }
   ],
   "source": [
    "backend"
   ]
  },
  {
   "cell_type": "code",
   "execution_count": 31,
   "id": "0a9d0904",
   "metadata": {},
   "outputs": [
    {
     "data": {
      "text/plain": [
       "'qasm_simulator'"
      ]
     },
     "execution_count": 31,
     "metadata": {},
     "output_type": "execute_result"
    }
   ],
   "source": [
    "backend.name()"
   ]
  }
 ],
 "metadata": {
  "kernelspec": {
   "display_name": "Python 3 (ipykernel)",
   "language": "python",
   "name": "python3"
  },
  "language_info": {
   "codemirror_mode": {
    "name": "ipython",
    "version": 3
   },
   "file_extension": ".py",
   "mimetype": "text/x-python",
   "name": "python",
   "nbconvert_exporter": "python",
   "pygments_lexer": "ipython3",
   "version": "3.9.12"
  }
 },
 "nbformat": 4,
 "nbformat_minor": 5
}
