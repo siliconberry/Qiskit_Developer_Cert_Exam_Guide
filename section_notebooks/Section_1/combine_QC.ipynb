{
 "cells": [
  {
   "cell_type": "markdown",
   "id": "ae55c40b",
   "metadata": {},
   "source": [
    "# How can we combine quantum circuits ?\n",
    "\n",
    "1. using the string concantenate operator '+'\n",
    "2. compose()\n",
    "\n",
    "\n",
    "REFERENCES:\n",
    "\n",
    "https://www.youtube.com/watch?v=3ja8uCqUS0s\n",
    "\n",
    "https://qiskit.org/documentation/stubs/qiskit.circuit.QuantumCircuit.compose.html#qiskit.circuit.QuantumCircuit.compose\n",
    "\n",
    "---"
   ]
  },
  {
   "cell_type": "code",
   "execution_count": 1,
   "id": "2c61f3d7",
   "metadata": {},
   "outputs": [],
   "source": [
    "from qiskit import *"
   ]
  },
  {
   "cell_type": "markdown",
   "id": "4a2e66b8",
   "metadata": {},
   "source": [
    "## Add the quantum circuits"
   ]
  },
  {
   "cell_type": "code",
   "execution_count": 2,
   "id": "429568d1",
   "metadata": {},
   "outputs": [],
   "source": [
    "qc1=QuantumCircuit(2,2)\n",
    "qc2=QuantumCircuit(3,3)\n",
    "#qc=qc1+qc2\n",
    "#qc.draw()\n",
    "#Note: circuits are incompatible"
   ]
  },
  {
   "cell_type": "markdown",
   "id": "8b09ff07",
   "metadata": {},
   "source": [
    "## using the string concantenate operator'+'"
   ]
  },
  {
   "cell_type": "code",
   "execution_count": 3,
   "id": "c787dab7",
   "metadata": {},
   "outputs": [
    {
     "data": {
      "text/plain": [
       "<qiskit.circuit.instructionset.InstructionSet at 0x7fadc6190960>"
      ]
     },
     "execution_count": 3,
     "metadata": {},
     "output_type": "execute_result"
    }
   ],
   "source": [
    "qc1=QuantumCircuit(2,2)\n",
    "qc1.h(0)\n",
    "qc1.s(1)\n",
    "qc2=QuantumCircuit(2,2)\n",
    "qc2.x(1)\n",
    "qc2.cx(0,1)\n"
   ]
  },
  {
   "cell_type": "code",
   "execution_count": 4,
   "id": "ec4c05d0",
   "metadata": {},
   "outputs": [
    {
     "data": {
      "image/png": "[encoded data removed]",
      "text/plain": [
       "<Figure size 146.652x204.68 with 1 Axes>"
      ]
     },
     "execution_count": 4,
     "metadata": {},
     "output_type": "execute_result"
    }
   ],
   "source": [
    "qc1.draw(output='mpl')"
   ]
  },
  {
   "cell_type": "code",
   "execution_count": 5,
   "id": "08306f2f",
   "metadata": {},
   "outputs": [
    {
     "data": {
      "image/png": "[encoded data removed]",
      "text/plain": [
       "<Figure size 206.852x204.68 with 1 Axes>"
      ]
     },
     "execution_count": 5,
     "metadata": {},
     "output_type": "execute_result"
    }
   ],
   "source": [
    "qc2.draw(output='mpl')"
   ]
  },
  {
   "cell_type": "code",
   "execution_count": 6,
   "id": "b1569d28",
   "metadata": {},
   "outputs": [
    {
     "name": "stderr",
     "output_type": "stream",
     "text": [
      "/Users/dimplebavlecha/opt/anaconda3/lib/python3.7/site-packages/ipykernel_launcher.py:1: DeprecationWarning: The QuantumCircuit.__add__() method is being deprecated.Use the compose() method which is more flexible w.r.t circuit register compatibility.\n",
      "  \"\"\"Entry point for launching an IPython kernel.\n"
     ]
    },
    {
     "data": {
      "image/png": "[encoded data removed]",
      "text/plain": [
       "<Figure size 267.052x204.68 with 1 Axes>"
      ]
     },
     "execution_count": 6,
     "metadata": {},
     "output_type": "execute_result"
    }
   ],
   "source": [
    "qc=qc1+qc2\n",
    "qc.draw(output='mpl')"
   ]
  },
  {
   "cell_type": "markdown",
   "id": "cd3c5031",
   "metadata": {},
   "source": [
    "## compose: lhs.compose(rhs)\n",
    "\n",
    "https://qiskit.org/documentation/stubs/qiskit.circuit.QuantumCircuit.compose.html#qiskit.circuit.QuantumCircuit.compose"
   ]
  },
  {
   "cell_type": "code",
   "execution_count": 7,
   "id": "62e49670",
   "metadata": {},
   "outputs": [
    {
     "data": {
      "image/png": "[encoded data removed]",
      "text/plain": [
       "<Figure size 146.652x204.68 with 1 Axes>"
      ]
     },
     "execution_count": 7,
     "metadata": {},
     "output_type": "execute_result"
    }
   ],
   "source": [
    "qc1=QuantumCircuit(2,2)\n",
    "qc1.h(0)\n",
    "qc1.s(1)\n",
    "qc1.draw(output='mpl')"
   ]
  },
  {
   "cell_type": "code",
   "execution_count": 8,
   "id": "989890ae",
   "metadata": {},
   "outputs": [
    {
     "data": {
      "image/png": "[encoded data removed]",
      "text/plain": [
       "<Figure size 206.997x264.88 with 1 Axes>"
      ]
     },
     "execution_count": 8,
     "metadata": {},
     "output_type": "execute_result"
    }
   ],
   "source": [
    "qc2=QuantumCircuit(3,3)\n",
    "qc2.x(1)\n",
    "qc2.cx(0,2)\n",
    "qc2.draw(output='mpl')"
   ]
  },
  {
   "cell_type": "code",
   "execution_count": 9,
   "id": "9ebc7cbc",
   "metadata": {},
   "outputs": [
    {
     "data": {
      "image/png": "[encoded data removed]",
      "text/plain": [
       "<Figure size 267.197x264.88 with 1 Axes>"
      ]
     },
     "execution_count": 9,
     "metadata": {},
     "output_type": "execute_result"
    }
   ],
   "source": [
    "# rhs added to lhs\n",
    "qc=qc2.compose(qc1)\n",
    "qc.draw(output='mpl')"
   ]
  },
  {
   "cell_type": "code",
   "execution_count": 10,
   "id": "d0e65870",
   "metadata": {},
   "outputs": [
    {
     "data": {
      "text/plain": [
       "3"
      ]
     },
     "execution_count": 10,
     "metadata": {},
     "output_type": "execute_result"
    }
   ],
   "source": [
    "qc.num_qubits"
   ]
  },
  {
   "cell_type": "code",
   "execution_count": 11,
   "id": "ff7ddc19",
   "metadata": {},
   "outputs": [
    {
     "data": {
      "text/plain": [
       "qiskit.circuit.quantumcircuit.QuantumCircuit"
      ]
     },
     "execution_count": 11,
     "metadata": {},
     "output_type": "execute_result"
    }
   ],
   "source": [
    "# If inplace attribute is not included , then it returns QuantumCircuit\n",
    "type(qc2.compose(qc1))"
   ]
  },
  {
   "cell_type": "markdown",
   "id": "efc0e3dc",
   "metadata": {},
   "source": [
    "## parameter: inplace"
   ]
  },
  {
   "cell_type": "code",
   "execution_count": 12,
   "id": "acf5da88",
   "metadata": {},
   "outputs": [
    {
     "data": {
      "image/png": "[encoded data removed]",
      "text/plain": [
       "<Figure size 267.197x264.88 with 1 Axes>"
      ]
     },
     "execution_count": 12,
     "metadata": {},
     "output_type": "execute_result"
    }
   ],
   "source": [
    "qc1=QuantumCircuit(2,2)\n",
    "qc1.h(0)\n",
    "qc1.s(1)\n",
    "qc2=QuantumCircuit(3,3)\n",
    "qc2.x(1)\n",
    "qc2.cx(0,2)\n",
    "qc2.compose(qc1,inplace=True)\n",
    "qc2.draw(output='mpl')"
   ]
  },
  {
   "cell_type": "code",
   "execution_count": 13,
   "id": "4e4db2ff",
   "metadata": {},
   "outputs": [
    {
     "data": {
      "text/plain": [
       "qiskit.circuit.quantumcircuit.QuantumCircuit"
      ]
     },
     "execution_count": 13,
     "metadata": {},
     "output_type": "execute_result"
    }
   ],
   "source": [
    "type(qc2)"
   ]
  },
  {
   "cell_type": "code",
   "execution_count": 14,
   "id": "3fb0fd3b",
   "metadata": {},
   "outputs": [
    {
     "data": {
      "text/plain": [
       "3"
      ]
     },
     "execution_count": 14,
     "metadata": {},
     "output_type": "execute_result"
    }
   ],
   "source": [
    "qc2.num_qubits"
   ]
  },
  {
   "cell_type": "code",
   "execution_count": 15,
   "id": "b2667f3a",
   "metadata": {},
   "outputs": [
    {
     "data": {
      "text/plain": [
       "NoneType"
      ]
     },
     "execution_count": 15,
     "metadata": {},
     "output_type": "execute_result"
    }
   ],
   "source": [
    "# If inplace attribute is true , then it returns None\n",
    "type(qc2.compose(qc1,inplace=True))"
   ]
  },
  {
   "cell_type": "markdown",
   "id": "0df530ad",
   "metadata": {},
   "source": [
    "# One more parameters: qubits can be selected"
   ]
  },
  {
   "cell_type": "code",
   "execution_count": 16,
   "id": "a9f6dbc3",
   "metadata": {},
   "outputs": [
    {
     "data": {
      "image/png": "[encoded data removed]",
      "text/plain": [
       "<Figure size 267.197x264.88 with 1 Axes>"
      ]
     },
     "execution_count": 16,
     "metadata": {},
     "output_type": "execute_result"
    }
   ],
   "source": [
    "qc1=QuantumCircuit(2,2)\n",
    "qc1.h(0)\n",
    "qc1.s(1)\n",
    "qc2=QuantumCircuit(3,3)\n",
    "qc2.x(1)\n",
    "qc2.cx(0,2)\n",
    "qc2.compose(qc1,qubits=[2,1],inplace=True)\n",
    "qc2.draw(output='mpl')"
   ]
  },
  {
   "cell_type": "markdown",
   "id": "4961dc82",
   "metadata": {},
   "source": [
    "# one more example"
   ]
  },
  {
   "cell_type": "code",
   "execution_count": 17,
   "id": "21270267",
   "metadata": {},
   "outputs": [
    {
     "data": {
      "image/png": "[encoded data removed]",
      "text/plain": [
       "<Figure size 267.052x204.68 with 1 Axes>"
      ]
     },
     "execution_count": 17,
     "metadata": {},
     "output_type": "execute_result"
    }
   ],
   "source": [
    "qc=QuantumCircuit(2,2)\n",
    "qc.h(0)\n",
    "qc.cx(0,1)\n",
    "qc.x(1)\n",
    "qc.draw(output='mpl')"
   ]
  },
  {
   "cell_type": "code",
   "execution_count": 18,
   "id": "b54461d9",
   "metadata": {},
   "outputs": [
    {
     "data": {
      "image/png": "[encoded data removed]",
      "text/plain": [
       "<Figure size 297.479x204.68 with 1 Axes>"
      ]
     },
     "execution_count": 18,
     "metadata": {},
     "output_type": "execute_result"
    }
   ],
   "source": [
    "qc_meas=QuantumCircuit(2)\n",
    "qc_meas.measure_all()\n",
    "qc_meas.draw(output='mpl')"
   ]
  },
  {
   "cell_type": "code",
   "execution_count": 19,
   "id": "7de7710f",
   "metadata": {},
   "outputs": [],
   "source": [
    "qc.compose(qc_meas,inplace=True)"
   ]
  },
  {
   "cell_type": "code",
   "execution_count": 20,
   "id": "448b8ea3",
   "metadata": {},
   "outputs": [
    {
     "data": {
      "image/png": "[encoded data removed]",
      "text/plain": [
       "<Figure size 447.652x204.68 with 1 Axes>"
      ]
     },
     "execution_count": 20,
     "metadata": {},
     "output_type": "execute_result"
    }
   ],
   "source": [
    "qc.draw(output='mpl')"
   ]
  },
  {
   "cell_type": "code",
   "execution_count": null,
   "id": "41dd9ef3",
   "metadata": {},
   "outputs": [],
   "source": []
  }
 ],
 "metadata": {
  "kernelspec": {
   "display_name": "Python 3 (ipykernel)",
   "language": "python",
   "name": "python3"
  },
  "language_info": {
   "codemirror_mode": {
    "name": "ipython",
    "version": 3
   },
   "file_extension": ".py",
   "mimetype": "text/x-python",
   "name": "python",
   "nbconvert_exporter": "python",
   "pygments_lexer": "ipython3",
   "version": "3.9.12"
  }
 },
 "nbformat": 4,
 "nbformat_minor": 5
}
