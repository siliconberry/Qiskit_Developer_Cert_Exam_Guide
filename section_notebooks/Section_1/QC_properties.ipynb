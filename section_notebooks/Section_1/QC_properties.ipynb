{
 "cells": [
  {
   "cell_type": "markdown",
   "id": "da9cb869",
   "metadata": {},
   "source": [
    "# Properties of the Quantum Circuit:\n",
    "\n",
    "1. [Size](#Size_QC)\n",
    "2. [Width](#Width_QC)\n",
    "3. [Depth](#depth_QC)\n",
    "4. [number of qubits](#No_qubits_QC)\n",
    "5. [count the type of operations](#count_ops_QC)\n",
    "    \n",
    "Quantum Circuit (Quantum Circuit Properties : Supplementary section)\n",
    "\n",
    "Reference :\n",
    "        https://qiskit.org/documentation/apidoc/circuit.html?highlight=quantum%20circuit%20depth"
   ]
  },
  {
   "cell_type": "code",
   "execution_count": 1,
   "id": "2c8fe6d5",
   "metadata": {},
   "outputs": [],
   "source": [
    "from qiskit import *\n",
    "from qiskit.quantum_info import Statevector\n",
    "from math import pi"
   ]
  },
  {
   "cell_type": "markdown",
   "id": "3e9dbe14",
   "metadata": {},
   "source": [
    "## Example: "
   ]
  },
  {
   "cell_type": "code",
   "execution_count": 2,
   "id": "6473bbc2",
   "metadata": {},
   "outputs": [
    {
     "data": {
      "image/png": "[encoded data removed]",
      "text/plain": [
       "<Figure size 598.479x264.88 with 1 Axes>"
      ]
     },
     "execution_count": 2,
     "metadata": {},
     "output_type": "execute_result"
    }
   ],
   "source": [
    "qc=QuantumCircuit(3)\n",
    "qc.h(range(2))\n",
    "qc.x(2)\n",
    "qc.ccx(0,1,2)\n",
    "qc.ry(pi,0)\n",
    "qc.ch(1,2)\n",
    "qc.tdg(2)\n",
    "qc.cx(1,0)\n",
    "qc.measure_all()\n",
    "qc.draw(output=\"mpl\")"
   ]
  },
  {
   "cell_type": "code",
   "execution_count": 3,
   "id": "c889343e",
   "metadata": {},
   "outputs": [
    {
     "data": {
      "text/plain": [
       "11"
      ]
     },
     "execution_count": 3,
     "metadata": {},
     "output_type": "execute_result"
    }
   ],
   "source": [
    "qc.size()"
   ]
  },
  {
   "cell_type": "code",
   "execution_count": 4,
   "id": "2ca239e3",
   "metadata": {},
   "outputs": [
    {
     "data": {
      "text/plain": [
       "6"
      ]
     },
     "execution_count": 4,
     "metadata": {},
     "output_type": "execute_result"
    }
   ],
   "source": [
    "qc.width()"
   ]
  },
  {
   "cell_type": "code",
   "execution_count": 5,
   "id": "ac2ed4c6",
   "metadata": {},
   "outputs": [
    {
     "data": {
      "text/plain": [
       "5"
      ]
     },
     "execution_count": 5,
     "metadata": {},
     "output_type": "execute_result"
    }
   ],
   "source": [
    "qc.depth()"
   ]
  },
  {
   "cell_type": "code",
   "execution_count": 6,
   "id": "19f46aa4",
   "metadata": {},
   "outputs": [
    {
     "data": {
      "text/plain": [
       "3"
      ]
     },
     "execution_count": 6,
     "metadata": {},
     "output_type": "execute_result"
    }
   ],
   "source": [
    "qc.num_qubits"
   ]
  },
  {
   "cell_type": "code",
   "execution_count": 7,
   "id": "c16a9341",
   "metadata": {},
   "outputs": [
    {
     "data": {
      "text/plain": [
       "OrderedDict([('measure', 3),\n",
       "             ('h', 2),\n",
       "             ('x', 1),\n",
       "             ('ccx', 1),\n",
       "             ('ry', 1),\n",
       "             ('ch', 1),\n",
       "             ('tdg', 1),\n",
       "             ('cx', 1),\n",
       "             ('barrier', 1)])"
      ]
     },
     "execution_count": 7,
     "metadata": {},
     "output_type": "execute_result"
    }
   ],
   "source": [
    "qc.count_ops()"
   ]
  },
  {
   "cell_type": "markdown",
   "id": "df6b31b5",
   "metadata": {},
   "source": [
    "# <a id = \"Size_QC\"> Circuit Size </a>\n",
    "\n",
    "### returns the number of instructions in the circuit \n",
    "### barrier is not included in the count\n",
    "\n",
    "Reference : \n",
    "https://qiskit.org/documentation/stubs/qiskit.circuit.QuantumCircuit.size.html#qiskit.circuit.QuantumCircuit.size"
   ]
  },
  {
   "cell_type": "code",
   "execution_count": 8,
   "id": "4b462c37",
   "metadata": {},
   "outputs": [
    {
     "data": {
      "image/png": "[encoded data removed]",
      "text/plain": [
       "<Figure size 598.479x264.88 with 1 Axes>"
      ]
     },
     "execution_count": 8,
     "metadata": {},
     "output_type": "execute_result"
    }
   ],
   "source": [
    "qc=QuantumCircuit(3)\n",
    "qc.h(range(2))\n",
    "qc.x(2)\n",
    "qc.ccx(0,1,2)\n",
    "qc.ry(pi,0)\n",
    "qc.ch(1,2)\n",
    "qc.tdg(2)\n",
    "qc.cx(1,0)\n",
    "qc.measure_all()\n",
    "qc.draw(output=\"mpl\")"
   ]
  },
  {
   "cell_type": "code",
   "execution_count": 9,
   "id": "e7ee10f8",
   "metadata": {},
   "outputs": [
    {
     "data": {
      "text/plain": [
       "11"
      ]
     },
     "execution_count": 9,
     "metadata": {},
     "output_type": "execute_result"
    }
   ],
   "source": [
    "qc.size()"
   ]
  },
  {
   "cell_type": "markdown",
   "id": "af015b39",
   "metadata": {},
   "source": [
    "# <a id = \"Width_QC\"> Circuit Width </a>\n",
    "\n",
    "### returns the number of quantum and classical bits in the circuit \n",
    "\n",
    "Reference : \n",
    "https://qiskit.org/documentation/stubs/qiskit.circuit.QuantumCircuit.width.html#qiskit.circuit.QuantumCircuit.width"
   ]
  },
  {
   "cell_type": "code",
   "execution_count": 10,
   "id": "0e7cc142",
   "metadata": {},
   "outputs": [
    {
     "data": {
      "image/png": "[encoded data removed]",
      "text/plain": [
       "<Figure size 598.479x264.88 with 1 Axes>"
      ]
     },
     "execution_count": 10,
     "metadata": {},
     "output_type": "execute_result"
    }
   ],
   "source": [
    "qc=QuantumCircuit(3)\n",
    "qc.h(range(2))\n",
    "qc.x(2)\n",
    "qc.ccx(0,1,2)\n",
    "qc.ry(pi,0)\n",
    "qc.ch(1,2)\n",
    "qc.tdg(2)\n",
    "qc.cx(1,0)\n",
    "qc.measure_all()\n",
    "qc.draw(output=\"mpl\")"
   ]
  },
  {
   "cell_type": "code",
   "execution_count": 11,
   "id": "2acb09d7",
   "metadata": {},
   "outputs": [
    {
     "data": {
      "text/plain": [
       "6"
      ]
     },
     "execution_count": 11,
     "metadata": {},
     "output_type": "execute_result"
    }
   ],
   "source": [
    "qc.width()"
   ]
  },
  {
   "cell_type": "markdown",
   "id": "2721baba",
   "metadata": {},
   "source": [
    "### Number of quantum bits"
   ]
  },
  {
   "cell_type": "code",
   "execution_count": 12,
   "id": "a089a8b3",
   "metadata": {},
   "outputs": [
    {
     "data": {
      "text/plain": [
       "[QuantumRegister(3, 'q')]"
      ]
     },
     "execution_count": 12,
     "metadata": {},
     "output_type": "execute_result"
    }
   ],
   "source": [
    "qc.qregs"
   ]
  },
  {
   "cell_type": "code",
   "execution_count": 13,
   "id": "7e88685d",
   "metadata": {},
   "outputs": [
    {
     "data": {
      "text/plain": [
       "[Qubit(QuantumRegister(3, 'q'), 0),\n",
       " Qubit(QuantumRegister(3, 'q'), 1),\n",
       " Qubit(QuantumRegister(3, 'q'), 2)]"
      ]
     },
     "execution_count": 13,
     "metadata": {},
     "output_type": "execute_result"
    }
   ],
   "source": [
    "qc.qubits"
   ]
  },
  {
   "cell_type": "code",
   "execution_count": 14,
   "id": "e36c6368",
   "metadata": {},
   "outputs": [
    {
     "data": {
      "text/plain": [
       "3"
      ]
     },
     "execution_count": 14,
     "metadata": {},
     "output_type": "execute_result"
    }
   ],
   "source": [
    "qc.num_qubits"
   ]
  },
  {
   "cell_type": "markdown",
   "id": "4982b80e",
   "metadata": {},
   "source": [
    "### Number of classical bits"
   ]
  },
  {
   "cell_type": "code",
   "execution_count": 15,
   "id": "f069fc1f",
   "metadata": {},
   "outputs": [
    {
     "data": {
      "text/plain": [
       "[ClassicalRegister(3, 'meas')]"
      ]
     },
     "execution_count": 15,
     "metadata": {},
     "output_type": "execute_result"
    }
   ],
   "source": [
    "qc.cregs"
   ]
  },
  {
   "cell_type": "code",
   "execution_count": 16,
   "id": "8eacfcba",
   "metadata": {},
   "outputs": [
    {
     "data": {
      "text/plain": [
       "[Clbit(ClassicalRegister(3, 'meas'), 0),\n",
       " Clbit(ClassicalRegister(3, 'meas'), 1),\n",
       " Clbit(ClassicalRegister(3, 'meas'), 2)]"
      ]
     },
     "execution_count": 16,
     "metadata": {},
     "output_type": "execute_result"
    }
   ],
   "source": [
    "qc.clbits"
   ]
  },
  {
   "cell_type": "code",
   "execution_count": 17,
   "id": "7b697af3",
   "metadata": {},
   "outputs": [
    {
     "data": {
      "text/plain": [
       "3"
      ]
     },
     "execution_count": 17,
     "metadata": {},
     "output_type": "execute_result"
    }
   ],
   "source": [
    "qc.num_clbits"
   ]
  },
  {
   "cell_type": "markdown",
   "id": "68cb2398",
   "metadata": {},
   "source": [
    "# <a id = \"depth_QC\"> Circuit depth </a>\n",
    "\n"
   ]
  },
  {
   "cell_type": "markdown",
   "id": "40ef4f31",
   "metadata": {},
   "source": [
    "Reference : https://qiskit.org/documentation/stubs/qiskit.circuit.QuantumCircuit.depth.html"
   ]
  },
  {
   "cell_type": "markdown",
   "id": "b5e0e332",
   "metadata": {},
   "source": [
    "### Let's take a 1-qubit example"
   ]
  },
  {
   "cell_type": "code",
   "execution_count": 18,
   "id": "be64ef83",
   "metadata": {},
   "outputs": [
    {
     "data": {
      "image/png": "[encoded data removed]",
      "text/plain": [
       "<Figure size 133.526x84.28 with 1 Axes>"
      ]
     },
     "execution_count": 18,
     "metadata": {},
     "output_type": "execute_result"
    }
   ],
   "source": [
    "qc=QuantumCircuit(1)\n",
    "qc.h(0)\n",
    "qc.draw(output=\"mpl\")"
   ]
  },
  {
   "cell_type": "code",
   "execution_count": 19,
   "id": "4c4dea61",
   "metadata": {},
   "outputs": [
    {
     "data": {
      "text/plain": [
       "1"
      ]
     },
     "execution_count": 19,
     "metadata": {},
     "output_type": "execute_result"
    }
   ],
   "source": [
    "qc.depth()"
   ]
  },
  {
   "cell_type": "code",
   "execution_count": 20,
   "id": "bc8ff49a",
   "metadata": {},
   "outputs": [
    {
     "data": {
      "image/png": "[encoded data removed]",
      "text/plain": [
       "<Figure size 193.726x84.28 with 1 Axes>"
      ]
     },
     "execution_count": 20,
     "metadata": {},
     "output_type": "execute_result"
    }
   ],
   "source": [
    "qc=QuantumCircuit(1)\n",
    "qc.h(0)\n",
    "qc.y(0)\n",
    "qc.draw(output=\"mpl\")"
   ]
  },
  {
   "cell_type": "code",
   "execution_count": 21,
   "id": "594fbab8",
   "metadata": {},
   "outputs": [
    {
     "data": {
      "text/plain": [
       "2"
      ]
     },
     "execution_count": 21,
     "metadata": {},
     "output_type": "execute_result"
    }
   ],
   "source": [
    "qc.depth()"
   ]
  },
  {
   "cell_type": "code",
   "execution_count": 22,
   "id": "bf3ded4d",
   "metadata": {},
   "outputs": [
    {
     "data": {
      "image/png": "[encoded data removed]",
      "text/plain": [
       "<Figure size 253.926x84.28 with 1 Axes>"
      ]
     },
     "execution_count": 22,
     "metadata": {},
     "output_type": "execute_result"
    }
   ],
   "source": [
    "#Let's apply a barrier gate with no arguments\n",
    "qc=QuantumCircuit(1)\n",
    "qc.h(0)\n",
    "qc.h(0)\n",
    "qc.y(0)\n",
    "qc.draw(output=\"mpl\")"
   ]
  },
  {
   "cell_type": "code",
   "execution_count": 23,
   "id": "e860d9a4",
   "metadata": {},
   "outputs": [
    {
     "data": {
      "text/plain": [
       "3"
      ]
     },
     "execution_count": 23,
     "metadata": {},
     "output_type": "execute_result"
    }
   ],
   "source": [
    "qc.depth()"
   ]
  },
  {
   "cell_type": "markdown",
   "id": "4cfd5f6b",
   "metadata": {},
   "source": [
    "### IMP: \n",
    "    - Depth doesn't count the number of gates present in the qubit\n",
    "    "
   ]
  },
  {
   "cell_type": "markdown",
   "id": "c8cc96d7",
   "metadata": {},
   "source": [
    "# Let's take a 3-qubit example and see the results for the depth"
   ]
  },
  {
   "cell_type": "code",
   "execution_count": 24,
   "id": "6dc25166",
   "metadata": {},
   "outputs": [
    {
     "data": {
      "image/png": "[encoded data removed]",
      "text/plain": [
       "<Figure size 146.797x204.68 with 1 Axes>"
      ]
     },
     "execution_count": 24,
     "metadata": {},
     "output_type": "execute_result"
    }
   ],
   "source": [
    "qc=QuantumCircuit(3)\n",
    "qc.h(range(2))\n",
    "qc.x(2)\n",
    "qc.draw(output=\"mpl\")"
   ]
  },
  {
   "cell_type": "code",
   "execution_count": 25,
   "id": "69b6c338",
   "metadata": {},
   "outputs": [
    {
     "data": {
      "text/plain": [
       "1"
      ]
     },
     "execution_count": 25,
     "metadata": {},
     "output_type": "execute_result"
    }
   ],
   "source": [
    "qc.depth()"
   ]
  },
  {
   "cell_type": "code",
   "execution_count": 26,
   "id": "e7bbb225",
   "metadata": {},
   "outputs": [
    {
     "data": {
      "image/png": "[encoded data removed]",
      "text/plain": [
       "<Figure size 206.997x204.68 with 1 Axes>"
      ]
     },
     "execution_count": 26,
     "metadata": {},
     "output_type": "execute_result"
    }
   ],
   "source": [
    "qc=QuantumCircuit(3)\n",
    "qc.h(range(2))\n",
    "qc.x(2)\n",
    "qc.ccx(0,1,2)\n",
    "qc.draw(output=\"mpl\")"
   ]
  },
  {
   "cell_type": "code",
   "execution_count": 27,
   "id": "02184e91",
   "metadata": {},
   "outputs": [
    {
     "data": {
      "text/plain": [
       "2"
      ]
     },
     "execution_count": 27,
     "metadata": {},
     "output_type": "execute_result"
    }
   ],
   "source": [
    "qc.depth()"
   ]
  },
  {
   "cell_type": "code",
   "execution_count": 28,
   "id": "69591943",
   "metadata": {},
   "outputs": [
    {
     "data": {
      "image/png": "[encoded data removed]",
      "text/plain": [
       "<Figure size 267.197x204.68 with 1 Axes>"
      ]
     },
     "execution_count": 28,
     "metadata": {},
     "output_type": "execute_result"
    }
   ],
   "source": [
    "qc=QuantumCircuit(3)\n",
    "qc.h(range(2))\n",
    "qc.x(2)\n",
    "qc.ccx(0,1,2)\n",
    "qc.ry(pi,0)\n",
    "qc.ch(1,2)\n",
    "qc.draw(output=\"mpl\")"
   ]
  },
  {
   "cell_type": "code",
   "execution_count": 29,
   "id": "468fb38c",
   "metadata": {},
   "outputs": [
    {
     "data": {
      "text/plain": [
       "3"
      ]
     },
     "execution_count": 29,
     "metadata": {},
     "output_type": "execute_result"
    }
   ],
   "source": [
    "qc.depth()"
   ]
  },
  {
   "cell_type": "code",
   "execution_count": 30,
   "id": "cb55b385",
   "metadata": {},
   "outputs": [
    {
     "data": {
      "image/png": "[encoded data removed]",
      "text/plain": [
       "<Figure size 327.397x204.68 with 1 Axes>"
      ]
     },
     "execution_count": 30,
     "metadata": {},
     "output_type": "execute_result"
    }
   ],
   "source": [
    "qc=QuantumCircuit(3)\n",
    "qc.h(range(2))\n",
    "qc.x(2)\n",
    "qc.ccx(0,1,2)\n",
    "qc.ry(pi,0)\n",
    "qc.ch(1,2)\n",
    "qc.tdg(2)\n",
    "qc.draw(output=\"mpl\")"
   ]
  },
  {
   "cell_type": "code",
   "execution_count": 31,
   "id": "f7d4918d",
   "metadata": {},
   "outputs": [
    {
     "data": {
      "text/plain": [
       "4"
      ]
     },
     "execution_count": 31,
     "metadata": {},
     "output_type": "execute_result"
    }
   ],
   "source": [
    "qc.depth()"
   ]
  },
  {
   "cell_type": "code",
   "execution_count": 32,
   "id": "b2381f9b",
   "metadata": {},
   "outputs": [
    {
     "data": {
      "image/png": "[encoded data removed]",
      "text/plain": [
       "<Figure size 327.397x204.68 with 1 Axes>"
      ]
     },
     "execution_count": 32,
     "metadata": {},
     "output_type": "execute_result"
    }
   ],
   "source": [
    "qc=QuantumCircuit(3)\n",
    "qc.h(range(2))\n",
    "qc.x(2)\n",
    "qc.ccx(0,1,2)\n",
    "qc.ry(pi,0)\n",
    "qc.ch(1,2)\n",
    "qc.tdg(2)\n",
    "qc.cx(1,0)\n",
    "qc.draw(output=\"mpl\")"
   ]
  },
  {
   "cell_type": "code",
   "execution_count": 33,
   "id": "2471a89e",
   "metadata": {},
   "outputs": [
    {
     "data": {
      "text/plain": [
       "4"
      ]
     },
     "execution_count": 33,
     "metadata": {},
     "output_type": "execute_result"
    }
   ],
   "source": [
    "qc.depth()"
   ]
  },
  {
   "cell_type": "code",
   "execution_count": 34,
   "id": "5b4cb226",
   "metadata": {},
   "outputs": [
    {
     "data": {
      "image/png": "[encoded data removed]",
      "text/plain": [
       "<Figure size 507.997x204.68 with 1 Axes>"
      ]
     },
     "execution_count": 34,
     "metadata": {},
     "output_type": "execute_result"
    }
   ],
   "source": [
    "qc=QuantumCircuit(3)\n",
    "qc.h(range(2))\n",
    "qc.x(2)\n",
    "qc.barrier()\n",
    "qc.ccx(0,1,2)\n",
    "qc.barrier()\n",
    "qc.ry(pi,0)\n",
    "qc.ch(1,2)\n",
    "qc.barrier()\n",
    "qc.tdg(2)\n",
    "qc.cx(1,0)\n",
    "qc.draw(output=\"mpl\")"
   ]
  },
  {
   "cell_type": "code",
   "execution_count": 35,
   "id": "cb0c3671",
   "metadata": {},
   "outputs": [
    {
     "data": {
      "text/plain": [
       "4"
      ]
     },
     "execution_count": 35,
     "metadata": {},
     "output_type": "execute_result"
    }
   ],
   "source": [
    "qc.depth()"
   ]
  },
  {
   "cell_type": "markdown",
   "id": "9b43eb20",
   "metadata": {},
   "source": [
    "### For the last layer in the above example we try to use barrier to separate 1-qubit and 2-qubit gates\n",
    "\n",
    "- In this case depth is 5 "
   ]
  },
  {
   "cell_type": "code",
   "execution_count": 36,
   "id": "045cf356",
   "metadata": {},
   "outputs": [
    {
     "data": {
      "image/png": "[encoded data removed]",
      "text/plain": [
       "<Figure size 628.397x204.68 with 1 Axes>"
      ]
     },
     "execution_count": 36,
     "metadata": {},
     "output_type": "execute_result"
    }
   ],
   "source": [
    "qc=QuantumCircuit(3)\n",
    "qc.h(range(2))\n",
    "qc.x(2)\n",
    "qc.barrier()\n",
    "qc.ccx(0,1,2)\n",
    "qc.barrier()\n",
    "qc.ry(pi,0)\n",
    "qc.ch(1,2)\n",
    "qc.barrier()\n",
    "qc.tdg(2)\n",
    "qc.barrier()\n",
    "qc.cx(1,0)\n",
    "qc.draw(output=\"mpl\")"
   ]
  },
  {
   "cell_type": "code",
   "execution_count": 37,
   "id": "dee2e037",
   "metadata": {},
   "outputs": [
    {
     "data": {
      "text/plain": [
       "5"
      ]
     },
     "execution_count": 37,
     "metadata": {},
     "output_type": "execute_result"
    }
   ],
   "source": [
    "qc.depth()"
   ]
  },
  {
   "cell_type": "markdown",
   "id": "f76d8d88",
   "metadata": {},
   "source": [
    "### Conclusion: \n",
    "\n",
    "- Depth returns the integer number for the number of quantum gates which can be excuted in parallel\n",
    "\n",
    "- We have use barrier to indicate the layers of the quantum circuit to be executed from input to output"
   ]
  },
  {
   "cell_type": "code",
   "execution_count": 38,
   "id": "e07fa8e4",
   "metadata": {},
   "outputs": [
    {
     "data": {
      "image/png": "[encoded data removed]",
      "text/plain": [
       "<Figure size 779.079x264.88 with 1 Axes>"
      ]
     },
     "execution_count": 38,
     "metadata": {},
     "output_type": "execute_result"
    }
   ],
   "source": [
    "qc=QuantumCircuit(3)\n",
    "qc.h(range(2))\n",
    "qc.x(2)\n",
    "qc.barrier()\n",
    "qc.ccx(0,1,2)\n",
    "qc.barrier()\n",
    "qc.ry(pi,0)\n",
    "qc.ch(1,2)\n",
    "qc.barrier()\n",
    "qc.tdg(2)\n",
    "qc.cx(1,0)\n",
    "qc.measure_all()\n",
    "qc.draw(output=\"mpl\")"
   ]
  },
  {
   "cell_type": "code",
   "execution_count": 39,
   "id": "65503b1b",
   "metadata": {},
   "outputs": [
    {
     "data": {
      "text/plain": [
       "5"
      ]
     },
     "execution_count": 39,
     "metadata": {},
     "output_type": "execute_result"
    }
   ],
   "source": [
    "qc.depth()"
   ]
  },
  {
   "cell_type": "markdown",
   "id": "681580d7",
   "metadata": {},
   "source": [
    "### Note: In the above example, measure is also included while calculating the depth of the circuit"
   ]
  },
  {
   "cell_type": "markdown",
   "id": "72b819ec",
   "metadata": {},
   "source": [
    "# <a id = \"No_qubits_QC\"> Number of qubits </a>\n",
    "\n",
    "### returns the number of quantum  bits in the circuit \n",
    "\n",
    "Reference : Quantum Circuit (attributes)\n",
    "https://qiskit.org/documentation/stubs/qiskit.circuit.QuantumCircuit.html\n",
    "\n",
    "1. qubits\n",
    "2. num_qubits"
   ]
  },
  {
   "cell_type": "code",
   "execution_count": 40,
   "id": "a9653d7d",
   "metadata": {},
   "outputs": [
    {
     "data": {
      "image/png": "[encoded data removed]",
      "text/plain": [
       "<Figure size 779.079x264.88 with 1 Axes>"
      ]
     },
     "execution_count": 40,
     "metadata": {},
     "output_type": "execute_result"
    }
   ],
   "source": [
    "qc=QuantumCircuit(3)\n",
    "qc.h(range(2))\n",
    "qc.x(2)\n",
    "qc.barrier()\n",
    "qc.ccx(0,1,2)\n",
    "qc.barrier()\n",
    "qc.ry(pi,0)\n",
    "qc.ch(1,2)\n",
    "qc.barrier()\n",
    "qc.tdg(2)\n",
    "qc.cx(1,0)\n",
    "qc.measure_all()\n",
    "qc.draw(output=\"mpl\")"
   ]
  },
  {
   "cell_type": "markdown",
   "id": "da70e870",
   "metadata": {},
   "source": [
    "### qubits: provides the list of qubits with the quantum register added"
   ]
  },
  {
   "cell_type": "code",
   "execution_count": 41,
   "id": "0f0b4df1",
   "metadata": {},
   "outputs": [
    {
     "data": {
      "text/plain": [
       "[Qubit(QuantumRegister(3, 'q'), 0),\n",
       " Qubit(QuantumRegister(3, 'q'), 1),\n",
       " Qubit(QuantumRegister(3, 'q'), 2)]"
      ]
     },
     "execution_count": 41,
     "metadata": {},
     "output_type": "execute_result"
    }
   ],
   "source": [
    "qc.qubits"
   ]
  },
  {
   "cell_type": "markdown",
   "id": "6e23b05c",
   "metadata": {},
   "source": [
    "### num_qubits : returns an integer value with the total number of qubits"
   ]
  },
  {
   "cell_type": "code",
   "execution_count": 42,
   "id": "bb8f0662",
   "metadata": {},
   "outputs": [
    {
     "data": {
      "text/plain": [
       "3"
      ]
     },
     "execution_count": 42,
     "metadata": {},
     "output_type": "execute_result"
    }
   ],
   "source": [
    "qc.num_qubits"
   ]
  },
  {
   "cell_type": "markdown",
   "id": "3b40947c",
   "metadata": {},
   "source": [
    "# <a id = \"count_ops_QC\"> Count of Operations </a>\n",
    "\n",
    "### returns the number of operations/instructions for each type in the circuit \n",
    "In the following example: \n",
    "- returns number of each gates\n",
    "- returns number of measurements\n",
    "- returns number of barrier\n",
    "\n",
    "Reference : Quantum Circuit (methods)\n",
    "\n",
    "https://qiskit.org/documentation/stubs/qiskit.circuit.QuantumCircuit.count_ops.html#qiskit.circuit.QuantumCircuit.count_ops\n",
    "\n"
   ]
  },
  {
   "cell_type": "code",
   "execution_count": 43,
   "id": "cd488726",
   "metadata": {},
   "outputs": [
    {
     "data": {
      "image/png": "[encoded data removed]",
      "text/plain": [
       "<Figure size 779.079x264.88 with 1 Axes>"
      ]
     },
     "execution_count": 43,
     "metadata": {},
     "output_type": "execute_result"
    }
   ],
   "source": [
    "qc=QuantumCircuit(3)\n",
    "qc.h(range(2))\n",
    "qc.x(2)\n",
    "qc.barrier()\n",
    "qc.ccx(0,1,2)\n",
    "qc.barrier()\n",
    "qc.ry(pi,0)\n",
    "qc.ch(1,2)\n",
    "qc.barrier()\n",
    "qc.tdg(2)\n",
    "qc.cx(1,0)\n",
    "qc.measure_all()\n",
    "qc.draw(output=\"mpl\")"
   ]
  },
  {
   "cell_type": "code",
   "execution_count": 44,
   "id": "39dde1d8",
   "metadata": {},
   "outputs": [
    {
     "data": {
      "text/plain": [
       "OrderedDict([('barrier', 4),\n",
       "             ('measure', 3),\n",
       "             ('h', 2),\n",
       "             ('x', 1),\n",
       "             ('ccx', 1),\n",
       "             ('ry', 1),\n",
       "             ('ch', 1),\n",
       "             ('tdg', 1),\n",
       "             ('cx', 1)])"
      ]
     },
     "execution_count": 44,
     "metadata": {},
     "output_type": "execute_result"
    }
   ],
   "source": [
    "qc.count_ops()"
   ]
  },
  {
   "cell_type": "code",
   "execution_count": null,
   "id": "26c5789c",
   "metadata": {},
   "outputs": [],
   "source": []
  }
 ],
 "metadata": {
  "kernelspec": {
   "display_name": "Python 3 (ipykernel)",
   "language": "python",
   "name": "python3"
  },
  "language_info": {
   "codemirror_mode": {
    "name": "ipython",
    "version": 3
   },
   "file_extension": ".py",
   "mimetype": "text/x-python",
   "name": "python",
   "nbconvert_exporter": "python",
   "pygments_lexer": "ipython3",
   "version": "3.9.12"
  }
 },
 "nbformat": 4,
 "nbformat_minor": 5
}
