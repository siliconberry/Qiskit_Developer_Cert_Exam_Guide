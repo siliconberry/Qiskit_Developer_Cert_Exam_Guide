{
 "cells": [
  {
   "cell_type": "markdown",
   "id": "b02eeea0",
   "metadata": {},
   "source": [
    "# Multiple Qubits  Quantum Registers "
   ]
  },
  {
   "cell_type": "markdown",
   "id": "5bd0cff8",
   "metadata": {},
   "source": [
    "References: \n",
    "\n",
    "1. Quantum Circuits:\n",
    "https://qiskit.org/documentation/stable/0.19/stubs/qiskit.circuit.QuantumCircuit.html#qiskit.circuit.QuantumCircuit\n",
    "\n",
    "2. Qiskit textbook Reference:\n",
    "https://qiskit.org/textbook/ch-gates/multiple-qubits-entangled-states.html\n",
    "\n",
    "3. Qiskit Documentation:\n",
    "https://qiskit.org/documentation/tutorials/circuits/3_summary_of_quantum_operations.html\n",
    "\n",
    "4. IBM Operations Glossary\n",
    "https://quantum-computing.ibm.com/composer/docs/iqx/operations_glossary\n",
    "\n",
    "5. https://qiskit.org/textbook/ch-appendix/qiskit.html"
   ]
  },
  {
   "cell_type": "markdown",
   "id": "477c4cc5",
   "metadata": {},
   "source": [
    "# 1. <a href=\".\\CReg_QReg.ipynb\"> Basics of Classical and Quantum Regsiters </a>\n",
    "\n",
    "# 2. Multiple Qubits  Quantum Registers\n",
    "\n"
   ]
  },
  {
   "cell_type": "markdown",
   "id": "9cb07480",
   "metadata": {},
   "source": [
    "***\n",
    "## - Create multiple quantum registers\n",
    "## - Ancilla Register\n",
    "## - add_resgister () from class QuantumCircuit\n",
    "***"
   ]
  },
  {
   "cell_type": "code",
   "execution_count": 2,
   "id": "051b5646",
   "metadata": {},
   "outputs": [],
   "source": [
    "from qiskit import QuantumCircuit,QuantumRegister,ClassicalRegister,AncillaRegister\n"
   ]
  },
  {
   "cell_type": "markdown",
   "id": "f8aa0fdc",
   "metadata": {},
   "source": [
    "# Quantum Register:\n",
    "\n",
    "Syntax: QuantumRegister(q,name=optional)\n",
    "\n",
    "q= number of quantum bits(qubits) \n",
    "    \n",
    "https://qiskit.org/documentation/stubs/qiskit.circuit.QuantumRegister.html\n",
    "\n",
    "https://qiskit.org/documentation/stable/0.19/stubs/qiskit.circuit.QuantumRegister.html#qiskit.circuit.QuantumRegister"
   ]
  },
  {
   "cell_type": "code",
   "execution_count": 2,
   "id": "aa017677",
   "metadata": {},
   "outputs": [],
   "source": [
    "q=QuantumRegister(2)\n",
    "q=QuantumRegister(2,'qr')"
   ]
  },
  {
   "cell_type": "markdown",
   "id": "12d41e4c",
   "metadata": {},
   "source": [
    "# Classical Register:\n",
    "\n",
    "Syntax: ClassicalRegister(c,name=optional)\n",
    "\n",
    "c= number of clasiical bits \n",
    "    \n",
    "https://qiskit.org/documentation/stubs/qiskit.circuit.ClassicalRegister.html#qiskit.circuit.ClassicalRegister\n",
    "\n",
    "https://qiskit.org/documentation/stable/0.19/stubs/qiskit.circuit.ClassicalRegister.html#qiskit.circuit.ClassicalRegister"
   ]
  },
  {
   "cell_type": "code",
   "execution_count": 3,
   "id": "e755e220",
   "metadata": {},
   "outputs": [],
   "source": [
    "c=ClassicalRegister(2)\n",
    "c=ClassicalRegister(2,'cr')"
   ]
  },
  {
   "cell_type": "markdown",
   "id": "022791d6",
   "metadata": {},
   "source": [
    "# QuantumCircuit\n",
    "\n",
    "SYNATX: QuantumCircuit(registers,name=optional)\n",
    "\n",
    "registers= quantum /classical registers to be include in the circuit\n",
    "\n",
    "- References:\n",
    "\n",
    "https://qiskit.org/textbook/ch-algorithms/defining-quantum-circuits.html\n",
    "\n",
    "https://qiskit.org/documentation/stable/0.19/apidoc/circuit.html\n",
    "\n",
    "https://qiskit.org/documentation/stable/0.19/stubs/qiskit.circuit.QuantumCircuit.html#qiskit.circuit.QuantumCircuit"
   ]
  },
  {
   "cell_type": "markdown",
   "id": "51bf6192",
   "metadata": {},
   "source": [
    "#  Create multiple quantum registers"
   ]
  },
  {
   "cell_type": "code",
   "execution_count": 4,
   "id": "e729b210",
   "metadata": {},
   "outputs": [
    {
     "data": {
      "image/png": "[encoded data removed]",
      "text/plain": [
       "<Figure size 138.623x385.28 with 1 Axes>"
      ]
     },
     "execution_count": 4,
     "metadata": {},
     "output_type": "execute_result"
    }
   ],
   "source": [
    "qr1=QuantumRegister(2,'qr_1')\n",
    "qr2=QuantumRegister(3,'qr_2')\n",
    "c=ClassicalRegister(2,'cr')\n",
    "qc=QuantumCircuit(qr1,qr2,c)\n",
    "qc.draw(output=\"mpl\")"
   ]
  },
  {
   "cell_type": "code",
   "execution_count": 5,
   "id": "7bc06b3b",
   "metadata": {},
   "outputs": [
    {
     "data": {
      "text/plain": [
       "7"
      ]
     },
     "execution_count": 5,
     "metadata": {},
     "output_type": "execute_result"
    }
   ],
   "source": [
    "qc.width()"
   ]
  },
  {
   "cell_type": "code",
   "execution_count": 6,
   "id": "4ba73090",
   "metadata": {},
   "outputs": [
    {
     "data": {
      "text/plain": [
       "[Qubit(QuantumRegister(2, 'qr_1'), 0),\n",
       " Qubit(QuantumRegister(2, 'qr_1'), 1),\n",
       " Qubit(QuantumRegister(3, 'qr_2'), 0),\n",
       " Qubit(QuantumRegister(3, 'qr_2'), 1),\n",
       " Qubit(QuantumRegister(3, 'qr_2'), 2)]"
      ]
     },
     "execution_count": 6,
     "metadata": {},
     "output_type": "execute_result"
    }
   ],
   "source": [
    "qc.qubits"
   ]
  },
  {
   "cell_type": "code",
   "execution_count": 7,
   "id": "13ec45c2",
   "metadata": {},
   "outputs": [
    {
     "data": {
      "text/plain": [
       "5"
      ]
     },
     "execution_count": 7,
     "metadata": {},
     "output_type": "execute_result"
    }
   ],
   "source": [
    "qc.num_qubits"
   ]
  },
  {
   "cell_type": "markdown",
   "id": "50f7caf5",
   "metadata": {},
   "source": [
    "## Ancilla Register\n",
    "\n",
    "https://en.wikipedia.org/wiki/Ancilla_bit\n",
    "    \n",
    "https://qiskit.org/documentation/stubs/qiskit.circuit.AncillaRegister.html"
   ]
  },
  {
   "cell_type": "code",
   "execution_count": 8,
   "id": "a8052de5",
   "metadata": {},
   "outputs": [
    {
     "data": {
      "image/png": "[encoded data removed]",
      "text/plain": [
       "<Figure size 138.332x385.28 with 1 Axes>"
      ]
     },
     "execution_count": 8,
     "metadata": {},
     "output_type": "execute_result"
    }
   ],
   "source": [
    "qr1=QuantumRegister(2,'qr_1')\n",
    "anc=AncillaRegister(3,'an')\n",
    "c=ClassicalRegister(2,'cr')\n",
    "qc=QuantumCircuit(qr1,anc,c)\n",
    "qc.draw(output=\"mpl\")"
   ]
  },
  {
   "cell_type": "code",
   "execution_count": 9,
   "id": "e8532c54",
   "metadata": {},
   "outputs": [
    {
     "data": {
      "text/plain": [
       "7"
      ]
     },
     "execution_count": 9,
     "metadata": {},
     "output_type": "execute_result"
    }
   ],
   "source": [
    "qc.width()"
   ]
  },
  {
   "cell_type": "code",
   "execution_count": 10,
   "id": "5f0641c2",
   "metadata": {},
   "outputs": [
    {
     "data": {
      "text/plain": [
       "5"
      ]
     },
     "execution_count": 10,
     "metadata": {},
     "output_type": "execute_result"
    }
   ],
   "source": [
    "qc.num_qubits"
   ]
  },
  {
   "cell_type": "code",
   "execution_count": 11,
   "id": "83d8f41b",
   "metadata": {},
   "outputs": [
    {
     "data": {
      "text/plain": [
       "2"
      ]
     },
     "execution_count": 11,
     "metadata": {},
     "output_type": "execute_result"
    }
   ],
   "source": [
    "qc.num_clbits"
   ]
  },
  {
   "cell_type": "markdown",
   "id": "383c4626",
   "metadata": {},
   "source": [
    "## Note: \n",
    "   ancilla bits are the part of qunatum register when we count the total number of qubits"
   ]
  },
  {
   "cell_type": "code",
   "execution_count": 12,
   "id": "450df178",
   "metadata": {},
   "outputs": [
    {
     "data": {
      "text/plain": [
       "[Qubit(QuantumRegister(2, 'qr_1'), 0),\n",
       " Qubit(QuantumRegister(2, 'qr_1'), 1),\n",
       " AncillaQubit(AncillaRegister(3, 'an'), 0),\n",
       " AncillaQubit(AncillaRegister(3, 'an'), 1),\n",
       " AncillaQubit(AncillaRegister(3, 'an'), 2)]"
      ]
     },
     "execution_count": 12,
     "metadata": {},
     "output_type": "execute_result"
    }
   ],
   "source": [
    "qc.qubits  # provides the information of qubits added "
   ]
  },
  {
   "cell_type": "code",
   "execution_count": 13,
   "id": "785b89b0",
   "metadata": {},
   "outputs": [
    {
     "data": {
      "text/plain": [
       "QuantumRegister(2, 'qr_1')"
      ]
     },
     "execution_count": 13,
     "metadata": {},
     "output_type": "execute_result"
    }
   ],
   "source": [
    "qr1"
   ]
  },
  {
   "cell_type": "code",
   "execution_count": 14,
   "id": "645e5b7d",
   "metadata": {},
   "outputs": [
    {
     "data": {
      "text/plain": [
       "AncillaRegister(3, 'an')"
      ]
     },
     "execution_count": 14,
     "metadata": {},
     "output_type": "execute_result"
    }
   ],
   "source": [
    "anc"
   ]
  },
  {
   "cell_type": "code",
   "execution_count": 15,
   "id": "df63749f",
   "metadata": {},
   "outputs": [
    {
     "data": {
      "text/plain": [
       "<qiskit.circuit.quantumcircuit.QuantumCircuit at 0x7f9257045050>"
      ]
     },
     "execution_count": 15,
     "metadata": {},
     "output_type": "execute_result"
    }
   ],
   "source": [
    "qc"
   ]
  },
  {
   "cell_type": "markdown",
   "id": "6a9f12f6",
   "metadata": {},
   "source": [
    "# add_register\n",
    "\n",
    "https://qiskit.org/documentation/stubs/qiskit.circuit.QuantumCircuit.add_register.html#qiskit.circuit.QuantumCircuit.add_register\n",
    "\n",
    "\n",
    "https://qiskit.org/textbook/ch-appendix/qiskit.html"
   ]
  },
  {
   "cell_type": "code",
   "execution_count": 3,
   "id": "30afed38",
   "metadata": {},
   "outputs": [
    {
     "data": {
      "image/png": "[encoded data removed]",
      "text/plain": [
       "<Figure size 370.906x284.278 with 1 Axes>"
      ]
     },
     "execution_count": 3,
     "metadata": {},
     "output_type": "execute_result"
    }
   ],
   "source": [
    "qc=QuantumCircuit(2,2)\n",
    "qc.h(0)\n",
    "qc.cx(0,1)\n",
    "qc.x(1)\n",
    "qc.draw(output='mpl')"
   ]
  },
  {
   "cell_type": "code",
   "execution_count": 17,
   "id": "747d8bb4",
   "metadata": {},
   "outputs": [
    {
     "data": {
      "text/plain": [
       "[QuantumRegister(2, 'q')]"
      ]
     },
     "execution_count": 17,
     "metadata": {},
     "output_type": "execute_result"
    }
   ],
   "source": [
    "qc.qregs"
   ]
  },
  {
   "cell_type": "code",
   "execution_count": 18,
   "id": "70fbc3cd",
   "metadata": {},
   "outputs": [
    {
     "data": {
      "text/plain": [
       "2"
      ]
     },
     "execution_count": 18,
     "metadata": {},
     "output_type": "execute_result"
    }
   ],
   "source": [
    "qc.num_qubits"
   ]
  },
  {
   "cell_type": "code",
   "execution_count": 4,
   "id": "f1b90a88",
   "metadata": {},
   "outputs": [
    {
     "data": {
      "image/png": "[encoded data removed]",
      "text/plain": [
       "<Figure size 388.934x451.5 with 1 Axes>"
      ]
     },
     "execution_count": 4,
     "metadata": {},
     "output_type": "execute_result"
    }
   ],
   "source": [
    "qc2=QuantumRegister(2)\n",
    "\n",
    "qc.add_register(qc2)\n",
    "\n",
    "qc.draw(output='mpl')"
   ]
  },
  {
   "cell_type": "code",
   "execution_count": 20,
   "id": "67a2f3f9",
   "metadata": {},
   "outputs": [
    {
     "data": {
      "text/plain": [
       "[QuantumRegister(2, 'q'), QuantumRegister(2, 'q1')]"
      ]
     },
     "execution_count": 20,
     "metadata": {},
     "output_type": "execute_result"
    }
   ],
   "source": [
    "qc.qregs"
   ]
  },
  {
   "cell_type": "code",
   "execution_count": 21,
   "id": "466c7f73",
   "metadata": {},
   "outputs": [
    {
     "data": {
      "text/plain": [
       "4"
      ]
     },
     "execution_count": 21,
     "metadata": {},
     "output_type": "execute_result"
    }
   ],
   "source": [
    "qc.num_qubits"
   ]
  },
  {
   "cell_type": "markdown",
   "id": "5290e83f",
   "metadata": {},
   "source": [
    "# Another example: add_regsiter for Quantum and classical regsiters"
   ]
  },
  {
   "cell_type": "code",
   "execution_count": 22,
   "id": "e9634388",
   "metadata": {},
   "outputs": [
    {
     "data": {
      "image/png": "[encoded data removed]",
      "text/plain": [
       "<Figure size 146.652x204.68 with 1 Axes>"
      ]
     },
     "execution_count": 22,
     "metadata": {},
     "output_type": "execute_result"
    }
   ],
   "source": [
    "qr=QuantumRegister(2,'q')\n",
    "cr=ClassicalRegister(2,'c')\n",
    "qc=QuantumCircuit(qr,cr)\n",
    "qc.h(0)\n",
    "qc.x(1)\n",
    "qc.draw(output=\"mpl\")"
   ]
  },
  {
   "cell_type": "code",
   "execution_count": 23,
   "id": "51bbf644",
   "metadata": {},
   "outputs": [
    {
     "data": {
      "text/plain": [
       "QuantumRegister(2, 'q')"
      ]
     },
     "execution_count": 23,
     "metadata": {},
     "output_type": "execute_result"
    }
   ],
   "source": [
    "qr"
   ]
  },
  {
   "cell_type": "code",
   "execution_count": 24,
   "id": "245b3b7a",
   "metadata": {},
   "outputs": [
    {
     "data": {
      "text/plain": [
       "[QuantumRegister(2, 'q')]"
      ]
     },
     "execution_count": 24,
     "metadata": {},
     "output_type": "execute_result"
    }
   ],
   "source": [
    "qc.qregs"
   ]
  },
  {
   "cell_type": "code",
   "execution_count": 25,
   "id": "909b5e67",
   "metadata": {},
   "outputs": [
    {
     "data": {
      "image/png": "[encoded data removed]",
      "text/plain": [
       "<Figure size 194.393x325.08 with 1 Axes>"
      ]
     },
     "execution_count": 25,
     "metadata": {},
     "output_type": "execute_result"
    }
   ],
   "source": [
    "qr_add=QuantumRegister(2,'qr_add')\n",
    "qc.add_register(qr_add)\n",
    "qc.draw(output=\"mpl\")"
   ]
  },
  {
   "cell_type": "code",
   "execution_count": 26,
   "id": "298db37c",
   "metadata": {},
   "outputs": [
    {
     "data": {
      "text/plain": [
       "QuantumRegister(2, 'qr_add')"
      ]
     },
     "execution_count": 26,
     "metadata": {},
     "output_type": "execute_result"
    }
   ],
   "source": [
    "qr_add"
   ]
  },
  {
   "cell_type": "code",
   "execution_count": 27,
   "id": "94372cee",
   "metadata": {},
   "outputs": [
    {
     "data": {
      "text/plain": [
       "[QuantumRegister(2, 'q'), QuantumRegister(2, 'qr_add')]"
      ]
     },
     "execution_count": 27,
     "metadata": {},
     "output_type": "execute_result"
    }
   ],
   "source": [
    "qc.qregs"
   ]
  },
  {
   "cell_type": "code",
   "execution_count": 28,
   "id": "a41f6e6a",
   "metadata": {},
   "outputs": [
    {
     "data": {
      "image/png": "[encoded data removed]",
      "text/plain": [
       "<Figure size 194.393x385.28 with 1 Axes>"
      ]
     },
     "execution_count": 28,
     "metadata": {},
     "output_type": "execute_result"
    }
   ],
   "source": [
    "cr_add=ClassicalRegister(2,'cr_add')\n",
    "qc.add_register(cr_add)\n",
    "qc.draw(output=\"mpl\")"
   ]
  },
  {
   "cell_type": "code",
   "execution_count": 29,
   "id": "841a7ef7",
   "metadata": {},
   "outputs": [
    {
     "data": {
      "text/plain": [
       "ClassicalRegister(2, 'cr_add')"
      ]
     },
     "execution_count": 29,
     "metadata": {},
     "output_type": "execute_result"
    }
   ],
   "source": [
    "cr_add"
   ]
  },
  {
   "cell_type": "code",
   "execution_count": 30,
   "id": "614bfdd9",
   "metadata": {},
   "outputs": [
    {
     "data": {
      "text/plain": [
       "[ClassicalRegister(2, 'c'), ClassicalRegister(2, 'cr_add')]"
      ]
     },
     "execution_count": 30,
     "metadata": {},
     "output_type": "execute_result"
    }
   ],
   "source": [
    "qc.cregs"
   ]
  },
  {
   "cell_type": "code",
   "execution_count": 31,
   "id": "41029e1a",
   "metadata": {},
   "outputs": [
    {
     "data": {
      "image/png": "[encoded data removed]",
      "text/plain": [
       "<Figure size 374.993x385.28 with 1 Axes>"
      ]
     },
     "execution_count": 31,
     "metadata": {},
     "output_type": "execute_result"
    }
   ],
   "source": [
    "qc.measure([0,1,2,3],[0,1,2,3])\n",
    "qc.draw(output=\"mpl\")"
   ]
  },
  {
   "cell_type": "markdown",
   "id": "2a69eccf",
   "metadata": {},
   "source": []
  }
 ],
 "metadata": {
  "kernelspec": {
   "display_name": "Python 3 (ipykernel)",
   "language": "python",
   "name": "python3"
  },
  "language_info": {
   "codemirror_mode": {
    "name": "ipython",
    "version": 3
   },
   "file_extension": ".py",
   "mimetype": "text/x-python",
   "name": "python",
   "nbconvert_exporter": "python",
   "pygments_lexer": "ipython3",
   "version": "3.9.12"
  }
 },
 "nbformat": 4,
 "nbformat_minor": 5
}
