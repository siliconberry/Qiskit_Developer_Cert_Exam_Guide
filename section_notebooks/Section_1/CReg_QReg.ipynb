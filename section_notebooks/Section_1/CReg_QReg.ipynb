{
 "cells": [
  {
   "cell_type": "markdown",
   "id": "c5a73a7d",
   "metadata": {},
   "source": [
    "# Classical and Quantum Registers"
   ]
  },
  {
   "cell_type": "markdown",
   "id": "0363e559",
   "metadata": {},
   "source": [
    "References: \n",
    "\n",
    "1. Quantum Circuits:\n",
    "\n",
    "https://qiskit.org/documentation/apidoc/circuit.html\n",
    "\n",
    "https://qiskit.org/documentation/stable/0.19/stubs/qiskit.circuit.QuantumCircuit.html#qiskit.circuit.QuantumCircuit\n",
    "\n",
    "2. Qiskit textbook Reference:\n",
    "https://qiskit.org/textbook/ch-gates/multiple-qubits-entangled-states.html\n",
    "\n",
    "3. Qiskit Documentation:\n",
    "https://qiskit.org/documentation/tutorials/circuits/3_summary_of_quantum_operations.html\n",
    "\n",
    "4. IBM Operations Glossary\n",
    "https://quantum-computing.ibm.com/composer/docs/iqx/operations_glossary\n",
    "\n",
    "5. https://qiskit.org/textbook/ch-appendix/qiskit.html"
   ]
  },
  {
   "cell_type": "markdown",
   "id": "9bf79286",
   "metadata": {},
   "source": [
    "\n",
    "## 1. Quantum Register\n",
    "## 2. Classical Register\n",
    "## 3. Quantum Circuit\n"
   ]
  },
  {
   "cell_type": "code",
   "execution_count": 1,
   "id": "81f7149c",
   "metadata": {},
   "outputs": [],
   "source": [
    "from qiskit import QuantumCircuit,QuantumRegister,ClassicalRegister"
   ]
  },
  {
   "cell_type": "markdown",
   "id": "67f010ab",
   "metadata": {},
   "source": [
    "# Quantum Register:\n",
    "\n",
    "Syntax: QuantumRegister(q,name=optional)\n",
    "\n",
    "q= number of quantum bits(qubits) \n",
    "    \n",
    "https://qiskit.org/documentation/stubs/qiskit.circuit.QuantumRegister.html\n",
    "\n",
    "https://qiskit.org/documentation/stable/0.19/stubs/qiskit.circuit.QuantumRegister.html#qiskit.circuit.QuantumRegister"
   ]
  },
  {
   "cell_type": "code",
   "execution_count": 2,
   "id": "0bfce0e5",
   "metadata": {},
   "outputs": [
    {
     "data": {
      "text/plain": [
       "QuantumRegister(2, 'q0')"
      ]
     },
     "execution_count": 2,
     "metadata": {},
     "output_type": "execute_result"
    }
   ],
   "source": [
    "# If the name is not given, default name is taken\n",
    "q=QuantumRegister(2)\n",
    "q"
   ]
  },
  {
   "cell_type": "code",
   "execution_count": 3,
   "id": "d21ed816",
   "metadata": {},
   "outputs": [
    {
     "data": {
      "text/plain": [
       "QuantumRegister(2, 'qr')"
      ]
     },
     "execution_count": 3,
     "metadata": {},
     "output_type": "execute_result"
    }
   ],
   "source": [
    "# We can also give the name to the quantum register\n",
    "q=QuantumRegister(2,'qr')\n",
    "q"
   ]
  },
  {
   "cell_type": "markdown",
   "id": "880c1f69",
   "metadata": {},
   "source": [
    "# Classical Register:\n",
    "\n",
    "Syntax: ClassicalRegister(c,name=optional)\n",
    "\n",
    "c= number of clasiical bits \n",
    "    \n",
    "https://qiskit.org/documentation/stubs/qiskit.circuit.ClassicalRegister.html#qiskit.circuit.ClassicalRegister\n",
    "\n",
    "https://qiskit.org/documentation/stable/0.19/stubs/qiskit.circuit.ClassicalRegister.html#qiskit.circuit.ClassicalRegister"
   ]
  },
  {
   "cell_type": "code",
   "execution_count": 4,
   "id": "b133ae8f",
   "metadata": {},
   "outputs": [],
   "source": [
    "c=ClassicalRegister(2)\n",
    "c=ClassicalRegister(2,'cr')"
   ]
  },
  {
   "cell_type": "markdown",
   "id": "f2b93fa1",
   "metadata": {},
   "source": [
    "# QuantumCircuit\n",
    "\n",
    "SYNATX: QuantumCircuit(registers,name=optional)\n",
    "\n",
    "registers= quantum /classical registers to be include in the circuit\n",
    "\n",
    "- References:\n",
    "\n",
    "https://qiskit.org/textbook/ch-algorithms/defining-quantum-circuits.html\n",
    "\n",
    "https://qiskit.org/documentation/stable/0.19/apidoc/circuit.html\n",
    "\n",
    "https://qiskit.org/documentation/stable/0.19/stubs/qiskit.circuit.QuantumCircuit.html#qiskit.circuit.QuantumCircuit"
   ]
  },
  {
   "cell_type": "markdown",
   "id": "0f7e9308",
   "metadata": {},
   "source": [
    "## Different ways to Create the quantum circuit with 2 qubits and 2 bits using the quantum and classical registers "
   ]
  },
  {
   "cell_type": "markdown",
   "id": "7b4ce9d7",
   "metadata": {},
   "source": [
    "### Example 1:"
   ]
  },
  {
   "cell_type": "code",
   "execution_count": 5,
   "id": "7c1b0813",
   "metadata": {},
   "outputs": [],
   "source": [
    "q=QuantumRegister(2,'qr')\n",
    "c=ClassicalRegister(2,'cr')\n",
    "qc=QuantumCircuit(q,c)\n"
   ]
  },
  {
   "cell_type": "markdown",
   "id": "684dd47b",
   "metadata": {},
   "source": [
    "### Example 2:"
   ]
  },
  {
   "cell_type": "code",
   "execution_count": 6,
   "id": "4938f6d7",
   "metadata": {},
   "outputs": [],
   "source": [
    "qc=QuantumCircuit(QuantumRegister(2,'qr'),ClassicalRegister(2,'cr'))"
   ]
  },
  {
   "cell_type": "markdown",
   "id": "dd4ee161",
   "metadata": {},
   "source": [
    "### Example 3:"
   ]
  },
  {
   "cell_type": "code",
   "execution_count": 7,
   "id": "97ff4611",
   "metadata": {},
   "outputs": [],
   "source": [
    "qc=QuantumCircuit(QuantumRegister(2,'qr'))"
   ]
  },
  {
   "cell_type": "markdown",
   "id": "2bcaf225",
   "metadata": {},
   "source": [
    "### Example 3:"
   ]
  },
  {
   "cell_type": "code",
   "execution_count": 8,
   "id": "4f048afd",
   "metadata": {},
   "outputs": [],
   "source": [
    "qc=QuantumCircuit(QuantumRegister(2))"
   ]
  },
  {
   "cell_type": "markdown",
   "id": "866988da",
   "metadata": {},
   "source": [
    "### Example 4:"
   ]
  },
  {
   "cell_type": "code",
   "execution_count": 9,
   "id": "9d6a4067",
   "metadata": {},
   "outputs": [],
   "source": [
    "qc=QuantumCircuit(QuantumRegister(2),ClassicalRegister(2))"
   ]
  },
  {
   "cell_type": "markdown",
   "id": "dddbb93a",
   "metadata": {},
   "source": [
    "### Example 5:"
   ]
  },
  {
   "cell_type": "code",
   "execution_count": 10,
   "id": "0036c7d4",
   "metadata": {},
   "outputs": [],
   "source": [
    "qc=QuantumCircuit(2)"
   ]
  },
  {
   "cell_type": "markdown",
   "id": "c55b4a1f",
   "metadata": {},
   "source": [
    "### Example 5:"
   ]
  },
  {
   "cell_type": "code",
   "execution_count": 11,
   "id": "473e1cd4",
   "metadata": {},
   "outputs": [],
   "source": [
    "qc=QuantumCircuit(2,2)"
   ]
  },
  {
   "cell_type": "code",
   "execution_count": 12,
   "id": "47de45ba",
   "metadata": {},
   "outputs": [
    {
     "data": {
      "text/plain": [
       "<qiskit.circuit.quantumcircuit.QuantumCircuit at 0x7fb9e7a9d610>"
      ]
     },
     "execution_count": 12,
     "metadata": {},
     "output_type": "execute_result"
    }
   ],
   "source": [
    "qc"
   ]
  },
  {
   "cell_type": "markdown",
   "id": "1b1ba16e",
   "metadata": {},
   "source": [
    "\n",
    "# - Draw a Quantum Circuit\n",
    "    - Refer to section 9\n",
    "\n",
    "# - Properties of Quantum Circuit\n",
    "    - Refer to Section 5"
   ]
  },
  {
   "cell_type": "code",
   "execution_count": 13,
   "id": "9f4cd1d2",
   "metadata": {},
   "outputs": [
    {
     "data": {
      "image/png": "[encoded data removed]",
      "text/plain": [
       "<Figure size 125.206x204.68 with 1 Axes>"
      ]
     },
     "execution_count": 13,
     "metadata": {},
     "output_type": "execute_result"
    }
   ],
   "source": [
    "# In this example, we have given registers name\n",
    "\n",
    "qc=QuantumCircuit(QuantumRegister(2,'qr'),ClassicalRegister(2,'cr'))\n",
    "qc.draw(output=\"mpl\")"
   ]
  },
  {
   "cell_type": "code",
   "execution_count": 14,
   "id": "7f93aeb9",
   "metadata": {},
   "outputs": [
    {
     "name": "stdout",
     "output_type": "stream",
     "text": [
      "[Qubit(QuantumRegister(2, 'qr'), 0), Qubit(QuantumRegister(2, 'qr'), 1)]\n",
      "[Clbit(ClassicalRegister(2, 'cr'), 0), Clbit(ClassicalRegister(2, 'cr'), 1)]\n"
     ]
    }
   ],
   "source": [
    "print(qc.qubits) \n",
    "\n",
    "print(qc.clbits) "
   ]
  },
  {
   "cell_type": "code",
   "execution_count": 15,
   "id": "4a9861ad",
   "metadata": {},
   "outputs": [
    {
     "data": {
      "image/png": "[encoded data removed]",
      "text/plain": [
       "<Figure size 116.552x204.68 with 1 Axes>"
      ]
     },
     "execution_count": 15,
     "metadata": {},
     "output_type": "execute_result"
    }
   ],
   "source": [
    "# In this example, we have NOT given registers name\n",
    "\n",
    "qc=QuantumCircuit(2,2)\n",
    "qc.draw(output=\"mpl\")"
   ]
  },
  {
   "cell_type": "code",
   "execution_count": 16,
   "id": "4105264b",
   "metadata": {},
   "outputs": [
    {
     "name": "stdout",
     "output_type": "stream",
     "text": [
      "[Qubit(QuantumRegister(2, 'q'), 0), Qubit(QuantumRegister(2, 'q'), 1)]\n",
      "[Clbit(ClassicalRegister(2, 'c'), 0), Clbit(ClassicalRegister(2, 'c'), 1)]\n"
     ]
    }
   ],
   "source": [
    "print(qc.qubits)\n",
    "\n",
    "print(qc.clbits)"
   ]
  },
  {
   "cell_type": "code",
   "execution_count": 17,
   "id": "d6ee96e7",
   "metadata": {},
   "outputs": [
    {
     "data": {
      "text/plain": [
       "[QuantumRegister(2, 'q')]"
      ]
     },
     "execution_count": 17,
     "metadata": {},
     "output_type": "execute_result"
    }
   ],
   "source": [
    "qc.qregs"
   ]
  },
  {
   "cell_type": "code",
   "execution_count": 18,
   "id": "f1cc6ff1",
   "metadata": {},
   "outputs": [
    {
     "data": {
      "text/plain": [
       "[ClassicalRegister(2, 'c')]"
      ]
     },
     "execution_count": 18,
     "metadata": {},
     "output_type": "execute_result"
    }
   ],
   "source": [
    "qc.cregs"
   ]
  },
  {
   "cell_type": "code",
   "execution_count": 19,
   "id": "14247336",
   "metadata": {},
   "outputs": [
    {
     "data": {
      "text/plain": [
       "2"
      ]
     },
     "execution_count": 19,
     "metadata": {},
     "output_type": "execute_result"
    }
   ],
   "source": [
    "qc.num_qubits"
   ]
  },
  {
   "cell_type": "code",
   "execution_count": 20,
   "id": "ba8e49de",
   "metadata": {},
   "outputs": [
    {
     "data": {
      "text/plain": [
       "2"
      ]
     },
     "execution_count": 20,
     "metadata": {},
     "output_type": "execute_result"
    }
   ],
   "source": [
    "qc.num_clbits"
   ]
  },
  {
   "cell_type": "code",
   "execution_count": 21,
   "id": "e20184df",
   "metadata": {},
   "outputs": [
    {
     "data": {
      "text/plain": [
       "[Clbit(ClassicalRegister(2, 'c'), 0), Clbit(ClassicalRegister(2, 'c'), 1)]"
      ]
     },
     "execution_count": 21,
     "metadata": {},
     "output_type": "execute_result"
    }
   ],
   "source": [
    "qc.clbits"
   ]
  },
  {
   "cell_type": "code",
   "execution_count": 22,
   "id": "8e34f4ad",
   "metadata": {},
   "outputs": [
    {
     "data": {
      "text/plain": [
       "[Qubit(QuantumRegister(2, 'q'), 0), Qubit(QuantumRegister(2, 'q'), 1)]"
      ]
     },
     "execution_count": 22,
     "metadata": {},
     "output_type": "execute_result"
    }
   ],
   "source": [
    "qc.qubits"
   ]
  },
  {
   "cell_type": "code",
   "execution_count": 23,
   "id": "39cd9a62",
   "metadata": {},
   "outputs": [
    {
     "data": {
      "text/plain": [
       "4"
      ]
     },
     "execution_count": 23,
     "metadata": {},
     "output_type": "execute_result"
    }
   ],
   "source": [
    "qc.width()  #total number of qubits and classical bits"
   ]
  }
 ],
 "metadata": {
  "kernelspec": {
   "display_name": "Python 3 (ipykernel)",
   "language": "python",
   "name": "python3"
  },
  "language_info": {
   "codemirror_mode": {
    "name": "ipython",
    "version": 3
   },
   "file_extension": ".py",
   "mimetype": "text/x-python",
   "name": "python",
   "nbconvert_exporter": "python",
   "pygments_lexer": "ipython3",
   "version": "3.9.12"
  }
 },
 "nbformat": 4,
 "nbformat_minor": 5
}
