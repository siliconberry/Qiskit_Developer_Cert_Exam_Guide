{
 "cells": [
  {
   "cell_type": "markdown",
   "id": "6cdd80e8",
   "metadata": {},
   "source": [
    "# Mock Backends: Only for testing purposes"
   ]
  },
  {
   "cell_type": "markdown",
   "id": "90051e66",
   "metadata": {},
   "source": [
    "Reference:\n",
    "https://qiskit.org/documentation/tutorials/circuits_advanced/08_gathering_system_information.html#Note:-All-the-attributes-of-the-backend-are-described-in-detail-in-theQiskit-Backend-Specifications.-This-page-reviews-a-subset-of-the-spec."
   ]
  },
  {
   "cell_type": "code",
   "execution_count": 1,
   "id": "8f3b4895",
   "metadata": {},
   "outputs": [],
   "source": [
    "from qiskit import QuantumCircuit,QuantumRegister,transpile\n",
    "import qiskit.test.mock as fake_backends\n",
    "from qiskit.test.mock import FakeProvider"
   ]
  },
  {
   "cell_type": "code",
   "execution_count": 2,
   "id": "0c9669d5",
   "metadata": {},
   "outputs": [],
   "source": [
    "provider = FakeProvider()\n",
    "backends =provider.backends()"
   ]
  },
  {
   "cell_type": "code",
   "execution_count": 3,
   "id": "032f348e",
   "metadata": {},
   "outputs": [
    {
     "data": {
      "text/plain": [
       "[<FakeAlmaden('fake_almaden')>,\n",
       " <FakeArmonk('fake_armonk')>,\n",
       " <FakeAthens('fake_athens')>,\n",
       " <FakeBelem('fake_belem')>,\n",
       " <FakeBoeblingen('fake_boeblingen')>,\n",
       " <FakeBogota('fake_bogota')>,\n",
       " <FakeBurlington('fake_burlington')>,\n",
       " <FakeCambridge('fake_cambridge')>,\n",
       " <FakeCambridgeAlternativeBasis('fake_cambridge')>,\n",
       " <FakeCasablanca('fake_casablanca')>,\n",
       " <FakeEssex('fake_essex')>,\n",
       " <FakeGuadalupe('fake_guadalupe')>,\n",
       " <FakeJohannesburg('fake_johannesburg')>,\n",
       " <FakeLima('fake_lima')>,\n",
       " <FakeLondon('fake_london')>,\n",
       " <FakeManhattan('fake_manhattan')>,\n",
       " <FakeMelbourne('fake_melbourne')>,\n",
       " <FakeMontreal('fake_montreal')>,\n",
       " <FakeMumbai('fake_mumbai')>,\n",
       " <FakeOpenPulse2Q('fake_openpulse_2q')>,\n",
       " <FakeOpenPulse3Q('fake_openpulse_3q')>,\n",
       " <FakeOurense('fake_ourense')>,\n",
       " <FakeParis('fake_paris')>,\n",
       " <FakePoughkeepsie('fake_poughkeepsie')>,\n",
       " <FakeQasmSimulator('fake_qasm_simulator')>,\n",
       " <FakeQuito('fake_quito')>,\n",
       " <FakeRochester('fake_rochester')>,\n",
       " <FakeRome('fake_rome')>,\n",
       " <FakeRueschlikon('fake_rueschlikon')>,\n",
       " <FakeSantiago('fake_santiago')>,\n",
       " <FakeSingapore('fake_singapore')>,\n",
       " <FakeSydney('fake_sydney')>,\n",
       " <FakeTenerife('fake_tenerife')>,\n",
       " <FakeTokyo('fake_tokyo')>,\n",
       " <FakeToronto('fake_toronto')>,\n",
       " <FakeValencia('fake_valencia')>,\n",
       " <FakeVigo('fake_vigo')>,\n",
       " <FakeYorktown('fake_yorktown')>]"
      ]
     },
     "execution_count": 3,
     "metadata": {},
     "output_type": "execute_result"
    }
   ],
   "source": [
    "backends"
   ]
  },
  {
   "cell_type": "code",
   "execution_count": 4,
   "id": "39c0b529",
   "metadata": {},
   "outputs": [],
   "source": [
    "backend=provider.get_backend(name ='fake_vigo')"
   ]
  },
  {
   "cell_type": "code",
   "execution_count": 5,
   "id": "4917b5ef",
   "metadata": {},
   "outputs": [
    {
     "data": {
      "text/plain": [
       "<FakeVigo('fake_vigo')>"
      ]
     },
     "execution_count": 5,
     "metadata": {},
     "output_type": "execute_result"
    }
   ],
   "source": [
    "backend"
   ]
  },
  {
   "cell_type": "code",
   "execution_count": 6,
   "id": "ac7040a1",
   "metadata": {},
   "outputs": [],
   "source": [
    "from qiskit.test.mock import FakeVigo\n",
    "device_backend = FakeVigo()"
   ]
  },
  {
   "cell_type": "code",
   "execution_count": 7,
   "id": "dcd40535",
   "metadata": {},
   "outputs": [
    {
     "data": {
      "text/plain": [
       "<FakeVigo('fake_vigo')>"
      ]
     },
     "execution_count": 7,
     "metadata": {},
     "output_type": "execute_result"
    }
   ],
   "source": [
    "device_backend"
   ]
  },
  {
   "cell_type": "code",
   "execution_count": 8,
   "id": "ef71c5da",
   "metadata": {},
   "outputs": [
    {
     "data": {
      "text/plain": [
       "'fake_vigo'"
      ]
     },
     "execution_count": 8,
     "metadata": {},
     "output_type": "execute_result"
    }
   ],
   "source": [
    "device_backend.name()"
   ]
  },
  {
   "cell_type": "code",
   "execution_count": 9,
   "id": "173dbf6f",
   "metadata": {},
   "outputs": [],
   "source": [
    "config_details = device_backend.configuration()"
   ]
  },
  {
   "cell_type": "code",
   "execution_count": 10,
   "id": "5d0d9d82",
   "metadata": {},
   "outputs": [
    {
     "data": {
      "text/plain": [
       "'fake_vigo'"
      ]
     },
     "execution_count": 10,
     "metadata": {},
     "output_type": "execute_result"
    }
   ],
   "source": [
    "config_details.backend_name"
   ]
  },
  {
   "cell_type": "code",
   "execution_count": 11,
   "id": "2cb0dd76",
   "metadata": {},
   "outputs": [
    {
     "data": {
      "text/plain": [
       "5"
      ]
     },
     "execution_count": 11,
     "metadata": {},
     "output_type": "execute_result"
    }
   ],
   "source": [
    "config_details.n_qubits"
   ]
  },
  {
   "cell_type": "code",
   "execution_count": 12,
   "id": "2f6ef113",
   "metadata": {},
   "outputs": [
    {
     "data": {
      "text/plain": [
       "['id', 'rz', 'sx', 'x', 'cx']"
      ]
     },
     "execution_count": 12,
     "metadata": {},
     "output_type": "execute_result"
    }
   ],
   "source": [
    "config_details.basis_gates"
   ]
  },
  {
   "cell_type": "markdown",
   "id": "ea6dc4e9",
   "metadata": {},
   "source": [
    "### Let's take another backend to understand better , backend with <= 5 qubits and corresponding their basis gates"
   ]
  },
  {
   "cell_type": "code",
   "execution_count": 13,
   "id": "e862f8f1",
   "metadata": {},
   "outputs": [
    {
     "name": "stdout",
     "output_type": "stream",
     "text": [
      "fake_armonk : ['id', 'rz', 'sx', 'x']\n",
      "fake_athens : ['id', 'rz', 'sx', 'x', 'cx', 'reset']\n",
      "fake_belem : ['id', 'rz', 'sx', 'x', 'cx', 'reset']\n",
      "fake_bogota : ['id', 'rz', 'sx', 'x', 'cx', 'reset']\n",
      "fake_burlington : ['id', 'u1', 'u2', 'u3', 'cx']\n",
      "fake_essex : ['id', 'u1', 'u2', 'u3', 'cx']\n",
      "fake_lima : ['id', 'rz', 'sx', 'x', 'cx', 'reset']\n",
      "fake_london : ['id', 'u1', 'u2', 'u3', 'cx']\n",
      "fake_openpulse_2q : ['u1', 'u2', 'u3', 'cx', 'id']\n",
      "fake_openpulse_3q : ['u1', 'u2', 'u3', 'cx', 'id']\n",
      "fake_ourense : ['id', 'rz', 'sx', 'x', 'cx']\n",
      "fake_qasm_simulator : ['u1', 'u2', 'u3', 'cx', 'id', 'unitary']\n",
      "fake_quito : ['id', 'rz', 'sx', 'x', 'cx', 'reset']\n",
      "fake_rome : ['id', 'rz', 'sx', 'x', 'cx', 'reset']\n",
      "fake_santiago : ['id', 'rz', 'sx', 'x', 'cx', 'reset']\n",
      "fake_tenerife : ['u1', 'u2', 'u3', 'cx', 'id']\n",
      "fake_valencia : ['id', 'rz', 'sx', 'x', 'cx']\n",
      "fake_vigo : ['id', 'rz', 'sx', 'x', 'cx']\n",
      "fake_yorktown : ['id', 'rz', 'sx', 'x', 'cx', 'reset']\n"
     ]
    }
   ],
   "source": [
    "for i in range(len(backends)):\n",
    "    \n",
    "    backend_details = backends[i]\n",
    "    config_details = backend_details.configuration()\n",
    "    \n",
    "    if config_details.n_qubits <=5:\n",
    "        print(backends[i],\":\",config_details.basis_gates)"
   ]
  },
  {
   "cell_type": "code",
   "execution_count": 14,
   "id": "89e7e0ce",
   "metadata": {},
   "outputs": [],
   "source": [
    "from qiskit.test.mock import FakeLondon\n",
    "device_backend = FakeLondon()"
   ]
  },
  {
   "cell_type": "code",
   "execution_count": 15,
   "id": "97fe5c4e",
   "metadata": {},
   "outputs": [],
   "source": [
    "config_details = device_backend.configuration()"
   ]
  },
  {
   "cell_type": "code",
   "execution_count": 16,
   "id": "ecb8ccb9",
   "metadata": {},
   "outputs": [
    {
     "data": {
      "text/plain": [
       "'fake_london'"
      ]
     },
     "execution_count": 16,
     "metadata": {},
     "output_type": "execute_result"
    }
   ],
   "source": [
    "config_details.backend_name"
   ]
  },
  {
   "cell_type": "code",
   "execution_count": 17,
   "id": "ed3fffc6",
   "metadata": {},
   "outputs": [
    {
     "data": {
      "text/plain": [
       "5"
      ]
     },
     "execution_count": 17,
     "metadata": {},
     "output_type": "execute_result"
    }
   ],
   "source": [
    "config_details.n_qubits"
   ]
  },
  {
   "cell_type": "code",
   "execution_count": 18,
   "id": "4ed0a98b",
   "metadata": {},
   "outputs": [
    {
     "data": {
      "text/plain": [
       "['id', 'u1', 'u2', 'u3', 'cx']"
      ]
     },
     "execution_count": 18,
     "metadata": {},
     "output_type": "execute_result"
    }
   ],
   "source": [
    "config_details.basis_gates"
   ]
  }
 ],
 "metadata": {
  "kernelspec": {
   "display_name": "Python 3 (ipykernel)",
   "language": "python",
   "name": "python3"
  },
  "language_info": {
   "codemirror_mode": {
    "name": "ipython",
    "version": 3
   },
   "file_extension": ".py",
   "mimetype": "text/x-python",
   "name": "python",
   "nbconvert_exporter": "python",
   "pygments_lexer": "ipython3",
   "version": "3.9.12"
  }
 },
 "nbformat": 4,
 "nbformat_minor": 5
}
