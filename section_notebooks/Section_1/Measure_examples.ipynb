{
 "cells": [
  {
   "cell_type": "markdown",
   "id": "d066fa12",
   "metadata": {},
   "source": [
    "# Non-unitary operations\n",
    "\n",
    "Reference:\n",
    "\n",
    "https://qiskit.org/documentation/tutorials/circuits/3_summary_of_quantum_operations.html\n",
    "\n",
    "https://quantum-computing.ibm.com/composer/docs/iqx/operations_glossary"
   ]
  },
  {
   "cell_type": "markdown",
   "id": "5def14c6",
   "metadata": {},
   "source": [
    "1. measurements\n",
    "2. reset of qubits\n",
    "3. classical conditional operations(c_if)\n",
    "4. <a href= \".\\Barrier_operations.ipynb\">barrier</a>"
   ]
  },
  {
   "cell_type": "code",
   "execution_count": 1,
   "id": "6b4119a4",
   "metadata": {},
   "outputs": [],
   "source": [
    "from qiskit import *\n",
    "from qiskit.quantum_info import Statevector"
   ]
  },
  {
   "cell_type": "code",
   "execution_count": 2,
   "id": "eeb71f33",
   "metadata": {},
   "outputs": [],
   "source": [
    "def qasm_sim(qc):\n",
    "    backend = Aer.get_backend('qasm_simulator')\n",
    "    job = execute(qc, backend, shots=1024)\n",
    "    result = job.result()\n",
    "    counts = result.get_counts(qc)\n",
    "    return counts"
   ]
  },
  {
   "cell_type": "markdown",
   "id": "e4b1ba0f",
   "metadata": {},
   "source": [
    "***\n",
    "# Measurement\n",
    "***\n",
    "1. measure\n",
    "\n",
    "https://qiskit.org/documentation/stubs/qiskit.circuit.QuantumCircuit.measure.html#qiskit.circuit.QuantumCircuit.measure\n",
    "\n",
    "2. measure_all\n",
    "\n",
    "https://qiskit.org/documentation/stubs/qiskit.circuit.QuantumCircuit.measure_all.html#qiskit.circuit.QuantumCircuit.measure_all"
   ]
  },
  {
   "cell_type": "code",
   "execution_count": 3,
   "id": "1204d684",
   "metadata": {},
   "outputs": [
    {
     "data": {
      "image/png": "[encoded data removed]",
      "text/plain": [
       "<Figure size 146.652x144.48 with 1 Axes>"
      ]
     },
     "execution_count": 3,
     "metadata": {},
     "output_type": "execute_result"
    }
   ],
   "source": [
    "qc=QuantumCircuit(2)\n",
    "qc.x(0)\n",
    "qc.h(1)\n",
    "qc.draw(output=\"mpl\")"
   ]
  },
  {
   "cell_type": "markdown",
   "id": "57683dd4",
   "metadata": {},
   "source": [
    "# mesaure_all\n",
    "\n",
    "- adds the mesaurements to all the qubits\n",
    "- If the classical bits are not specified, it also adds new classical bits in the circuit"
   ]
  },
  {
   "cell_type": "code",
   "execution_count": 4,
   "id": "f38998d4",
   "metadata": {},
   "outputs": [
    {
     "data": {
      "image/png": "[encoded data removed]",
      "text/plain": [
       "<Figure size 357.679x204.68 with 1 Axes>"
      ]
     },
     "execution_count": 4,
     "metadata": {},
     "output_type": "execute_result"
    }
   ],
   "source": [
    "qc.measure_all()\n",
    "qc.draw(output=\"mpl\")"
   ]
  },
  {
   "cell_type": "code",
   "execution_count": 5,
   "id": "22f997b4",
   "metadata": {},
   "outputs": [
    {
     "data": {
      "text/plain": [
       "4"
      ]
     },
     "execution_count": 5,
     "metadata": {},
     "output_type": "execute_result"
    }
   ],
   "source": [
    "qc.size()"
   ]
  },
  {
   "cell_type": "code",
   "execution_count": 6,
   "id": "65d7bd6f",
   "metadata": {},
   "outputs": [
    {
     "data": {
      "text/plain": [
       "[Clbit(ClassicalRegister(2, 'meas'), 0),\n",
       " Clbit(ClassicalRegister(2, 'meas'), 1)]"
      ]
     },
     "execution_count": 6,
     "metadata": {},
     "output_type": "execute_result"
    }
   ],
   "source": [
    "qc.clbits"
   ]
  },
  {
   "cell_type": "markdown",
   "id": "da4af9c8",
   "metadata": {},
   "source": [
    "# measure\n",
    "\n",
    "- adds the mesaurement from each qunatum bit to the classical bit\n",
    "- quantum circuit need to have classical register with classical bits"
   ]
  },
  {
   "cell_type": "code",
   "execution_count": 7,
   "id": "81349097",
   "metadata": {},
   "outputs": [
    {
     "data": {
      "image/png": "[encoded data removed]",
      "text/plain": [
       "<Figure size 146.652x144.48 with 1 Axes>"
      ]
     },
     "execution_count": 7,
     "metadata": {},
     "output_type": "execute_result"
    }
   ],
   "source": [
    "qc=QuantumCircuit(2)\n",
    "qc.x(0)\n",
    "qc.h(1)\n",
    "qc.draw(output=\"mpl\")"
   ]
  },
  {
   "cell_type": "markdown",
   "id": "dc801d57",
   "metadata": {},
   "source": [
    "## qc.measure()\n",
    "\n",
    "TypeError: measure() missing 2 required positional arguments: 'qubit' and 'cbit'\n"
   ]
  },
  {
   "cell_type": "code",
   "execution_count": 8,
   "id": "667cee39",
   "metadata": {},
   "outputs": [
    {
     "data": {
      "image/png": "[encoded data removed]",
      "text/plain": [
       "<Figure size 146.652x204.68 with 1 Axes>"
      ]
     },
     "execution_count": 8,
     "metadata": {},
     "output_type": "execute_result"
    }
   ],
   "source": [
    "qc=QuantumCircuit(2,2)   # 2 qubits and 2 bits\n",
    "qc.x(0)\n",
    "qc.h(1)\n",
    "qc.draw(output=\"mpl\")"
   ]
  },
  {
   "cell_type": "markdown",
   "id": "36944f60",
   "metadata": {},
   "source": [
    "SYNTAX: qc_object.measure(qubit,classical bit)"
   ]
  },
  {
   "cell_type": "code",
   "execution_count": 9,
   "id": "19f48be9",
   "metadata": {},
   "outputs": [
    {
     "data": {
      "image/png": "[encoded data removed]",
      "text/plain": [
       "<Figure size 267.052x204.68 with 1 Axes>"
      ]
     },
     "execution_count": 9,
     "metadata": {},
     "output_type": "execute_result"
    }
   ],
   "source": [
    "qc.measure(0,0)\n",
    "qc.measure(1,1)\n",
    "qc.draw(output=\"mpl\")"
   ]
  },
  {
   "cell_type": "code",
   "execution_count": 10,
   "id": "2bf7a01d",
   "metadata": {},
   "outputs": [
    {
     "data": {
      "image/png": "[encoded data removed]",
      "text/plain": [
       "<Figure size 146.652x204.68 with 1 Axes>"
      ]
     },
     "execution_count": 10,
     "metadata": {},
     "output_type": "execute_result"
    }
   ],
   "source": [
    "qc=QuantumCircuit(2,2)   # 2 qubits and 2 bits\n",
    "qc.x(0)\n",
    "qc.h(1)\n",
    "qc.draw(output=\"mpl\")"
   ]
  },
  {
   "cell_type": "code",
   "execution_count": 11,
   "id": "c2945a46",
   "metadata": {},
   "outputs": [
    {
     "data": {
      "image/png": "[encoded data removed]",
      "text/plain": [
       "<Figure size 267.052x204.68 with 1 Axes>"
      ]
     },
     "execution_count": 11,
     "metadata": {},
     "output_type": "execute_result"
    }
   ],
   "source": [
    "qc.measure([0,1],[0,1])\n",
    "qc.draw(output=\"mpl\")"
   ]
  },
  {
   "cell_type": "markdown",
   "id": "793f0f20",
   "metadata": {},
   "source": [
    "## qc.measure_all()   and qc.measure([0,1],[0,1])\n",
    "\n",
    "- provides same circuit\n",
    "\n",
    "- qc.measure_all()   : no need of classical register, gets added by default\n",
    "\n",
    "- qc.measure([0,1],[0,1]) : need of classical register in the quantum circuit"
   ]
  },
  {
   "cell_type": "code",
   "execution_count": 12,
   "id": "8f6aa994",
   "metadata": {},
   "outputs": [
    {
     "data": {
      "image/png": "[encoded data removed]",
      "text/plain": [
       "<Figure size 297.479x204.68 with 1 Axes>"
      ]
     },
     "execution_count": 12,
     "metadata": {},
     "output_type": "execute_result"
    }
   ],
   "source": [
    "qc=QuantumCircuit(2)\n",
    "qc.measure_all()\n",
    "qc.draw(output=\"mpl\")"
   ]
  },
  {
   "cell_type": "markdown",
   "id": "7612b2c8",
   "metadata": {},
   "source": [
    "NOTE: If the quantum circuit has only measurements then the output is shown below:"
   ]
  },
  {
   "cell_type": "code",
   "execution_count": 13,
   "id": "e6a35d5d",
   "metadata": {},
   "outputs": [
    {
     "name": "stdout",
     "output_type": "stream",
     "text": [
      "{'00': 1024}\n"
     ]
    }
   ],
   "source": [
    "backend = Aer.get_backend('qasm_simulator')\n",
    "job=execute (qc, backend)\n",
    "result = job.result()\n",
    "counts = result.get_counts()\n",
    "print(counts)"
   ]
  },
  {
   "cell_type": "markdown",
   "id": "e7c27ad0",
   "metadata": {},
   "source": [
    "### Another method:"
   ]
  },
  {
   "cell_type": "code",
   "execution_count": 14,
   "id": "d2ccd38d",
   "metadata": {},
   "outputs": [
    {
     "data": {
      "image/png": "[encoded data removed]",
      "text/plain": [
       "<Figure size 267.052x204.68 with 1 Axes>"
      ]
     },
     "execution_count": 14,
     "metadata": {},
     "output_type": "execute_result"
    }
   ],
   "source": [
    "qc=QuantumCircuit(2,2)   # 2 qubits and 2 bits\n",
    "qc.x(0)\n",
    "qc.h(1)\n",
    "qc.measure(range(2),range(2))\n",
    "qc.draw(output=\"mpl\")"
   ]
  },
  {
   "cell_type": "code",
   "execution_count": 15,
   "id": "b2a2c805",
   "metadata": {},
   "outputs": [
    {
     "data": {
      "image/png": "[encoded data removed]",
      "text/plain": [
       "<Figure size 155.306x204.68 with 1 Axes>"
      ]
     },
     "execution_count": 15,
     "metadata": {},
     "output_type": "execute_result"
    }
   ],
   "source": [
    "q=QuantumRegister(2,'qr')\n",
    "c=ClassicalRegister(2,'cr')\n",
    "qc=QuantumCircuit(q,c)\n",
    "qc.h(0)\n",
    "qc.x(1)\n",
    "qc.draw(output=\"mpl\")"
   ]
  },
  {
   "cell_type": "markdown",
   "id": "6b207989",
   "metadata": {},
   "source": [
    "***\n",
    "# Reset of qubits\n",
    "***\n",
    "\n",
    "- It is not a gate\n",
    "- It is irreversible\n",
    "- We can apply \n",
    "\n",
    "https://qiskit.org/documentation/stubs/qiskit.circuit.QuantumCircuit.reset.html#qiskit.circuit.QuantumCircuit.reset"
   ]
  },
  {
   "cell_type": "code",
   "execution_count": 16,
   "id": "3c860455",
   "metadata": {},
   "outputs": [
    {
     "data": {
      "image/png": "[encoded data removed]",
      "text/plain": [
       "<Figure size 146.652x204.68 with 1 Axes>"
      ]
     },
     "execution_count": 16,
     "metadata": {},
     "output_type": "execute_result"
    }
   ],
   "source": [
    "qc=QuantumCircuit(2,2)   # 2 qubits and 2 bits\n",
    "qc.x(0)\n",
    "qc.h(1)\n",
    "qc.draw(output=\"mpl\")"
   ]
  },
  {
   "cell_type": "code",
   "execution_count": 17,
   "id": "22757762",
   "metadata": {},
   "outputs": [
    {
     "data": {
      "text/latex": [
       "$$\n",
       "\n",
       "\\begin{bmatrix}\n",
       "0 & \\tfrac{1}{\\sqrt{2}} & 0 & \\tfrac{1}{\\sqrt{2}}  \\\\\n",
       " \\end{bmatrix}\n",
       "$$"
      ],
      "text/plain": [
       "<IPython.core.display.Latex object>"
      ]
     },
     "execution_count": 17,
     "metadata": {},
     "output_type": "execute_result"
    }
   ],
   "source": [
    "state = Statevector.from_instruction(qc)\n",
    "state.draw(output='latex')"
   ]
  },
  {
   "cell_type": "code",
   "execution_count": 18,
   "id": "e4464338",
   "metadata": {},
   "outputs": [
    {
     "data": {
      "text/plain": [
       "<qiskit.circuit.instructionset.InstructionSet at 0x7fca599d5ad0>"
      ]
     },
     "execution_count": 18,
     "metadata": {},
     "output_type": "execute_result"
    }
   ],
   "source": [
    "qc.reset(1)"
   ]
  },
  {
   "cell_type": "code",
   "execution_count": 19,
   "id": "ce57a36b",
   "metadata": {},
   "outputs": [
    {
     "data": {
      "image/png": "[encoded data removed]",
      "text/plain": [
       "<Figure size 206.852x204.68 with 1 Axes>"
      ]
     },
     "execution_count": 19,
     "metadata": {},
     "output_type": "execute_result"
    }
   ],
   "source": [
    "qc.draw(output=\"mpl\")"
   ]
  },
  {
   "cell_type": "code",
   "execution_count": 20,
   "id": "709d8ef2",
   "metadata": {},
   "outputs": [
    {
     "data": {
      "text/latex": [
       "$$\n",
       "\n",
       "\\begin{bmatrix}\n",
       "0 & 1 & 0 & 0  \\\\\n",
       " \\end{bmatrix}\n",
       "$$"
      ],
      "text/plain": [
       "<IPython.core.display.Latex object>"
      ]
     },
     "execution_count": 20,
     "metadata": {},
     "output_type": "execute_result"
    }
   ],
   "source": [
    "state = Statevector.from_instruction(qc)\n",
    "state.draw(output='latex')"
   ]
  },
  {
   "cell_type": "markdown",
   "id": "23981421",
   "metadata": {},
   "source": [
    "### We can apply reset in middle of the instructions"
   ]
  },
  {
   "cell_type": "code",
   "execution_count": 21,
   "id": "062c8ab0",
   "metadata": {},
   "outputs": [
    {
     "data": {
      "image/png": "[encoded data removed]",
      "text/plain": [
       "<Figure size 193.726x84.28 with 1 Axes>"
      ]
     },
     "execution_count": 21,
     "metadata": {},
     "output_type": "execute_result"
    }
   ],
   "source": [
    "qc=QuantumCircuit(1)   \n",
    "qc.x(0)\n",
    "qc.h(0)\n",
    "qc.draw(output=\"mpl\")"
   ]
  },
  {
   "cell_type": "code",
   "execution_count": 22,
   "id": "01901baf",
   "metadata": {},
   "outputs": [
    {
     "data": {
      "text/latex": [
       "$$\n",
       "\n",
       "\\begin{bmatrix}\n",
       "\\tfrac{1}{\\sqrt{2}} & -\\tfrac{1}{\\sqrt{2}}  \\\\\n",
       " \\end{bmatrix}\n",
       "$$"
      ],
      "text/plain": [
       "<IPython.core.display.Latex object>"
      ]
     },
     "execution_count": 22,
     "metadata": {},
     "output_type": "execute_result"
    }
   ],
   "source": [
    "state = Statevector.from_instruction(qc)\n",
    "state.draw(output='latex')"
   ]
  },
  {
   "cell_type": "code",
   "execution_count": 23,
   "id": "b1a89af9",
   "metadata": {},
   "outputs": [
    {
     "data": {
      "image/png": "[encoded data removed]",
      "text/plain": [
       "<Figure size 253.926x84.28 with 1 Axes>"
      ]
     },
     "execution_count": 23,
     "metadata": {},
     "output_type": "execute_result"
    }
   ],
   "source": [
    "qc=QuantumCircuit(1)   # 2 qubits and 2 bits\n",
    "qc.x(0)\n",
    "qc.reset(0)\n",
    "qc.h(0)\n",
    "qc.draw(output=\"mpl\")"
   ]
  },
  {
   "cell_type": "code",
   "execution_count": 24,
   "id": "0eb039d7",
   "metadata": {},
   "outputs": [
    {
     "data": {
      "text/latex": [
       "$$\n",
       "\n",
       "\\begin{bmatrix}\n",
       "\\tfrac{1}{\\sqrt{2}} & \\tfrac{1}{\\sqrt{2}}  \\\\\n",
       " \\end{bmatrix}\n",
       "$$"
      ],
      "text/plain": [
       "<IPython.core.display.Latex object>"
      ]
     },
     "execution_count": 24,
     "metadata": {},
     "output_type": "execute_result"
    }
   ],
   "source": [
    "state = Statevector.from_instruction(qc)\n",
    "state.draw(output='latex')"
   ]
  },
  {
   "cell_type": "markdown",
   "id": "d30dc97d",
   "metadata": {},
   "source": [
    "***\n",
    "# Conditional opertion : c_if\n",
    "***\n",
    "\n",
    "https://qiskit.org/documentation/stubs/qiskit.circuit.Instruction.html"
   ]
  },
  {
   "cell_type": "code",
   "execution_count": 25,
   "id": "fb52415e",
   "metadata": {},
   "outputs": [
    {
     "data": {
      "image/png": "[encoded data removed]",
      "text/plain": [
       "<Figure size 155.306x204.68 with 1 Axes>"
      ]
     },
     "execution_count": 25,
     "metadata": {},
     "output_type": "execute_result"
    }
   ],
   "source": [
    "qr=QuantumRegister(2,'qr')\n",
    "cr=ClassicalRegister(2,'cr')\n",
    "\n",
    "qc=QuantumCircuit(qr,cr)   # 2 qubits and 2 bits\n",
    "qc.x(0)\n",
    "qc.x(1)\n",
    "qc.draw(output=\"mpl\")"
   ]
  },
  {
   "cell_type": "code",
   "execution_count": 26,
   "id": "e2bd7a9a",
   "metadata": {},
   "outputs": [
    {
     "data": {
      "text/latex": [
       "$$\n",
       "\n",
       "\\begin{bmatrix}\n",
       "0 & 0 & 0 & 1  \\\\\n",
       " \\end{bmatrix}\n",
       "$$"
      ],
      "text/plain": [
       "<IPython.core.display.Latex object>"
      ]
     },
     "execution_count": 26,
     "metadata": {},
     "output_type": "execute_result"
    }
   ],
   "source": [
    "state = Statevector.from_instruction(qc)\n",
    "state.draw(output='latex')"
   ]
  },
  {
   "cell_type": "markdown",
   "id": "6a7df17b",
   "metadata": {},
   "source": [
    "### In this example , s gate will be applied to qubit1 only when cr==0"
   ]
  },
  {
   "cell_type": "markdown",
   "id": "3193f041",
   "metadata": {},
   "source": [
    "## SYNTAX : c_if(classical bit,value)\n",
    "\n",
    "checks for the equality condition between clbit(register) and value"
   ]
  },
  {
   "cell_type": "code",
   "execution_count": 27,
   "id": "9888d393",
   "metadata": {},
   "outputs": [
    {
     "data": {
      "text/plain": [
       "<qiskit.circuit.instructionset.InstructionSet at 0x7fca59c490d0>"
      ]
     },
     "execution_count": 27,
     "metadata": {},
     "output_type": "execute_result"
    }
   ],
   "source": [
    "qc.s(qr[1]).c_if(cr,0)"
   ]
  },
  {
   "cell_type": "code",
   "execution_count": 28,
   "id": "8565d649",
   "metadata": {},
   "outputs": [
    {
     "data": {
      "image/png": "[encoded data removed]",
      "text/plain": [
       "<Figure size 215.506x204.68 with 1 Axes>"
      ]
     },
     "execution_count": 28,
     "metadata": {},
     "output_type": "execute_result"
    }
   ],
   "source": [
    "qc.draw(output=\"mpl\")"
   ]
  },
  {
   "cell_type": "code",
   "execution_count": 29,
   "id": "5fdffcf9",
   "metadata": {},
   "outputs": [
    {
     "data": {
      "text/latex": [
       "$$\n",
       "\n",
       "\\begin{bmatrix}\n",
       "0 & 0 & 0 & i  \\\\\n",
       " \\end{bmatrix}\n",
       "$$"
      ],
      "text/plain": [
       "<IPython.core.display.Latex object>"
      ]
     },
     "execution_count": 29,
     "metadata": {},
     "output_type": "execute_result"
    }
   ],
   "source": [
    "state = Statevector.from_instruction(qc)\n",
    "state.draw(output='latex')"
   ]
  },
  {
   "cell_type": "markdown",
   "id": "163fb4ec",
   "metadata": {},
   "source": [
    "### Another example:\n",
    "    Use conditional operation after measure"
   ]
  },
  {
   "cell_type": "code",
   "execution_count": 30,
   "id": "d16ccf08",
   "metadata": {},
   "outputs": [
    {
     "data": {
      "image/png": "[encoded data removed]",
      "text/plain": [
       "<Figure size 215.506x204.68 with 1 Axes>"
      ]
     },
     "execution_count": 30,
     "metadata": {},
     "output_type": "execute_result"
    }
   ],
   "source": [
    "qr=QuantumRegister(2,'qr')\n",
    "cr=ClassicalRegister(2,'cr')\n",
    "\n",
    "qc=QuantumCircuit(qr,cr)   # 2 qubits and 2 bits\n",
    "qc.x(0)\n",
    "\n",
    "qc.measure([0,1],[0,1])\n",
    "qc.draw(output=\"mpl\")"
   ]
  },
  {
   "cell_type": "code",
   "execution_count": 31,
   "id": "6e981ae8",
   "metadata": {},
   "outputs": [
    {
     "data": {
      "text/plain": [
       "{'01': 1024}"
      ]
     },
     "execution_count": 31,
     "metadata": {},
     "output_type": "execute_result"
    }
   ],
   "source": [
    "qasm_sim(qc)"
   ]
  },
  {
   "cell_type": "markdown",
   "id": "e31cb4ae",
   "metadata": {},
   "source": [
    "### In this example , s gate will be applied to qubit1 only when cr==1"
   ]
  },
  {
   "cell_type": "code",
   "execution_count": 32,
   "id": "f7ad350c",
   "metadata": {},
   "outputs": [
    {
     "data": {
      "image/png": "[encoded data removed]",
      "text/plain": [
       "<Figure size 275.706x204.68 with 1 Axes>"
      ]
     },
     "execution_count": 32,
     "metadata": {},
     "output_type": "execute_result"
    }
   ],
   "source": [
    "qc.s(qr[0]).c_if(cr,1)\n",
    "qc.draw(output=\"mpl\")"
   ]
  },
  {
   "cell_type": "code",
   "execution_count": 33,
   "id": "bc6bb71e",
   "metadata": {},
   "outputs": [
    {
     "data": {
      "text/plain": [
       "{'01': 1024}"
      ]
     },
     "execution_count": 33,
     "metadata": {},
     "output_type": "execute_result"
    }
   ],
   "source": [
    "qasm_sim(qc)"
   ]
  },
  {
   "cell_type": "markdown",
   "id": "b82ea295",
   "metadata": {},
   "source": [
    "### In this example , x gate will be applied to qubit1 only when cr==1"
   ]
  },
  {
   "cell_type": "code",
   "execution_count": 34,
   "id": "4ffd3880",
   "metadata": {},
   "outputs": [
    {
     "data": {
      "image/png": "[encoded data removed]",
      "text/plain": [
       "<Figure size 456.306x204.68 with 1 Axes>"
      ]
     },
     "execution_count": 34,
     "metadata": {},
     "output_type": "execute_result"
    }
   ],
   "source": [
    "qc.x(qr[1]).c_if(cr,1)\n",
    "qc.measure([0,1],[0,1])\n",
    "qc.draw(output=\"mpl\")"
   ]
  },
  {
   "cell_type": "code",
   "execution_count": 35,
   "id": "78ccc5fb",
   "metadata": {},
   "outputs": [
    {
     "data": {
      "text/plain": [
       "{'11': 1024}"
      ]
     },
     "execution_count": 35,
     "metadata": {},
     "output_type": "execute_result"
    }
   ],
   "source": [
    "qasm_sim(qc)"
   ]
  }
 ],
 "metadata": {
  "kernelspec": {
   "display_name": "Python 3 (ipykernel)",
   "language": "python",
   "name": "python3"
  },
  "language_info": {
   "codemirror_mode": {
    "name": "ipython",
    "version": 3
   },
   "file_extension": ".py",
   "mimetype": "text/x-python",
   "name": "python",
   "nbconvert_exporter": "python",
   "pygments_lexer": "ipython3",
   "version": "3.9.12"
  }
 },
 "nbformat": 4,
 "nbformat_minor": 5
}
