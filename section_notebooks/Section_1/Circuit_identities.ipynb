{
 "cells": [
  {
   "cell_type": "markdown",
   "id": "7e7ae68d",
   "metadata": {},
   "source": [
    "# Circuit Identities:\n",
    "\n",
    "Reference:\n",
    "\n",
    "https://qiskit.org/textbook/ch-gates/more-circuit-identities.html\n",
    "    \n",
    "https://qiskit.org/textbook/ch-gates/proving-universality.html"
   ]
  },
  {
   "cell_type": "markdown",
   "id": "74986546",
   "metadata": {},
   "source": [
    "- SXSdg= Y\n",
    "- SYSdg=-X\n",
    "- SZSdg= Z"
   ]
  },
  {
   "cell_type": "markdown",
   "id": "28f5a0e9",
   "metadata": {},
   "source": [
    "- XXX= X  ---------   YXY=-X -------- ZXZ=-X\n",
    "- XYX= Y  ---------   YYY= Y -------- ZYZ=-Y\n",
    "- XZX= Z  ---------   YZY=-Z -------- ZZZ= Z"
   ]
  },
  {
   "cell_type": "markdown",
   "id": "e9533dd1",
   "metadata": {},
   "source": [
    "- HXH= Z\n",
    "- HYH= -Y\n",
    "- HZH= X"
   ]
  },
  {
   "cell_type": "markdown",
   "id": "872ca4a6",
   "metadata": {},
   "source": [
    "# HXH= Z"
   ]
  },
  {
   "cell_type": "code",
   "execution_count": 3,
   "id": "bd5adec0",
   "metadata": {},
   "outputs": [],
   "source": [
    "from qiskit import QuantumCircuit,BasicAer,transpile\n",
    "from qiskit.extensions import *\n",
    "from qiskit.quantum_info.operators import Operator, Pauli\n",
    "from qiskit.visualization import *\n",
    "from math import *\n",
    "import numpy as np\n",
    "backend=BasicAer.get_backend('unitary_simulator')"
   ]
  },
  {
   "cell_type": "code",
   "execution_count": 2,
   "id": "416ce52c",
   "metadata": {},
   "outputs": [
    {
     "data": {
      "text/html": [
       "<pre style=\"word-wrap: normal;white-space: pre;background: #fff0;line-height: 1.1;font-family: &quot;Courier New&quot;,Courier,monospace\">   ┌───┐┌───┐┌───┐\n",
       "q: ┤ H ├┤ X ├┤ H ├\n",
       "   └───┘└───┘└───┘</pre>"
      ],
      "text/plain": [
       "   ┌───┐┌───┐┌───┐\n",
       "q: ┤ H ├┤ X ├┤ H ├\n",
       "   └───┘└───┘└───┘"
      ]
     },
     "execution_count": 2,
     "metadata": {},
     "output_type": "execute_result"
    }
   ],
   "source": [
    "qc=QuantumCircuit(1)\n",
    "qc.h(0)\n",
    "qc.x(0)\n",
    "qc.h(0)\n",
    "qc.draw()"
   ]
  },
  {
   "cell_type": "code",
   "execution_count": 3,
   "id": "29a2f64f",
   "metadata": {},
   "outputs": [
    {
     "data": {
      "text/plain": [
       "array([[ 1.+0.j,  0.+0.j],\n",
       "       [ 0.+0.j, -1.-0.j]])"
      ]
     },
     "execution_count": 3,
     "metadata": {},
     "output_type": "execute_result"
    }
   ],
   "source": [
    "job = backend.run(transpile(qc, backend))\n",
    "job.result().get_unitary(qc, decimals=3)"
   ]
  },
  {
   "cell_type": "code",
   "execution_count": 4,
   "id": "5f9f5dbe",
   "metadata": {},
   "outputs": [
    {
     "data": {
      "text/plain": [
       "array([[ 1.+0.j,  0.+0.j],\n",
       "       [ 0.+0.j, -1.+0.j]])"
      ]
     },
     "execution_count": 4,
     "metadata": {},
     "output_type": "execute_result"
    }
   ],
   "source": [
    "Operator(ZGate()).data"
   ]
  },
  {
   "cell_type": "markdown",
   "id": "f4126bf2",
   "metadata": {},
   "source": [
    "# HZH= X"
   ]
  },
  {
   "cell_type": "code",
   "execution_count": 5,
   "id": "bfbfe3b0",
   "metadata": {},
   "outputs": [
    {
     "data": {
      "text/html": [
       "<pre style=\"word-wrap: normal;white-space: pre;background: #fff0;line-height: 1.1;font-family: &quot;Courier New&quot;,Courier,monospace\">   ┌───┐┌───┐┌───┐\n",
       "q: ┤ H ├┤ Z ├┤ H ├\n",
       "   └───┘└───┘└───┘</pre>"
      ],
      "text/plain": [
       "   ┌───┐┌───┐┌───┐\n",
       "q: ┤ H ├┤ Z ├┤ H ├\n",
       "   └───┘└───┘└───┘"
      ]
     },
     "execution_count": 5,
     "metadata": {},
     "output_type": "execute_result"
    }
   ],
   "source": [
    "qc=QuantumCircuit(1)\n",
    "qc.h(0)\n",
    "qc.z(0)\n",
    "qc.h(0)\n",
    "qc.draw()"
   ]
  },
  {
   "cell_type": "code",
   "execution_count": 6,
   "id": "abbe94ab",
   "metadata": {},
   "outputs": [
    {
     "data": {
      "text/plain": [
       "array([[0.+0.j, 1.-0.j],\n",
       "       [1.+0.j, 0.+0.j]])"
      ]
     },
     "execution_count": 6,
     "metadata": {},
     "output_type": "execute_result"
    }
   ],
   "source": [
    "job = backend.run(transpile(qc, backend))\n",
    "job.result().get_unitary(qc, decimals=3)"
   ]
  },
  {
   "cell_type": "code",
   "execution_count": 7,
   "id": "a8023869",
   "metadata": {},
   "outputs": [
    {
     "data": {
      "text/plain": [
       "array([[0.+0.j, 1.+0.j],\n",
       "       [1.+0.j, 0.+0.j]])"
      ]
     },
     "execution_count": 7,
     "metadata": {},
     "output_type": "execute_result"
    }
   ],
   "source": [
    "Operator(XGate()).data"
   ]
  },
  {
   "cell_type": "markdown",
   "id": "8c2411ee",
   "metadata": {},
   "source": [
    "# Visualize Transition:"
   ]
  },
  {
   "cell_type": "code",
   "execution_count": 8,
   "id": "26aadd3f",
   "metadata": {},
   "outputs": [
    {
     "data": {
      "image/png": "[encoded data removed]",
      "text/plain": [
       "<Figure size 193.726x84.28 with 1 Axes>"
      ]
     },
     "execution_count": 8,
     "metadata": {},
     "output_type": "execute_result"
    }
   ],
   "source": [
    "qc=QuantumCircuit(1)\n",
    "qc.h(0)\n",
    "qc.z(0)\n",
    "\n",
    "qc.draw(output=\"mpl\")"
   ]
  },
  {
   "cell_type": "code",
   "execution_count": 1,
   "id": "fa4eab9b",
   "metadata": {},
   "outputs": [],
   "source": [
    "#visualize_transition(qc)"
   ]
  },
  {
   "cell_type": "markdown",
   "id": "f1a4fbbe",
   "metadata": {},
   "source": [
    "# Summary of Single qubit gates\n",
    "\n",
    "# X gate:\n",
    "    \n",
    "1. X|0> = |1>\n",
    "2. X|1> = |0>"
   ]
  },
  {
   "cell_type": "code",
   "execution_count": 8,
   "id": "5b84e49d",
   "metadata": {},
   "outputs": [
    {
     "data": {
      "text/latex": [
       "$$\n",
       "\n",
       "\\begin{bmatrix}\n",
       "0 & 1  \\\\\n",
       " 1 & 0  \\\\\n",
       " \\end{bmatrix}\n",
       "$$"
      ],
      "text/plain": [
       "<IPython.core.display.Latex object>"
      ]
     },
     "execution_count": 8,
     "metadata": {},
     "output_type": "execute_result"
    }
   ],
   "source": [
    "array_to_latex(Operator(XGate()).data)"
   ]
  },
  {
   "cell_type": "markdown",
   "id": "3f3f1243",
   "metadata": {},
   "source": [
    "# Y gate:\n",
    "1. Y|0>=  i|1>\n",
    "2. Y|1>= -i|0>"
   ]
  },
  {
   "cell_type": "code",
   "execution_count": 9,
   "id": "0e9bb5a1",
   "metadata": {},
   "outputs": [
    {
     "data": {
      "text/latex": [
       "$$\n",
       "\n",
       "\\begin{bmatrix}\n",
       "0 & -i  \\\\\n",
       " i & 0  \\\\\n",
       " \\end{bmatrix}\n",
       "$$"
      ],
      "text/plain": [
       "<IPython.core.display.Latex object>"
      ]
     },
     "execution_count": 9,
     "metadata": {},
     "output_type": "execute_result"
    }
   ],
   "source": [
    "array_to_latex(Operator(YGate()).data)"
   ]
  },
  {
   "cell_type": "markdown",
   "id": "65682586",
   "metadata": {},
   "source": [
    "# Z gate:\n",
    "1. Z|0>=  |0>\n",
    "2. Z|1>= -|1>"
   ]
  },
  {
   "cell_type": "code",
   "execution_count": 10,
   "id": "e48f7577",
   "metadata": {},
   "outputs": [
    {
     "data": {
      "text/latex": [
       "$$\n",
       "\n",
       "\\begin{bmatrix}\n",
       "1 & 0  \\\\\n",
       " 0 & -1  \\\\\n",
       " \\end{bmatrix}\n",
       "$$"
      ],
      "text/plain": [
       "<IPython.core.display.Latex object>"
      ]
     },
     "execution_count": 10,
     "metadata": {},
     "output_type": "execute_result"
    }
   ],
   "source": [
    "array_to_latex(Operator(ZGate()).data)"
   ]
  },
  {
   "cell_type": "markdown",
   "id": "b964e056",
   "metadata": {},
   "source": [
    "# S gate/Z90/Phase gate : pi/2 phase\n",
    "1. S|0> =   |0>\n",
    "2. S|1> =  i|1>"
   ]
  },
  {
   "cell_type": "code",
   "execution_count": 11,
   "id": "12a9f52d",
   "metadata": {},
   "outputs": [
    {
     "data": {
      "text/latex": [
       "$$\n",
       "\n",
       "\\begin{bmatrix}\n",
       "1 & 0  \\\\\n",
       " 0 & i  \\\\\n",
       " \\end{bmatrix}\n",
       "$$"
      ],
      "text/plain": [
       "<IPython.core.display.Latex object>"
      ]
     },
     "execution_count": 11,
     "metadata": {},
     "output_type": "execute_result"
    }
   ],
   "source": [
    "array_to_latex(Operator(SGate()).data)"
   ]
  },
  {
   "cell_type": "markdown",
   "id": "e35db3ed",
   "metadata": {},
   "source": [
    "# Sdg :   -pi/2 phase\n",
    "1. Sdg|0> =    |0>\n",
    "2. Sdg|1> =  -i|1>"
   ]
  },
  {
   "cell_type": "code",
   "execution_count": 12,
   "id": "6e46bac6",
   "metadata": {},
   "outputs": [
    {
     "data": {
      "text/latex": [
       "$$\n",
       "\n",
       "\\begin{bmatrix}\n",
       "1 & 0  \\\\\n",
       " 0 & -i  \\\\\n",
       " \\end{bmatrix}\n",
       "$$"
      ],
      "text/plain": [
       "<IPython.core.display.Latex object>"
      ]
     },
     "execution_count": 12,
     "metadata": {},
     "output_type": "execute_result"
    }
   ],
   "source": [
    "array_to_latex(Operator(SdgGate()).data)"
   ]
  },
  {
   "cell_type": "markdown",
   "id": "ad414d36",
   "metadata": {},
   "source": [
    "# T gate/Rz(pi/4)/pi/8 gate : pi/4 phase\n",
    "1. T|0> =   |0>\n",
    "2. T|1> =  i|1>"
   ]
  },
  {
   "cell_type": "code",
   "execution_count": 13,
   "id": "0d3bc2c2",
   "metadata": {},
   "outputs": [
    {
     "data": {
      "text/latex": [
       "$$\n",
       "\n",
       "\\begin{bmatrix}\n",
       "1 & 0  \\\\\n",
       " 0 & \\tfrac{1}{\\sqrt{2}}(1 + i)  \\\\\n",
       " \\end{bmatrix}\n",
       "$$"
      ],
      "text/plain": [
       "<IPython.core.display.Latex object>"
      ]
     },
     "execution_count": 13,
     "metadata": {},
     "output_type": "execute_result"
    }
   ],
   "source": [
    "array_to_latex(Operator(TGate()).data)"
   ]
  },
  {
   "cell_type": "markdown",
   "id": "ab22781e",
   "metadata": {},
   "source": [
    "# Tdg :   -pi/4 phase\n",
    "1. Tdg|0> =    |0>\n",
    "2. Tdg|1> =  -i|1>"
   ]
  },
  {
   "cell_type": "code",
   "execution_count": 14,
   "id": "518d76fb",
   "metadata": {},
   "outputs": [
    {
     "data": {
      "text/latex": [
       "$$\n",
       "\n",
       "\\begin{bmatrix}\n",
       "1 & 0  \\\\\n",
       " 0 & \\tfrac{1}{\\sqrt{2}}(1 - i)  \\\\\n",
       " \\end{bmatrix}\n",
       "$$"
      ],
      "text/plain": [
       "<IPython.core.display.Latex object>"
      ]
     },
     "execution_count": 14,
     "metadata": {},
     "output_type": "execute_result"
    }
   ],
   "source": [
    "array_to_latex(Operator(TdgGate()).data)"
   ]
  },
  {
   "cell_type": "markdown",
   "id": "3fb9ef81",
   "metadata": {},
   "source": [
    "# T Gate :\n",
    "It is a rotation around the z axis by  θ=π/4\n",
    " \n",
    "expressed mathematically as  Rz(π/4)=e^ iπ/8 Z\n",
    "\n",
    "https://qiskit.org/textbook/ch-gates/more-circuit-identities.html\n",
    " "
   ]
  },
  {
   "cell_type": "code",
   "execution_count": null,
   "id": "f56a160d",
   "metadata": {},
   "outputs": [],
   "source": []
  }
 ],
 "metadata": {
  "kernelspec": {
   "display_name": "Python 3 (ipykernel)",
   "language": "python",
   "name": "python3"
  },
  "language_info": {
   "codemirror_mode": {
    "name": "ipython",
    "version": 3
   },
   "file_extension": ".py",
   "mimetype": "text/x-python",
   "name": "python",
   "nbconvert_exporter": "python",
   "pygments_lexer": "ipython3",
   "version": "3.9.12"
  }
 },
 "nbformat": 4,
 "nbformat_minor": 5
}
