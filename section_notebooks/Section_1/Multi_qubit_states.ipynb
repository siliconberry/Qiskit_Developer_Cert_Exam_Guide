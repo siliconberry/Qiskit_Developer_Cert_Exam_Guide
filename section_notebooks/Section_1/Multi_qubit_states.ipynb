{
 "cells": [
  {
   "cell_type": "markdown",
   "id": "d8070c81",
   "metadata": {},
   "source": [
    "# Representation of multiple qubit states"
   ]
  },
  {
   "cell_type": "markdown",
   "id": "5dd3797f",
   "metadata": {},
   "source": [
    "References: \n",
    "\n",
    "Qiskit textbook Reference:\n",
    "1. https://qiskit.org/textbook/ch-gates/multiple-qubits-entangled-states.html\n",
    "\n",
    "Qiskit Documentation:\n",
    "\n",
    "2. https://qiskit.org/documentation/tutorials/circuits/3_summary_of_quantum_operations.html\n",
    "\n",
    "IBM Operations Glossary\n",
    "\n",
    "3.https://quantum-computing.ibm.com/composer/docs/iqx/operations_glossary"
   ]
  },
  {
   "cell_type": "code",
   "execution_count": 1,
   "id": "1d5b40c1",
   "metadata": {},
   "outputs": [],
   "source": [
    "from qiskit import *\n",
    "from qiskit.quantum_info import Statevector\n",
    "from math import pi"
   ]
  },
  {
   "cell_type": "markdown",
   "id": "6468744c",
   "metadata": {},
   "source": [
    "***\n",
    "## MULTIPLE QUBIT STATES\n",
    "***"
   ]
  },
  {
   "cell_type": "markdown",
   "id": "7057b08d",
   "metadata": {},
   "source": [
    "- For 1 qubit we have 2 states: 0 and 1\n",
    "- For 2 qubits we have 4 states: 00 01 10 11\n",
    "- n qubits we have 2^n states"
   ]
  },
  {
   "cell_type": "markdown",
   "id": "1f2562db",
   "metadata": {},
   "source": [
    "EXAMPLE 1:"
   ]
  },
  {
   "cell_type": "code",
   "execution_count": 2,
   "id": "7baa8cb4",
   "metadata": {},
   "outputs": [
    {
     "data": {
      "image/png": "[encoded data removed]",
      "text/plain": [
       "<Figure size 146.652x144.48 with 1 Axes>"
      ]
     },
     "execution_count": 2,
     "metadata": {},
     "output_type": "execute_result"
    }
   ],
   "source": [
    "qc=QuantumCircuit(2)\n",
    "qc.x(0)\n",
    "qc.draw(output=\"mpl\")"
   ]
  },
  {
   "cell_type": "code",
   "execution_count": 3,
   "id": "0d663e08",
   "metadata": {},
   "outputs": [
    {
     "data": {
      "text/latex": [
       "$$\n",
       "\n",
       "\\begin{bmatrix}\n",
       "0 & 1 & 0 & 0  \\\\\n",
       " \\end{bmatrix}\n",
       "$$"
      ],
      "text/plain": [
       "<IPython.core.display.Latex object>"
      ]
     },
     "execution_count": 3,
     "metadata": {},
     "output_type": "execute_result"
    }
   ],
   "source": [
    "state = Statevector.from_instruction(qc)\n",
    "state.draw(output='latex')"
   ]
  },
  {
   "cell_type": "markdown",
   "id": "f537dedb",
   "metadata": {},
   "source": [
    " ####               NOTE\n",
    "    \n",
    "    q1  q0\n",
    "    0    0\n",
    "    0    1*********************\n",
    "    1    0\n",
    "    1    1"
   ]
  },
  {
   "cell_type": "markdown",
   "id": "b02a7d8b",
   "metadata": {},
   "source": [
    "### IMP : Qiskit Ordering \n",
    "   https://qiskit.org/documentation/tutorials/circuits/1_getting_started_with_qiskit.html\n",
    "        \n",
    "\"Basis vector ordering in Qiskit\"\n",
    "\n",
    "   REFERENCE:\n",
    "   https://qiskit.org/documentation/tutorials/circuits/3_summary_of_quantum_operations.html"
   ]
  },
  {
   "cell_type": "markdown",
   "id": "b4b2e437",
   "metadata": {},
   "source": [
    "### In other words :\n",
    "    |MSB -------- LSB>. i.e. |q1q0>, |q3q2q1q0>"
   ]
  },
  {
   "cell_type": "code",
   "execution_count": 4,
   "id": "8d6be561",
   "metadata": {},
   "outputs": [
    {
     "data": {
      "image/png": "[encoded data removed]",
      "text/plain": [
       "<Figure size 146.652x144.48 with 1 Axes>"
      ]
     },
     "execution_count": 4,
     "metadata": {},
     "output_type": "execute_result"
    }
   ],
   "source": [
    "qc=QuantumCircuit(2)\n",
    "qc.x(1)\n",
    "qc.draw(output=\"mpl\")"
   ]
  },
  {
   "cell_type": "code",
   "execution_count": 5,
   "id": "27ff1599",
   "metadata": {},
   "outputs": [
    {
     "data": {
      "text/latex": [
       "$$\n",
       "\n",
       "\\begin{bmatrix}\n",
       "0 & 0 & 1 & 0  \\\\\n",
       " \\end{bmatrix}\n",
       "$$"
      ],
      "text/plain": [
       "<IPython.core.display.Latex object>"
      ]
     },
     "execution_count": 5,
     "metadata": {},
     "output_type": "execute_result"
    }
   ],
   "source": [
    "state = Statevector.from_instruction(qc)\n",
    "state.draw(output='latex')"
   ]
  },
  {
   "cell_type": "markdown",
   "id": "9b78a6c5",
   "metadata": {},
   "source": [
    "EXAMPLE 2:"
   ]
  },
  {
   "cell_type": "code",
   "execution_count": 6,
   "id": "474604f3",
   "metadata": {},
   "outputs": [
    {
     "data": {
      "image/png": "[encoded data removed]",
      "text/plain": [
       "<Figure size 146.652x144.48 with 1 Axes>"
      ]
     },
     "execution_count": 6,
     "metadata": {},
     "output_type": "execute_result"
    }
   ],
   "source": [
    "qc=QuantumCircuit(2)\n",
    "qc.h(1)\n",
    "qc.draw(output=\"mpl\")"
   ]
  },
  {
   "cell_type": "code",
   "execution_count": 7,
   "id": "1e4dc6c2",
   "metadata": {},
   "outputs": [
    {
     "data": {
      "text/latex": [
       "$$\n",
       "\n",
       "\\begin{bmatrix}\n",
       "\\tfrac{1}{\\sqrt{2}} & 0 & \\tfrac{1}{\\sqrt{2}} & 0  \\\\\n",
       " \\end{bmatrix}\n",
       "$$"
      ],
      "text/plain": [
       "<IPython.core.display.Latex object>"
      ]
     },
     "execution_count": 7,
     "metadata": {},
     "output_type": "execute_result"
    }
   ],
   "source": [
    "state = Statevector.from_instruction(qc)\n",
    "state.draw(output='latex')"
   ]
  },
  {
   "cell_type": "code",
   "execution_count": 8,
   "id": "aff00042",
   "metadata": {},
   "outputs": [
    {
     "name": "stdout",
     "output_type": "stream",
     "text": [
      "[[ 0.707+0.j  0.   +0.j  0.707-0.j  0.   +0.j]\n",
      " [ 0.   +0.j  0.707+0.j  0.   +0.j  0.707-0.j]\n",
      " [ 0.707+0.j -0.   +0.j -0.707+0.j -0.   +0.j]\n",
      " [-0.   +0.j  0.707+0.j -0.   +0.j -0.707+0.j]]\n"
     ]
    }
   ],
   "source": [
    "backend = Aer.get_backend('unitary_simulator')\n",
    "\n",
    "job = execute(qc, backend)\n",
    "result = job.result()\n",
    "#Obtain the unitary matrix for cx gate\n",
    "print(result.get_unitary(qc, decimals=3))"
   ]
  },
  {
   "cell_type": "code",
   "execution_count": 9,
   "id": "25b928c8",
   "metadata": {},
   "outputs": [
    {
     "name": "stderr",
     "output_type": "stream",
     "text": [
      "/Users/dimplebavlecha/opt/anaconda3/lib/python3.7/site-packages/qiskit/utils/deprecation.py:62: DeprecationWarning: Using a qobj for run() is deprecated as of qiskit-aer 0.9.0 and will be removed no sooner than 3 months from that release date. Transpiled circuits should now be passed directly using `backend.run(circuits, **run_options).\n",
      "  return func(*args, **kwargs)\n"
     ]
    }
   ],
   "source": [
    "backend = Aer.get_backend('aer_simulator')\n",
    "qc.save_unitary()\n",
    "qc_circuit = assemble(qc)\n",
    "qc_obj= backend.run(qc_circuit)\n",
    "unitary=qc_obj.result().get_unitary()\n",
    "\n"
   ]
  },
  {
   "cell_type": "code",
   "execution_count": 10,
   "id": "3bdb71b2",
   "metadata": {},
   "outputs": [
    {
     "data": {
      "text/latex": [
       "$$\n",
       "\n",
       "\\begin{bmatrix}\n",
       "\\tfrac{1}{\\sqrt{2}} & 0 & \\tfrac{1}{\\sqrt{2}} & 0  \\\\\n",
       " 0 & \\tfrac{1}{\\sqrt{2}} & 0 & \\tfrac{1}{\\sqrt{2}}  \\\\\n",
       " \\tfrac{1}{\\sqrt{2}} & 0 & -\\tfrac{1}{\\sqrt{2}} & 0  \\\\\n",
       " 0 & \\tfrac{1}{\\sqrt{2}} & 0 & -\\tfrac{1}{\\sqrt{2}}  \\\\\n",
       " \\end{bmatrix}\n",
       "$$"
      ],
      "text/plain": [
       "<IPython.core.display.Latex object>"
      ]
     },
     "execution_count": 10,
     "metadata": {},
     "output_type": "execute_result"
    }
   ],
   "source": [
    "from qiskit.visualization import array_to_latex\n",
    "array_to_latex(unitary)"
   ]
  },
  {
   "cell_type": "code",
   "execution_count": null,
   "id": "062c6e64",
   "metadata": {},
   "outputs": [],
   "source": []
  }
 ],
 "metadata": {
  "kernelspec": {
   "display_name": "Python 3 (ipykernel)",
   "language": "python",
   "name": "python3"
  },
  "language_info": {
   "codemirror_mode": {
    "name": "ipython",
    "version": 3
   },
   "file_extension": ".py",
   "mimetype": "text/x-python",
   "name": "python",
   "nbconvert_exporter": "python",
   "pygments_lexer": "ipython3",
   "version": "3.9.12"
  }
 },
 "nbformat": 4,
 "nbformat_minor": 5
}
