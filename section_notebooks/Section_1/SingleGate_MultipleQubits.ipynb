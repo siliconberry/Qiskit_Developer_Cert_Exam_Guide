{
 "cells": [
  {
   "cell_type": "markdown",
   "id": "6c4fc8fd",
   "metadata": {},
   "source": [
    "# Different methods to  initialize multiple single qubit gates to multiple qubits"
   ]
  },
  {
   "cell_type": "code",
   "execution_count": 2,
   "id": "ca78cd9a",
   "metadata": {},
   "outputs": [],
   "source": [
    "from qiskit import QuantumCircuit,QuantumRegister,ClassicalRegister"
   ]
  },
  {
   "cell_type": "markdown",
   "id": "bdb60b00",
   "metadata": {},
   "source": [
    "## Example: Apply 3 hadamard gates(H gate) to all 3 qubits"
   ]
  },
  {
   "cell_type": "code",
   "execution_count": 3,
   "id": "67e4df2e",
   "metadata": {},
   "outputs": [
    {
     "data": {
      "image/png": "[encoded data removed]",
      "text/plain": [
       "<Figure size 155.451x204.68 with 1 Axes>"
      ]
     },
     "execution_count": 3,
     "metadata": {},
     "output_type": "execute_result"
    }
   ],
   "source": [
    "qc=QuantumCircuit(QuantumRegister(3,'qr'))\n",
    "qc.h(0)\n",
    "qc.h(1)\n",
    "qc.h(2)\n",
    "qc.draw(output=\"mpl\")"
   ]
  },
  {
   "cell_type": "code",
   "execution_count": 4,
   "id": "bbaf9949",
   "metadata": {},
   "outputs": [
    {
     "data": {
      "image/png": "[encoded data removed]",
      "text/plain": [
       "<Figure size 155.451x204.68 with 1 Axes>"
      ]
     },
     "execution_count": 4,
     "metadata": {},
     "output_type": "execute_result"
    }
   ],
   "source": [
    "qc=QuantumCircuit(QuantumRegister(3,'qr'))\n",
    "qc.h(range(3))\n",
    "qc.draw(output=\"mpl\")"
   ]
  },
  {
   "cell_type": "code",
   "execution_count": 6,
   "id": "9e6249f7",
   "metadata": {},
   "outputs": [
    {
     "data": {
      "image/png": "[encoded data removed]",
      "text/plain": [
       "<Figure size 155.451x204.68 with 1 Axes>"
      ]
     },
     "execution_count": 6,
     "metadata": {},
     "output_type": "execute_result"
    }
   ],
   "source": [
    "q=QuantumRegister(3,'qr')\n",
    "qc=QuantumCircuit(q)\n",
    "qc.h(q[0:3])\n",
    "qc.draw(output=\"mpl\")"
   ]
  },
  {
   "cell_type": "markdown",
   "id": "ff87d3a1",
   "metadata": {},
   "source": [
    "## applies H gate only to the qubit-1"
   ]
  },
  {
   "cell_type": "code",
   "execution_count": 7,
   "id": "80c5fc65",
   "metadata": {},
   "outputs": [
    {
     "data": {
      "image/png": "[encoded data removed]",
      "text/plain": [
       "<Figure size 155.451x204.68 with 1 Axes>"
      ]
     },
     "execution_count": 7,
     "metadata": {},
     "output_type": "execute_result"
    }
   ],
   "source": [
    "q=QuantumRegister(3,'qr')\n",
    "qc=QuantumCircuit(q)\n",
    "qc.h(q[0])\n",
    "qc.draw(output=\"mpl\")"
   ]
  }
 ],
 "metadata": {
  "kernelspec": {
   "display_name": "Python 3 (ipykernel)",
   "language": "python",
   "name": "python3"
  },
  "language_info": {
   "codemirror_mode": {
    "name": "ipython",
    "version": 3
   },
   "file_extension": ".py",
   "mimetype": "text/x-python",
   "name": "python",
   "nbconvert_exporter": "python",
   "pygments_lexer": "ipython3",
   "version": "3.9.12"
  }
 },
 "nbformat": 4,
 "nbformat_minor": 5
}
