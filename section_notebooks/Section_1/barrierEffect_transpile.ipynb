{
 "cells": [
  {
   "cell_type": "markdown",
   "id": "6821fe64",
   "metadata": {},
   "source": [
    "# Barrier gate:\n",
    "\n",
    "    - Non-unitary operation\n",
    "    - Better visualization\n",
    "\n",
    "### Informs the transpiler not to combine the gates"
   ]
  },
  {
   "cell_type": "markdown",
   "id": "bf479f5a",
   "metadata": {},
   "source": [
    "## Another use of barrier during the tranpile process\n",
    "\n",
    "### Transpile: https://qiskit.org/documentation/apidoc/transpiler.html\n",
    "\n",
    "- In other words, transpile makes the given circuit compatible with the backend circuit layout by using their respective basis gates.\n"
   ]
  },
  {
   "cell_type": "markdown",
   "id": "e4b506d3",
   "metadata": {},
   "source": [
    "NOTE: Only for testing purposes we will use the mock backends\n",
    "<a href=\"./Mock_backends_Testing.ipynb\">Refer</a>"
   ]
  },
  {
   "cell_type": "code",
   "execution_count": 1,
   "id": "17af902b",
   "metadata": {},
   "outputs": [],
   "source": [
    "from qiskit import QuantumCircuit,QuantumRegister,transpile\n",
    "from qiskit.test.mock import FakeVigo,FakeLondon"
   ]
  },
  {
   "cell_type": "code",
   "execution_count": 2,
   "id": "4764f5cd",
   "metadata": {},
   "outputs": [
    {
     "data": {
      "image/png": "[encoded data removed]",
      "text/plain": [
       "<Figure size 374.326x84.28 with 1 Axes>"
      ]
     },
     "execution_count": 2,
     "metadata": {},
     "output_type": "execute_result"
    }
   ],
   "source": [
    "qc=QuantumCircuit(1)\n",
    "qc.h(0)\n",
    "qc.barrier(0)\n",
    "qc.x(0)\n",
    "qc.barrier(0)\n",
    "qc.h(0)\n",
    "\n",
    "qc.draw(output=\"mpl\")"
   ]
  },
  {
   "cell_type": "markdown",
   "id": "8384c09a",
   "metadata": {},
   "source": [
    "### NOTE:\n",
    "\n",
    "    - In the following example for a given backend\n",
    "    - Transpile: The entire given circuit gets rewired to the available basis gates of  \n",
    "       the selected backend(i.e in our case backend= fake_vigo\n",
    "    - In the given backend ,H is transpiled into Rz-sqrt(X)-Rz\n",
    "    - Since there is a barrrier present we can see the gates are not combined by the   \n",
    "      compiler"
   ]
  },
  {
   "cell_type": "code",
   "execution_count": 3,
   "id": "be7dfafb",
   "metadata": {},
   "outputs": [],
   "source": [
    "device_backend = FakeVigo()"
   ]
  },
  {
   "cell_type": "code",
   "execution_count": 4,
   "id": "04a33c3c",
   "metadata": {},
   "outputs": [],
   "source": [
    "config_details = device_backend.configuration()"
   ]
  },
  {
   "cell_type": "code",
   "execution_count": 5,
   "id": "f352c981",
   "metadata": {},
   "outputs": [
    {
     "data": {
      "text/plain": [
       "'fake_vigo'"
      ]
     },
     "execution_count": 5,
     "metadata": {},
     "output_type": "execute_result"
    }
   ],
   "source": [
    "config_details.backend_name"
   ]
  },
  {
   "cell_type": "code",
   "execution_count": 6,
   "id": "74848702",
   "metadata": {},
   "outputs": [
    {
     "data": {
      "text/plain": [
       "5"
      ]
     },
     "execution_count": 6,
     "metadata": {},
     "output_type": "execute_result"
    }
   ],
   "source": [
    "config_details.n_qubits"
   ]
  },
  {
   "cell_type": "code",
   "execution_count": 7,
   "id": "753fb41e",
   "metadata": {},
   "outputs": [
    {
     "data": {
      "text/plain": [
       "['id', 'rz', 'sx', 'x', 'cx']"
      ]
     },
     "execution_count": 7,
     "metadata": {},
     "output_type": "execute_result"
    }
   ],
   "source": [
    "config_details.basis_gates"
   ]
  },
  {
   "cell_type": "code",
   "execution_count": 8,
   "id": "3929649c",
   "metadata": {},
   "outputs": [
    {
     "data": {
      "image/png": "[encoded data removed]",
      "text/plain": [
       "<Figure size 721.131x325.08 with 1 Axes>"
      ]
     },
     "execution_count": 8,
     "metadata": {},
     "output_type": "execute_result"
    }
   ],
   "source": [
    "qc_transpile=transpile(qc,device_backend)\n",
    "qc_transpile.draw(output=\"mpl\")"
   ]
  },
  {
   "cell_type": "markdown",
   "id": "25232683",
   "metadata": {},
   "source": [
    "NOTE:\n",
    "\n",
    "    Now let's see if we remove the barrier"
   ]
  },
  {
   "cell_type": "code",
   "execution_count": 9,
   "id": "3f87861f",
   "metadata": {},
   "outputs": [
    {
     "data": {
      "image/png": "[encoded data removed]",
      "text/plain": [
       "<Figure size 253.926x84.28 with 1 Axes>"
      ]
     },
     "execution_count": 9,
     "metadata": {},
     "output_type": "execute_result"
    }
   ],
   "source": [
    "qc=QuantumCircuit(1)\n",
    "qc.h(0)\n",
    "qc.x(0)\n",
    "qc.h(0)\n",
    "\n",
    "qc.draw(output=\"mpl\")"
   ]
  },
  {
   "cell_type": "code",
   "execution_count": 10,
   "id": "1f30fef0",
   "metadata": {},
   "outputs": [
    {
     "data": {
      "image/png": "[encoded data removed]",
      "text/plain": [
       "<Figure size 239.531x325.08 with 1 Axes>"
      ]
     },
     "execution_count": 10,
     "metadata": {},
     "output_type": "execute_result"
    }
   ],
   "source": [
    "qc_transpile=transpile(qc,device_backend)\n",
    "qc_transpile.draw(output=\"mpl\")"
   ]
  },
  {
   "cell_type": "markdown",
   "id": "17bcb50d",
   "metadata": {},
   "source": [
    "### Output: \n",
    "    \n",
    "    - Now we observe the H-X-H are combined by the compiler for the selected backend\n",
    "    - HXH equivalent is Rz which have been rewired for the available basis gates of \n",
    "      the fake_vigo backend\n",
    "    "
   ]
  },
  {
   "cell_type": "markdown",
   "id": "c30a88b7",
   "metadata": {},
   "source": [
    "### Let's take another backend to understand better , backend with <= 5 qubits and corresponding their basis gates"
   ]
  },
  {
   "cell_type": "code",
   "execution_count": 11,
   "id": "be8df52a",
   "metadata": {},
   "outputs": [],
   "source": [
    "device_backend = FakeLondon()"
   ]
  },
  {
   "cell_type": "code",
   "execution_count": 12,
   "id": "b629b911",
   "metadata": {},
   "outputs": [],
   "source": [
    "config_details = device_backend.configuration()"
   ]
  },
  {
   "cell_type": "code",
   "execution_count": 13,
   "id": "4e9fd19e",
   "metadata": {},
   "outputs": [
    {
     "data": {
      "text/plain": [
       "'fake_london'"
      ]
     },
     "execution_count": 13,
     "metadata": {},
     "output_type": "execute_result"
    }
   ],
   "source": [
    "config_details.backend_name"
   ]
  },
  {
   "cell_type": "code",
   "execution_count": 14,
   "id": "ae3d9dc8",
   "metadata": {},
   "outputs": [
    {
     "data": {
      "text/plain": [
       "5"
      ]
     },
     "execution_count": 14,
     "metadata": {},
     "output_type": "execute_result"
    }
   ],
   "source": [
    "config_details.n_qubits"
   ]
  },
  {
   "cell_type": "code",
   "execution_count": 15,
   "id": "18f48958",
   "metadata": {},
   "outputs": [
    {
     "data": {
      "text/plain": [
       "['id', 'u1', 'u2', 'u3', 'cx']"
      ]
     },
     "execution_count": 15,
     "metadata": {},
     "output_type": "execute_result"
    }
   ],
   "source": [
    "config_details.basis_gates"
   ]
  },
  {
   "cell_type": "code",
   "execution_count": 16,
   "id": "d7fc8a4e",
   "metadata": {},
   "outputs": [
    {
     "data": {
      "image/png": "[encoded data removed]",
      "text/plain": [
       "<Figure size 253.926x84.28 with 1 Axes>"
      ]
     },
     "execution_count": 16,
     "metadata": {},
     "output_type": "execute_result"
    }
   ],
   "source": [
    "qc=QuantumCircuit(1)\n",
    "qc.h(0)\n",
    "qc.x(0)\n",
    "qc.h(0)\n",
    "\n",
    "qc.draw(output=\"mpl\")"
   ]
  },
  {
   "cell_type": "markdown",
   "id": "aa863f2d",
   "metadata": {},
   "source": [
    "### NOTE:\n",
    "    IN this backend, depending on the basis gates, all the 3 gates are compiled \n",
    "    together"
   ]
  },
  {
   "cell_type": "code",
   "execution_count": 17,
   "id": "9f36a7e1",
   "metadata": {},
   "outputs": [
    {
     "data": {
      "image/png": "[encoded data removed]",
      "text/plain": [
       "<Figure size 239.531x325.08 with 1 Axes>"
      ]
     },
     "execution_count": 17,
     "metadata": {},
     "output_type": "execute_result"
    }
   ],
   "source": [
    "qc_transpile=transpile(qc,device_backend)\n",
    "qc_transpile.draw(output=\"mpl\")"
   ]
  },
  {
   "cell_type": "code",
   "execution_count": 18,
   "id": "589d3355",
   "metadata": {},
   "outputs": [
    {
     "data": {
      "image/png": "[encoded data removed]",
      "text/plain": [
       "<Figure size 374.326x84.28 with 1 Axes>"
      ]
     },
     "execution_count": 18,
     "metadata": {},
     "output_type": "execute_result"
    }
   ],
   "source": [
    "qc=QuantumCircuit(1)\n",
    "qc.h(0)\n",
    "qc.barrier(0)\n",
    "qc.x(0)\n",
    "qc.barrier(0)\n",
    "qc.h(0)\n",
    "\n",
    "qc.draw(output=\"mpl\")"
   ]
  },
  {
   "cell_type": "markdown",
   "id": "3c9584c7",
   "metadata": {},
   "source": [
    "### Note:\n",
    "    - After the barrier has been added, each gate is transpiled/hard-wired separately\n",
    "    - H-------> u2(0,pi)\n",
    "    - X-------> u3(pi,0,pi)"
   ]
  },
  {
   "cell_type": "code",
   "execution_count": 19,
   "id": "68c82917",
   "metadata": {},
   "outputs": [
    {
     "data": {
      "image/png": "[encoded data removed]",
      "text/plain": [
       "<Figure size 480.331x325.08 with 1 Axes>"
      ]
     },
     "execution_count": 19,
     "metadata": {},
     "output_type": "execute_result"
    }
   ],
   "source": [
    "qc_transpile=transpile(qc,device_backend)\n",
    "qc_transpile.draw(output=\"mpl\")"
   ]
  },
  {
   "cell_type": "markdown",
   "id": "c6eff2fe",
   "metadata": {},
   "source": [
    "# Conclusion: Barrier not only visually separates the gates in the circuit but also during the transpilation"
   ]
  }
 ],
 "metadata": {
  "kernelspec": {
   "display_name": "Python 3 (ipykernel)",
   "language": "python",
   "name": "python3"
  },
  "language_info": {
   "codemirror_mode": {
    "name": "ipython",
    "version": 3
   },
   "file_extension": ".py",
   "mimetype": "text/x-python",
   "name": "python",
   "nbconvert_exporter": "python",
   "pygments_lexer": "ipython3",
   "version": "3.9.12"
  }
 },
 "nbformat": 4,
 "nbformat_minor": 5
}
