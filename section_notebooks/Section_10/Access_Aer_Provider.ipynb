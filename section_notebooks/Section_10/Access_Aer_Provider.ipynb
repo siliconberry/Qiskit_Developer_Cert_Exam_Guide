{
 "cells": [
  {
   "cell_type": "markdown",
   "id": "c59af9db",
   "metadata": {},
   "source": [
    "# Access Aer Provider\n",
    "\n",
    "1. Access a statevector_simulator backend\n",
    "2. Access a qasm_simulator backend\n",
    "3. Access a unitary_simulator backend"
   ]
  },
  {
   "cell_type": "markdown",
   "id": "2f8f98d2",
   "metadata": {},
   "source": [
    "# Qiskit Simulator backends"
   ]
  },
  {
   "cell_type": "markdown",
   "id": "34489182",
   "metadata": {},
   "source": [
    "REFERENCES:\n",
    "\n",
    "1. Qiskit Aer Provider\n",
    "\n",
    "https://qiskit.org/documentation/apidoc/aer_provider.html\n",
    "    \n",
    "      \n",
    "2. Backends information(Mock backends)\n",
    "\n",
    "https://qiskit.org/documentation/tutorials/circuits_advanced/08_gathering_system_information.html\n"
   ]
  },
  {
   "cell_type": "markdown",
   "id": "ebc39814",
   "metadata": {},
   "source": [
    "## AerProvider: Provider for Qiskit Aer Backend"
   ]
  },
  {
   "cell_type": "markdown",
   "id": "cd7efe20",
   "metadata": {},
   "source": [
    "Simulator Provider :AerProvider()\n",
    "    \n",
    "https://qiskit.org/documentation/apidoc/aer_provider.html\n",
    "\n",
    "Method:backends()\n",
    "\n",
    "https://qiskit.org/documentation/stubs/qiskit.providers.aer.AerProvider.backends.html#qiskit.providers.aer.AerProvider.backends"
   ]
  },
  {
   "cell_type": "markdown",
   "id": "09c6d7d2",
   "metadata": {},
   "source": [
    "\n",
    "-  Backends available in the Qiskit Aer Provider"
   ]
  },
  {
   "cell_type": "code",
   "execution_count": 1,
   "id": "53c1b966",
   "metadata": {},
   "outputs": [],
   "source": [
    "from qiskit.providers.aer import AerProvider,Aer\n",
    "from qiskit import QuantumCircuit\n",
    "from qiskit.test.mock import FakeVigo"
   ]
  },
  {
   "cell_type": "code",
   "execution_count": 2,
   "id": "e17fd094",
   "metadata": {},
   "outputs": [
    {
     "data": {
      "text/plain": [
       "[AerSimulator('aer_simulator'),\n",
       " AerSimulator('aer_simulator_statevector'),\n",
       " AerSimulator('aer_simulator_density_matrix'),\n",
       " AerSimulator('aer_simulator_stabilizer'),\n",
       " AerSimulator('aer_simulator_matrix_product_state'),\n",
       " AerSimulator('aer_simulator_extended_stabilizer'),\n",
       " AerSimulator('aer_simulator_unitary'),\n",
       " AerSimulator('aer_simulator_superop'),\n",
       " QasmSimulator('qasm_simulator'),\n",
       " StatevectorSimulator('statevector_simulator'),\n",
       " UnitarySimulator('unitary_simulator'),\n",
       " PulseSimulator('pulse_simulator')]"
      ]
     },
     "execution_count": 2,
     "metadata": {},
     "output_type": "execute_result"
    }
   ],
   "source": [
    "provider=AerProvider()\n",
    "\n",
    "backend_list=provider.backends()\n",
    "\n",
    "backend_list\n"
   ]
  },
  {
   "cell_type": "code",
   "execution_count": 3,
   "id": "c5d178b2",
   "metadata": {},
   "outputs": [
    {
     "data": {
      "text/plain": [
       "'aer_simulator'"
      ]
     },
     "execution_count": 3,
     "metadata": {},
     "output_type": "execute_result"
    }
   ],
   "source": [
    "backend_list[0].name()"
   ]
  },
  {
   "cell_type": "code",
   "execution_count": 4,
   "id": "28817508",
   "metadata": {},
   "outputs": [
    {
     "name": "stdout",
     "output_type": "stream",
     "text": [
      "aer_simulator\n",
      "aer_simulator_statevector\n",
      "aer_simulator_density_matrix\n",
      "aer_simulator_stabilizer\n",
      "aer_simulator_matrix_product_state\n",
      "aer_simulator_extended_stabilizer\n",
      "aer_simulator_unitary\n",
      "aer_simulator_superop\n",
      "qasm_simulator\n",
      "statevector_simulator\n",
      "unitary_simulator\n",
      "pulse_simulator\n"
     ]
    }
   ],
   "source": [
    "for name in backend_list:\n",
    "    print(name)"
   ]
  },
  {
   "cell_type": "markdown",
   "id": "70bde94f",
   "metadata": {},
   "source": [
    "## To filter a particular backend from the list"
   ]
  },
  {
   "cell_type": "code",
   "execution_count": 5,
   "id": "987a6652",
   "metadata": {},
   "outputs": [],
   "source": [
    "backend=provider.backends(name='qasm_simulator')"
   ]
  },
  {
   "cell_type": "code",
   "execution_count": 6,
   "id": "7a7806bc",
   "metadata": {},
   "outputs": [
    {
     "data": {
      "text/plain": [
       "[QasmSimulator('qasm_simulator')]"
      ]
     },
     "execution_count": 6,
     "metadata": {},
     "output_type": "execute_result"
    }
   ],
   "source": [
    "backend"
   ]
  },
  {
   "cell_type": "markdown",
   "id": "08fd07f7",
   "metadata": {},
   "source": [
    "## To get a particular backend use the method: \n",
    "\n",
    "- get_backend(\"name of the backend)"
   ]
  },
  {
   "cell_type": "code",
   "execution_count": 7,
   "id": "00b7ffb2",
   "metadata": {},
   "outputs": [],
   "source": [
    "backend=provider.get_backend(name='qasm_simulator')"
   ]
  },
  {
   "cell_type": "code",
   "execution_count": 8,
   "id": "ebd7415b",
   "metadata": {},
   "outputs": [
    {
     "data": {
      "text/plain": [
       "QasmSimulator('qasm_simulator')"
      ]
     },
     "execution_count": 8,
     "metadata": {},
     "output_type": "execute_result"
    }
   ],
   "source": [
    "backend"
   ]
  },
  {
   "cell_type": "code",
   "execution_count": 9,
   "id": "8d533ee8",
   "metadata": {},
   "outputs": [
    {
     "data": {
      "text/plain": [
       "'qasm_simulator'"
      ]
     },
     "execution_count": 9,
     "metadata": {},
     "output_type": "execute_result"
    }
   ],
   "source": [
    "backend.name()"
   ]
  },
  {
   "cell_type": "markdown",
   "id": "ec295d47",
   "metadata": {},
   "source": [
    "### MAIN simulator backend of the Aer provider : AerSimulator"
   ]
  },
  {
   "cell_type": "code",
   "execution_count": 10,
   "id": "c126d9f4",
   "metadata": {},
   "outputs": [
    {
     "data": {
      "text/plain": [
       "qiskit.providers.aer.backends.aer_simulator.AerSimulator"
      ]
     },
     "execution_count": 10,
     "metadata": {},
     "output_type": "execute_result"
    }
   ],
   "source": [
    "type(provider.backends()[0])"
   ]
  },
  {
   "cell_type": "code",
   "execution_count": 11,
   "id": "be69ae9e",
   "metadata": {},
   "outputs": [
    {
     "data": {
      "text/plain": [
       "'aer_simulator'"
      ]
     },
     "execution_count": 11,
     "metadata": {},
     "output_type": "execute_result"
    }
   ],
   "source": [
    "provider.backends()[0].name()"
   ]
  },
  {
   "cell_type": "markdown",
   "id": "35ca98f8",
   "metadata": {},
   "source": [
    "## 2 types of Simulator backends\n",
    "\n",
    "https://qiskit.org/documentation/apidoc/aer_provider.html"
   ]
  },
  {
   "cell_type": "code",
   "execution_count": 12,
   "id": "b3c6f81d",
   "metadata": {},
   "outputs": [
    {
     "name": "stdout",
     "output_type": "stream",
     "text": [
      "aer_simulator\n",
      "pulse_simulator\n"
     ]
    }
   ],
   "source": [
    "print(provider.backends()[0])\n",
    "print(provider.backends()[-1])\n",
    "    "
   ]
  },
  {
   "cell_type": "markdown",
   "id": "72252060",
   "metadata": {},
   "source": [
    "### Simulation methods"
   ]
  },
  {
   "cell_type": "code",
   "execution_count": 13,
   "id": "34d1550d",
   "metadata": {},
   "outputs": [
    {
     "data": {
      "text/plain": [
       "[AerSimulator('aer_simulator'),\n",
       " AerSimulator('aer_simulator_statevector'),\n",
       " AerSimulator('aer_simulator_density_matrix'),\n",
       " AerSimulator('aer_simulator_stabilizer'),\n",
       " AerSimulator('aer_simulator_matrix_product_state'),\n",
       " AerSimulator('aer_simulator_extended_stabilizer'),\n",
       " AerSimulator('aer_simulator_unitary'),\n",
       " AerSimulator('aer_simulator_superop')]"
      ]
     },
     "execution_count": 13,
     "metadata": {},
     "output_type": "execute_result"
    }
   ],
   "source": [
    "provider.backends()[0:8]"
   ]
  },
  {
   "cell_type": "markdown",
   "id": "1d79d4e8",
   "metadata": {},
   "source": [
    "### Legacy Simulator backends"
   ]
  },
  {
   "cell_type": "code",
   "execution_count": 14,
   "id": "9b659d87",
   "metadata": {},
   "outputs": [
    {
     "data": {
      "text/plain": [
       "[QasmSimulator('qasm_simulator'),\n",
       " StatevectorSimulator('statevector_simulator'),\n",
       " UnitarySimulator('unitary_simulator')]"
      ]
     },
     "execution_count": 14,
     "metadata": {},
     "output_type": "execute_result"
    }
   ],
   "source": [
    "provider.backends()[8:-1]"
   ]
  },
  {
   "cell_type": "markdown",
   "id": "aebeca8c",
   "metadata": {},
   "source": [
    "***\n",
    "# AerSimulator: \n",
    "***\n",
    "\n",
    "## aer_simulator can be access through class AerSimulator\n",
    "\n",
    "https://qiskit.org/documentation/stubs/qiskit.providers.aer.AerSimulator.html#qiskit.providers.aer.AerSimulator\n"
   ]
  },
  {
   "cell_type": "markdown",
   "id": "7ffad0b8",
   "metadata": {},
   "source": [
    "### AerSimulator: Noisy quantum circuit simulator backend.\n",
    "\n",
    "https://qiskit.org/documentation/tutorials/simulators/2_device_noise_simulation.html"
   ]
  },
  {
   "cell_type": "markdown",
   "id": "f0983782",
   "metadata": {},
   "source": [
    "### AerSimulator backend  \n",
    "- Behaves exactly like an actual device\n",
    "- Configured with the noise model\n",
    "- Noise model can be from mock backends or IBMQ backends"
   ]
  },
  {
   "cell_type": "code",
   "execution_count": 15,
   "id": "9b08b5d7",
   "metadata": {},
   "outputs": [],
   "source": [
    "from qiskit.providers.aer import AerSimulator\n",
    "\n",
    "backend=AerSimulator()"
   ]
  },
  {
   "cell_type": "code",
   "execution_count": 16,
   "id": "fb74ce03",
   "metadata": {},
   "outputs": [
    {
     "data": {
      "text/plain": [
       "AerSimulator('aer_simulator')"
      ]
     },
     "execution_count": 16,
     "metadata": {},
     "output_type": "execute_result"
    }
   ],
   "source": [
    "backend"
   ]
  },
  {
   "cell_type": "code",
   "execution_count": 17,
   "id": "779d907f",
   "metadata": {},
   "outputs": [
    {
     "data": {
      "text/plain": [
       "'aer_simulator'"
      ]
     },
     "execution_count": 17,
     "metadata": {},
     "output_type": "execute_result"
    }
   ],
   "source": [
    "backend.name()"
   ]
  },
  {
   "cell_type": "markdown",
   "id": "a6d7d17d",
   "metadata": {},
   "source": [
    "### Example: 2-qubit bell state"
   ]
  },
  {
   "cell_type": "code",
   "execution_count": 18,
   "id": "02948fb9",
   "metadata": {},
   "outputs": [
    {
     "data": {
      "image/png": "[encoded data removed]",
      "text/plain": [
       "<Figure size 417.879x204.68 with 1 Axes>"
      ]
     },
     "execution_count": 18,
     "metadata": {},
     "output_type": "execute_result"
    }
   ],
   "source": [
    "qc=QuantumCircuit(2)\n",
    "qc.h(0)\n",
    "qc.cx(0,1)\n",
    "qc.measure_all()\n",
    "qc.draw(output=\"mpl\")"
   ]
  },
  {
   "cell_type": "markdown",
   "id": "808b8500",
   "metadata": {},
   "source": [
    "### Output: Measurements WITHOUT noise"
   ]
  },
  {
   "cell_type": "code",
   "execution_count": 19,
   "id": "ef9b02e3",
   "metadata": {},
   "outputs": [
    {
     "name": "stdout",
     "output_type": "stream",
     "text": [
      "{'00': 500, '11': 524}\n"
     ]
    }
   ],
   "source": [
    "backend=AerSimulator()\n",
    "result= backend.run(qc).result()\n",
    "counts=result.get_counts()\n",
    "print(counts)\n"
   ]
  },
  {
   "cell_type": "markdown",
   "id": "110a548c",
   "metadata": {},
   "source": [
    "### Output: Measurements WITH noise"
   ]
  },
  {
   "cell_type": "code",
   "execution_count": 20,
   "id": "3e4e8966",
   "metadata": {},
   "outputs": [
    {
     "name": "stdout",
     "output_type": "stream",
     "text": [
      "{'01': 60, '00': 458, '10': 36, '11': 470}\n"
     ]
    }
   ],
   "source": [
    "\n",
    "backend=AerSimulator.from_backend(FakeVigo())\n",
    "result= backend.run(qc).result()\n",
    "counts=result.get_counts()\n",
    "print(counts)\n",
    "\n"
   ]
  },
  {
   "cell_type": "markdown",
   "id": "50e22312",
   "metadata": {},
   "source": [
    "### Point to be remember: How to access aer_simulator (following are different ways)"
   ]
  },
  {
   "cell_type": "markdown",
   "id": "b3796315",
   "metadata": {},
   "source": [
    "## 1. Using Provider"
   ]
  },
  {
   "cell_type": "code",
   "execution_count": 21,
   "id": "5af55273",
   "metadata": {},
   "outputs": [],
   "source": [
    "backend=provider.backends(name='aer_simulator')"
   ]
  },
  {
   "cell_type": "code",
   "execution_count": 22,
   "id": "3f8a1cb4",
   "metadata": {},
   "outputs": [
    {
     "data": {
      "text/plain": [
       "[AerSimulator('aer_simulator')]"
      ]
     },
     "execution_count": 22,
     "metadata": {},
     "output_type": "execute_result"
    }
   ],
   "source": [
    "backend"
   ]
  },
  {
   "cell_type": "code",
   "execution_count": 23,
   "id": "1868a328",
   "metadata": {},
   "outputs": [],
   "source": [
    "backend=provider.get_backend(name='aer_simulator')"
   ]
  },
  {
   "cell_type": "code",
   "execution_count": 24,
   "id": "0691475b",
   "metadata": {},
   "outputs": [
    {
     "data": {
      "text/plain": [
       "AerSimulator('aer_simulator')"
      ]
     },
     "execution_count": 24,
     "metadata": {},
     "output_type": "execute_result"
    }
   ],
   "source": [
    "backend"
   ]
  },
  {
   "cell_type": "code",
   "execution_count": 25,
   "id": "7e307b61",
   "metadata": {},
   "outputs": [
    {
     "data": {
      "text/plain": [
       "'aer_simulator'"
      ]
     },
     "execution_count": 25,
     "metadata": {},
     "output_type": "execute_result"
    }
   ],
   "source": [
    "backend.name()"
   ]
  },
  {
   "cell_type": "markdown",
   "id": "fedf5554",
   "metadata": {},
   "source": [
    "## 2. Aer "
   ]
  },
  {
   "cell_type": "code",
   "execution_count": 26,
   "id": "caf8fb5b",
   "metadata": {},
   "outputs": [],
   "source": [
    "backend=Aer.backends(name='aer_simulator')"
   ]
  },
  {
   "cell_type": "code",
   "execution_count": 27,
   "id": "d157f768",
   "metadata": {},
   "outputs": [
    {
     "data": {
      "text/plain": [
       "[AerSimulator('aer_simulator')]"
      ]
     },
     "execution_count": 27,
     "metadata": {},
     "output_type": "execute_result"
    }
   ],
   "source": [
    "backend"
   ]
  },
  {
   "cell_type": "code",
   "execution_count": 28,
   "id": "694071b2",
   "metadata": {},
   "outputs": [],
   "source": [
    "backend=Aer.get_backend(name='aer_simulator')"
   ]
  },
  {
   "cell_type": "code",
   "execution_count": 29,
   "id": "329585a8",
   "metadata": {},
   "outputs": [
    {
     "data": {
      "text/plain": [
       "AerSimulator('aer_simulator')"
      ]
     },
     "execution_count": 29,
     "metadata": {},
     "output_type": "execute_result"
    }
   ],
   "source": [
    "backend"
   ]
  },
  {
   "cell_type": "code",
   "execution_count": 30,
   "id": "95bb9714",
   "metadata": {},
   "outputs": [
    {
     "data": {
      "text/plain": [
       "'aer_simulator'"
      ]
     },
     "execution_count": 30,
     "metadata": {},
     "output_type": "execute_result"
    }
   ],
   "source": [
    "backend.name()"
   ]
  },
  {
   "cell_type": "markdown",
   "id": "8b0e4cb4",
   "metadata": {},
   "source": [
    "## 3. AerSimulator"
   ]
  },
  {
   "cell_type": "code",
   "execution_count": 31,
   "id": "6ee01052",
   "metadata": {},
   "outputs": [],
   "source": [
    "#from qiskit.providers.aer import AerSimulator\n",
    "\n",
    "backend=AerSimulator()  # creates an object of class AerSimulator\n"
   ]
  },
  {
   "cell_type": "code",
   "execution_count": 32,
   "id": "8546b0d5",
   "metadata": {},
   "outputs": [
    {
     "data": {
      "text/plain": [
       "AerSimulator('aer_simulator')"
      ]
     },
     "execution_count": 32,
     "metadata": {},
     "output_type": "execute_result"
    }
   ],
   "source": [
    "backend"
   ]
  },
  {
   "cell_type": "code",
   "execution_count": 33,
   "id": "8d862c70",
   "metadata": {},
   "outputs": [
    {
     "data": {
      "text/plain": [
       "'aer_simulator'"
      ]
     },
     "execution_count": 33,
     "metadata": {},
     "output_type": "execute_result"
    }
   ],
   "source": [
    "backend.name()"
   ]
  }
 ],
 "metadata": {
  "kernelspec": {
   "display_name": "Python 3 (ipykernel)",
   "language": "python",
   "name": "python3"
  },
  "language_info": {
   "codemirror_mode": {
    "name": "ipython",
    "version": 3
   },
   "file_extension": ".py",
   "mimetype": "text/x-python",
   "name": "python",
   "nbconvert_exporter": "python",
   "pygments_lexer": "ipython3",
   "version": "3.9.12"
  }
 },
 "nbformat": 4,
 "nbformat_minor": 5
}
