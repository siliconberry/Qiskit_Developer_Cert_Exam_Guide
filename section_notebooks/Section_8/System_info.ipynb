{
 "cells": [
  {
   "cell_type": "markdown",
   "id": "62efa23d",
   "metadata": {},
   "source": [
    "## System Information\n",
    "\n",
    "Reference: https://qiskit.org/documentation/stable/0.24/install.html\n",
    "\n",
    "https://qiskit.org/documentation/apidoc/tools_jupyter.html\n",
    "\n",
    "1. Overview of all available backends\n",
    "\n",
    "    %qiskit_backend_overview\n",
    "    \n",
    "\n",
    "2. Detailed information on a single backend\n",
    "\n",
    "3. qiskit version table\n",
    "\n",
    "    %qiskit_version_table\n",
    "    \n",
    "\n",
    "4. qiskit version\n",
    "\n",
    "    qiskit.__version__\n",
    "    \n",
    "\n",
    "5. qiskit version of all elements\n",
    "\n",
    "    qiskit.__qiskit_version__\n",
    "\n",
    "6. Qiskit job watcher\n",
    "\n",
    " %qiskit_job_watcher\n"
   ]
  },
  {
   "cell_type": "code",
   "execution_count": 1,
   "id": "bfb7b02a",
   "metadata": {},
   "outputs": [],
   "source": [
    "# From IBMQ backends information we know\n",
    "import qiskit\n",
    "from qiskit import IBMQ\n",
    "from qiskit.providers.ibmq import least_busy\n",
    "from qiskit.tools.jupyter import *\n",
    "\n",
    "# IBMQ.save_account(\"Token needs to be provided\")\n",
    "\n",
    "provider = IBMQ.load_account()"
   ]
  },
  {
   "cell_type": "markdown",
   "id": "faf78997",
   "metadata": {},
   "source": [
    "# System Information"
   ]
  },
  {
   "cell_type": "markdown",
   "id": "8e4eeaa0",
   "metadata": {},
   "source": [
    "## backend overview"
   ]
  },
  {
   "cell_type": "code",
   "execution_count": 2,
   "id": "78f0ca59",
   "metadata": {},
   "outputs": [
    {
     "data": {
      "application/vnd.jupyter.widget-view+json": {
       "model_id": "7341d2fc506648b7bf6605a2ea277665",
       "version_major": 2,
       "version_minor": 0
      },
      "text/plain": [
       "VBox(children=(HTML(value=\"<h2 style ='color:#ffffff; background-color:#000000;padding-top: 1%; padding-bottom…"
      ]
     },
     "metadata": {},
     "output_type": "display_data"
    }
   ],
   "source": [
    "%qiskit_backend_overview"
   ]
  },
  {
   "cell_type": "markdown",
   "id": "3ec78cb9",
   "metadata": {},
   "source": [
    "## Detailed information on a single backend"
   ]
  },
  {
   "cell_type": "code",
   "execution_count": 4,
   "id": "258647b6",
   "metadata": {},
   "outputs": [
    {
     "name": "stderr",
     "output_type": "stream",
     "text": [
      "ibmqfactory.load_account:WARNING:2022-01-19 17:16:47,740: Credentials are already in use. The existing account in the session will be replaced.\n"
     ]
    },
    {
     "data": {
      "application/vnd.jupyter.widget-view+json": {
       "model_id": "a0f26cae53e549ed96b2c726eda4bb1c",
       "version_major": 2,
       "version_minor": 0
      },
      "text/plain": [
       "VBox(children=(HTML(value=\"<h1 style='color:#ffffff;background-color:#000000;padding-top: 1%;padding-bottom: 1…"
      ]
     },
     "metadata": {},
     "output_type": "display_data"
    },
    {
     "data": {
      "text/plain": [
       "<IBMQBackend('ibmq_bogota') from IBMQ(hub='ibm-q', group='open', project='main')>"
      ]
     },
     "execution_count": 4,
     "metadata": {},
     "output_type": "execute_result"
    }
   ],
   "source": [
    "backend = provider.get_backend('ibmq_bogota')\n",
    "backend"
   ]
  },
  {
   "cell_type": "markdown",
   "id": "689f360a",
   "metadata": {},
   "source": [
    "## qiskit version table"
   ]
  },
  {
   "cell_type": "code",
   "execution_count": 5,
   "id": "93186541",
   "metadata": {},
   "outputs": [
    {
     "data": {
      "text/html": [
       "<h3>Version Information</h3><table><tr><th>Qiskit Software</th><th>Version</th></tr><tr><td><code>qiskit-terra</code></td><td>0.19.1</td></tr><tr><td><code>qiskit-aer</code></td><td>0.10.2</td></tr><tr><td><code>qiskit-ignis</code></td><td>0.7.0</td></tr><tr><td><code>qiskit-ibmq-provider</code></td><td>0.18.3</td></tr><tr><td><code>qiskit-aqua</code></td><td>0.9.5</td></tr><tr><td><code>qiskit</code></td><td>0.34.1</td></tr><tr><td><code>qiskit-nature</code></td><td>0.2.2</td></tr><tr><td><code>qiskit-finance</code></td><td>0.2.1</td></tr><tr><td><code>qiskit-optimization</code></td><td>0.2.3</td></tr><tr><td><code>qiskit-machine-learning</code></td><td>0.2.1</td></tr><tr><th>System information</th></tr><tr><td>Python version</td><td>3.7.9</td></tr><tr><td>Python compiler</td><td>Clang 10.0.0 </td></tr><tr><td>Python build</td><td>default, Aug 31 2020 07:22:35</td></tr><tr><td>OS</td><td>Darwin</td></tr><tr><td>CPUs</td><td>2</td></tr><tr><td>Memory (Gb)</td><td>8.0</td></tr><tr><td colspan='2'>Wed Jan 19 17:17:03 2022 +08</td></tr></table>"
      ],
      "text/plain": [
       "<IPython.core.display.HTML object>"
      ]
     },
     "metadata": {},
     "output_type": "display_data"
    }
   ],
   "source": [
    "%qiskit_version_table"
   ]
  },
  {
   "cell_type": "markdown",
   "id": "a9e9e8d1",
   "metadata": {},
   "source": [
    "## qiskit version : display qiksit from qiksit-terra package"
   ]
  },
  {
   "cell_type": "code",
   "execution_count": 6,
   "id": "e8a63cfb",
   "metadata": {},
   "outputs": [
    {
     "data": {
      "text/plain": [
       "'0.19.1'"
      ]
     },
     "execution_count": 6,
     "metadata": {},
     "output_type": "execute_result"
    }
   ],
   "source": [
    "import qiskit\n",
    "qiskit.__version__"
   ]
  },
  {
   "cell_type": "markdown",
   "id": "87fd5773",
   "metadata": {},
   "source": [
    "## qiskit version: \n",
    "- To see the versions of all the Qiskit elements\n",
    "- versions for each of the installed Qiskit packages."
   ]
  },
  {
   "cell_type": "code",
   "execution_count": 7,
   "id": "16e427ab",
   "metadata": {},
   "outputs": [
    {
     "data": {
      "text/plain": [
       "{'qiskit-terra': '0.19.1', 'qiskit-aer': '0.10.2', 'qiskit-ignis': '0.7.0', 'qiskit-ibmq-provider': '0.18.3', 'qiskit-aqua': '0.9.5', 'qiskit': '0.34.1', 'qiskit-nature': '0.2.2', 'qiskit-finance': '0.2.1', 'qiskit-optimization': '0.2.3', 'qiskit-machine-learning': '0.2.1'}"
      ]
     },
     "execution_count": 7,
     "metadata": {},
     "output_type": "execute_result"
    }
   ],
   "source": [
    "qiskit.__qiskit_version__"
   ]
  },
  {
   "cell_type": "markdown",
   "id": "020fe35c",
   "metadata": {},
   "source": [
    "## qiskit job watcher"
   ]
  },
  {
   "cell_type": "code",
   "execution_count": 8,
   "id": "14526908",
   "metadata": {},
   "outputs": [
    {
     "data": {
      "application/vnd.jupyter.widget-view+json": {
       "model_id": "e2ce1b0483804c23a8a7fd74b27bf74a",
       "version_major": 2,
       "version_minor": 0
      },
      "text/plain": [
       "Accordion(children=(VBox(layout=Layout(max_width='710px', min_width='710px')),), layout=Layout(max_height='500…"
      ]
     },
     "metadata": {},
     "output_type": "display_data"
    },
    {
     "data": {
      "application/javascript": [
       "\n",
       "        const isLab = window['Jupyter'] === undefined;\n",
       "        const notebook = document.querySelector( isLab ? 'div.jp-Notebook' : '#site');\n",
       "        const jobWidget = document.querySelector('div.job_widget');\n",
       "        notebook.prepend(jobWidget);\n",
       "        jobWidget.style.zIndex = '999';\n",
       "        jobWidget.style.position = isLab ? 'sticky' : 'fixed';\n",
       "        jobWidget.style.boxShadow = '5px 5px 5px -3px black';\n",
       "        jobWidget.style.opacity = '0.95';\n",
       "        if (isLab) {\n",
       "            jobWidget.style.top = '0';\n",
       "            jobWidget.style.left = '0';\n",
       "        }\n",
       "        "
      ],
      "text/plain": [
       "<IPython.core.display.Javascript object>"
      ]
     },
     "metadata": {},
     "output_type": "display_data"
    }
   ],
   "source": [
    "%qiskit_job_watcher"
   ]
  }
 ],
 "metadata": {
  "kernelspec": {
   "display_name": "Python 3 (ipykernel)",
   "language": "python",
   "name": "python3"
  },
  "language_info": {
   "codemirror_mode": {
    "name": "ipython",
    "version": 3
   },
   "file_extension": ".py",
   "mimetype": "text/x-python",
   "name": "python",
   "nbconvert_exporter": "python",
   "pygments_lexer": "ipython3",
   "version": "3.9.12"
  }
 },
 "nbformat": 4,
 "nbformat_minor": 5
}
