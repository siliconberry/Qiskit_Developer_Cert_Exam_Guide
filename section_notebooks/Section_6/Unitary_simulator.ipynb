{
 "cells": [
  {
   "cell_type": "markdown",
   "id": "b4d5fadc",
   "metadata": {},
   "source": [
    "# Unitary:\n",
    "\n",
    "## Ideal quantum circuit unitary simulator\n",
    "References:\n",
    "- https://qiskit.org/documentation/apidoc/providers_basicaer.html\n",
    "- https://qiskit.org/documentation/stubs/qiskit.providers.basicaer.UnitarySimulatorPy.html#qiskit.providers.basicaer.UnitarySimulatorPy\n",
    "- \n",
    "https://qiskit.org/documentation/tutorials/simulators/1_aer_provider.html\n",
    "\n",
    "Unitary backend:https://qiskit.org/documentation/tutorials/circuits/1_getting_started_with_qiskit.html\n",
    "\n",
    "Different simulators:https://qiskit.org/documentation/tutorials/circuits/3_summary_of_quantum_operations.html\n",
    "\n",
    "---"
   ]
  },
  {
   "cell_type": "markdown",
   "id": "b1500238",
   "metadata": {},
   "source": [
    "- It constructs a unitary matrix for quantum circuit\n",
    "- This simulator creates 2^n X 2^n matrix for the gates in the quantum circuit\n",
    "- Gate acting on the qubit is represented by a 2 X 2 unitary matrix"
   ]
  },
  {
   "cell_type": "code",
   "execution_count": 1,
   "id": "adf1acde",
   "metadata": {},
   "outputs": [],
   "source": [
    "from qiskit import QuantumCircuit,BasicAer,Aer,transpile\n",
    "from qiskit.visualization import *\n",
    "\n",
    "import numpy as np\n",
    "backend=Aer.get_backend('unitary_simulator')\n"
   ]
  },
  {
   "cell_type": "code",
   "execution_count": 2,
   "id": "6ac2f2d0",
   "metadata": {},
   "outputs": [
    {
     "data": {
      "text/latex": [
       "$$\n",
       "\n",
       "\\begin{bmatrix}\n",
       "1 & 0  \\\\\n",
       " 0 & 1  \\\\\n",
       " \\end{bmatrix}\n",
       "$$"
      ],
      "text/plain": [
       "<IPython.core.display.Latex object>"
      ]
     },
     "execution_count": 2,
     "metadata": {},
     "output_type": "execute_result"
    }
   ],
   "source": [
    "qc=QuantumCircuit(1)\n",
    "qc.draw(output=\"mpl\")\n",
    "job=backend.run(qc)\n",
    "result=job.result()\n",
    "I=result.get_unitary()\n",
    "array_to_latex(I.data)"
   ]
  },
  {
   "cell_type": "markdown",
   "id": "a823d297",
   "metadata": {},
   "source": [
    "## In this example: 1 -qubit and 1 gate  : H gate"
   ]
  },
  {
   "cell_type": "code",
   "execution_count": 3,
   "id": "8034bb2c",
   "metadata": {},
   "outputs": [
    {
     "data": {
      "image/png": "[encoded data removed]",
      "text/plain": [
       "<Figure size 133.526x84.28 with 1 Axes>"
      ]
     },
     "execution_count": 3,
     "metadata": {},
     "output_type": "execute_result"
    }
   ],
   "source": [
    "qc=QuantumCircuit(1)\n",
    "qc.h(0)\n",
    "qc.draw(output=\"mpl\")"
   ]
  },
  {
   "cell_type": "code",
   "execution_count": 4,
   "id": "87cee785",
   "metadata": {},
   "outputs": [
    {
     "data": {
      "text/plain": [
       "'unitary_simulator'"
      ]
     },
     "execution_count": 4,
     "metadata": {},
     "output_type": "execute_result"
    }
   ],
   "source": [
    "backend.name()"
   ]
  },
  {
   "cell_type": "code",
   "execution_count": 5,
   "id": "22da69de",
   "metadata": {},
   "outputs": [],
   "source": [
    "job=backend.run(qc)"
   ]
  },
  {
   "cell_type": "code",
   "execution_count": 6,
   "id": "5872305a",
   "metadata": {},
   "outputs": [],
   "source": [
    "result=job.result()"
   ]
  },
  {
   "cell_type": "markdown",
   "id": "7372ecb3",
   "metadata": {},
   "source": [
    "### get_unitary(): get the final unitary of the experiment\n",
    "\n",
    "https://qiskit.org/documentation/stubs/qiskit.result.Result.get_unitary.html#qiskit.result.Result.get_unitary\n",
    "\n",
    "---"
   ]
  },
  {
   "cell_type": "code",
   "execution_count": 7,
   "id": "fa24e4b1",
   "metadata": {},
   "outputs": [],
   "source": [
    "unitary_matrix_Hgate=result.get_unitary()"
   ]
  },
  {
   "cell_type": "code",
   "execution_count": 8,
   "id": "3edda829",
   "metadata": {},
   "outputs": [
    {
     "data": {
      "text/plain": [
       "Operator([[ 0.70710678+0.00000000e+00j,  0.70710678-8.65956056e-17j],\n",
       "          [ 0.70710678+0.00000000e+00j, -0.70710678+8.65956056e-17j]],\n",
       "         input_dims=(2,), output_dims=(2,))"
      ]
     },
     "execution_count": 8,
     "metadata": {},
     "output_type": "execute_result"
    }
   ],
   "source": [
    "unitary_matrix_Hgate"
   ]
  },
  {
   "cell_type": "code",
   "execution_count": 9,
   "id": "ab068f1c",
   "metadata": {},
   "outputs": [
    {
     "data": {
      "text/plain": [
       "array([[ 0.70710678+0.00000000e+00j,  0.70710678-8.65956056e-17j],\n",
       "       [ 0.70710678+0.00000000e+00j, -0.70710678+8.65956056e-17j]])"
      ]
     },
     "execution_count": 9,
     "metadata": {},
     "output_type": "execute_result"
    }
   ],
   "source": [
    "# Get the raw data from the experiment\n",
    "\n",
    "unitary_matrix_Hgate.data"
   ]
  },
  {
   "cell_type": "code",
   "execution_count": 10,
   "id": "8bd00e2e",
   "metadata": {},
   "outputs": [
    {
     "data": {
      "text/plain": [
       "numpy.ndarray"
      ]
     },
     "execution_count": 10,
     "metadata": {},
     "output_type": "execute_result"
    }
   ],
   "source": [
    "type(unitary_matrix_Hgate.data)"
   ]
  },
  {
   "cell_type": "markdown",
   "id": "c24dae32",
   "metadata": {},
   "source": [
    "# Array to matrix visualization: \n",
    "### EX: array_to_latex(array)\n",
    "\n",
    "Reference:\n",
    "    https://qiskit.org/documentation/stubs/qiskit.visualization.array_to_latex.html#qiskit.visualization.array_to_latex\n",
    "    \n",
    "---"
   ]
  },
  {
   "cell_type": "code",
   "execution_count": 11,
   "id": "3cfd3b7a",
   "metadata": {},
   "outputs": [
    {
     "data": {
      "text/latex": [
       "$$\n",
       "\n",
       "\\begin{bmatrix}\n",
       "\\tfrac{1}{\\sqrt{2}} & \\tfrac{1}{\\sqrt{2}}  \\\\\n",
       " \\tfrac{1}{\\sqrt{2}} & -\\tfrac{1}{\\sqrt{2}}  \\\\\n",
       " \\end{bmatrix}\n",
       "$$"
      ],
      "text/plain": [
       "<IPython.core.display.Latex object>"
      ]
     },
     "execution_count": 11,
     "metadata": {},
     "output_type": "execute_result"
    }
   ],
   "source": [
    "array_to_latex(unitary_matrix_Hgate.data)"
   ]
  },
  {
   "cell_type": "markdown",
   "id": "aeb75e56",
   "metadata": {},
   "source": [
    "### We have obtain the unitary matrix for the H gate"
   ]
  },
  {
   "cell_type": "markdown",
   "id": "44bfcf18",
   "metadata": {},
   "source": [
    "# Let's find the unitary matrix for X gate"
   ]
  },
  {
   "cell_type": "code",
   "execution_count": 12,
   "id": "4bf71384",
   "metadata": {},
   "outputs": [
    {
     "data": {
      "image/png": "[encoded data removed]",
      "text/plain": [
       "<Figure size 133.526x84.28 with 1 Axes>"
      ]
     },
     "execution_count": 12,
     "metadata": {},
     "output_type": "execute_result"
    }
   ],
   "source": [
    "qc=QuantumCircuit(1)\n",
    "qc.x(0)\n",
    "qc.draw(output=\"mpl\")"
   ]
  },
  {
   "cell_type": "code",
   "execution_count": 13,
   "id": "d2fae951",
   "metadata": {},
   "outputs": [
    {
     "data": {
      "text/plain": [
       "array([[0.+0.j, 1.+0.j],\n",
       "       [1.+0.j, 0.+0.j]])"
      ]
     },
     "execution_count": 13,
     "metadata": {},
     "output_type": "execute_result"
    }
   ],
   "source": [
    "job=backend.run(qc)\n",
    "result=job.result()\n",
    "unitary_matrix_Xgate=result.get_unitary()\n",
    "unitary_matrix_Xgate.data"
   ]
  },
  {
   "cell_type": "code",
   "execution_count": 14,
   "id": "9dbf3118",
   "metadata": {},
   "outputs": [
    {
     "data": {
      "text/latex": [
       "$$\n",
       "\n",
       "\\begin{bmatrix}\n",
       "0 & 1  \\\\\n",
       " 1 & 0  \\\\\n",
       " \\end{bmatrix}\n",
       "$$"
      ],
      "text/plain": [
       "<IPython.core.display.Latex object>"
      ]
     },
     "execution_count": 14,
     "metadata": {},
     "output_type": "execute_result"
    }
   ],
   "source": [
    "array_to_latex(unitary_matrix_Xgate.data)"
   ]
  },
  {
   "cell_type": "markdown",
   "id": "d13a8e9c",
   "metadata": {},
   "source": [
    "# Let's take an example of 1 -qubit and 2 gates ( H and X)"
   ]
  },
  {
   "cell_type": "code",
   "execution_count": 15,
   "id": "137f5eec",
   "metadata": {},
   "outputs": [
    {
     "data": {
      "image/png": "[encoded data removed]",
      "text/plain": [
       "<Figure size 193.726x84.28 with 1 Axes>"
      ]
     },
     "execution_count": 15,
     "metadata": {},
     "output_type": "execute_result"
    }
   ],
   "source": [
    "qc=QuantumCircuit(1)\n",
    "qc.h(0)\n",
    "qc.x(0)\n",
    "qc.draw(output=\"mpl\")"
   ]
  },
  {
   "cell_type": "code",
   "execution_count": 16,
   "id": "f099c92b",
   "metadata": {},
   "outputs": [
    {
     "data": {
      "text/plain": [
       "array([[ 0.70710678+0.00000000e+00j, -0.70710678+8.65956056e-17j],\n",
       "       [ 0.70710678+0.00000000e+00j,  0.70710678-8.65956056e-17j]])"
      ]
     },
     "execution_count": 16,
     "metadata": {},
     "output_type": "execute_result"
    }
   ],
   "source": [
    "job=backend.run(qc)\n",
    "result=job.result()\n",
    "unitary_matrix=result.get_unitary()\n",
    "unitary_matrix.data"
   ]
  },
  {
   "cell_type": "code",
   "execution_count": 17,
   "id": "893f3b8c",
   "metadata": {},
   "outputs": [
    {
     "data": {
      "text/latex": [
       "$$\n",
       "\n",
       "\\begin{bmatrix}\n",
       "\\tfrac{1}{\\sqrt{2}} & -\\tfrac{1}{\\sqrt{2}}  \\\\\n",
       " \\tfrac{1}{\\sqrt{2}} & \\tfrac{1}{\\sqrt{2}}  \\\\\n",
       " \\end{bmatrix}\n",
       "$$"
      ],
      "text/plain": [
       "<IPython.core.display.Latex object>"
      ]
     },
     "execution_count": 17,
     "metadata": {},
     "output_type": "execute_result"
    }
   ],
   "source": [
    "array_to_latex(unitary_matrix.data)"
   ]
  },
  {
   "cell_type": "markdown",
   "id": "4c71a2f6",
   "metadata": {},
   "source": [
    "# Unitary matrix for 1 qubit gate which has H-X"
   ]
  },
  {
   "cell_type": "code",
   "execution_count": 19,
   "id": "fab50851",
   "metadata": {},
   "outputs": [
    {
     "data": {
      "text/latex": [
       "$$\n",
       "\n",
       "\\begin{bmatrix}\n",
       "\\tfrac{1}{\\sqrt{2}} & -\\tfrac{1}{\\sqrt{2}}  \\\\\n",
       " \\tfrac{1}{\\sqrt{2}} & \\tfrac{1}{\\sqrt{2}}  \\\\\n",
       " \\end{bmatrix}\n",
       "$$"
      ],
      "text/plain": [
       "<IPython.core.display.Latex object>"
      ]
     },
     "execution_count": 19,
     "metadata": {},
     "output_type": "execute_result"
    }
   ],
   "source": [
    "Hgate_U=unitary_matrix_Hgate.data\n",
    "Xgate_U=unitary_matrix_Xgate.data\n",
    "\n",
    "\n",
    "U=np.matmul(Xgate_U,Hgate_U)\n",
    "\n",
    "array_to_latex(U)"
   ]
  },
  {
   "cell_type": "markdown",
   "id": "fcb8eabe",
   "metadata": {},
   "source": [
    "---\n",
    "# Let's take a another example of 2 qubits and gates\n",
    "---\n",
    "- It should generate 2^n X 2^n= 4 X 4  unitary matrix to represent the gates in the quantum circuit"
   ]
  },
  {
   "cell_type": "code",
   "execution_count": 20,
   "id": "ac6ff63d",
   "metadata": {},
   "outputs": [
    {
     "data": {
      "image/png": "[encoded data removed]",
      "text/plain": [
       "<Figure size 146.652x144.48 with 1 Axes>"
      ]
     },
     "execution_count": 20,
     "metadata": {},
     "output_type": "execute_result"
    }
   ],
   "source": [
    "qc=QuantumCircuit(2)\n",
    "qc.h(0)\n",
    "qc.x(1)\n",
    "qc.draw(output=\"mpl\")"
   ]
  },
  {
   "cell_type": "code",
   "execution_count": 21,
   "id": "beefd5ec",
   "metadata": {},
   "outputs": [
    {
     "data": {
      "text/plain": [
       "array([[ 0.        +0.00000000e+00j,  0.        +0.00000000e+00j,\n",
       "         0.70710678+0.00000000e+00j,  0.70710678-8.65956056e-17j],\n",
       "       [-0.        +0.00000000e+00j, -0.        +0.00000000e+00j,\n",
       "         0.70710678+0.00000000e+00j, -0.70710678+8.65956056e-17j],\n",
       "       [ 0.70710678+0.00000000e+00j,  0.70710678-8.65956056e-17j,\n",
       "         0.        +0.00000000e+00j,  0.        +0.00000000e+00j],\n",
       "       [ 0.70710678+0.00000000e+00j, -0.70710678+8.65956056e-17j,\n",
       "        -0.        +0.00000000e+00j, -0.        +0.00000000e+00j]])"
      ]
     },
     "execution_count": 21,
     "metadata": {},
     "output_type": "execute_result"
    }
   ],
   "source": [
    "job=backend.run(qc)\n",
    "result=job.result()\n",
    "unitary_matrix=result.get_unitary()\n",
    "unitary_matrix.data"
   ]
  },
  {
   "cell_type": "code",
   "execution_count": 22,
   "id": "d0cbff37",
   "metadata": {},
   "outputs": [
    {
     "data": {
      "text/latex": [
       "$$\n",
       "\n",
       "\\begin{bmatrix}\n",
       "0 & 0 & \\tfrac{1}{\\sqrt{2}} & \\tfrac{1}{\\sqrt{2}}  \\\\\n",
       " 0 & 0 & \\tfrac{1}{\\sqrt{2}} & -\\tfrac{1}{\\sqrt{2}}  \\\\\n",
       " \\tfrac{1}{\\sqrt{2}} & \\tfrac{1}{\\sqrt{2}} & 0 & 0  \\\\\n",
       " \\tfrac{1}{\\sqrt{2}} & -\\tfrac{1}{\\sqrt{2}} & 0 & 0  \\\\\n",
       " \\end{bmatrix}\n",
       "$$"
      ],
      "text/plain": [
       "<IPython.core.display.Latex object>"
      ]
     },
     "execution_count": 22,
     "metadata": {},
     "output_type": "execute_result"
    }
   ],
   "source": [
    "array_to_latex(unitary_matrix.data)"
   ]
  },
  {
   "cell_type": "markdown",
   "id": "1ecceda0",
   "metadata": {},
   "source": [
    "### Imp: \n",
    "   - H gate is 2 X 2\n",
    "   - X gate is 2 X 2  \n",
    "   - The resultant matrix for the quantum circuit is 4 x 4"
   ]
  },
  {
   "cell_type": "markdown",
   "id": "1abc5c39",
   "metadata": {},
   "source": [
    "### Note: Let's take unitary matrix for H gate and X gate  and construct the unitary matrix for the above Quantum circuit to check how it's calculated."
   ]
  },
  {
   "cell_type": "code",
   "execution_count": 23,
   "id": "ada70d9a",
   "metadata": {},
   "outputs": [
    {
     "name": "stdout",
     "output_type": "stream",
     "text": [
      "Unitary Matrix for H gate :\n"
     ]
    },
    {
     "data": {
      "text/latex": [
       "$$\n",
       "\n",
       "\\begin{bmatrix}\n",
       "\\tfrac{1}{\\sqrt{2}} & \\tfrac{1}{\\sqrt{2}}  \\\\\n",
       " \\tfrac{1}{\\sqrt{2}} & -\\tfrac{1}{\\sqrt{2}}  \\\\\n",
       " \\end{bmatrix}\n",
       "$$"
      ],
      "text/plain": [
       "<IPython.core.display.Latex object>"
      ]
     },
     "execution_count": 23,
     "metadata": {},
     "output_type": "execute_result"
    }
   ],
   "source": [
    "Hgate_U=unitary_matrix_Hgate.data\n",
    "Xgate_U=unitary_matrix_Xgate.data\n",
    "\n",
    "print(\"Unitary Matrix for H gate :\")\n",
    "array_to_latex(Hgate_U)"
   ]
  },
  {
   "cell_type": "code",
   "execution_count": 24,
   "id": "f2ccb762",
   "metadata": {},
   "outputs": [
    {
     "name": "stdout",
     "output_type": "stream",
     "text": [
      "\n",
      "Unitary Matrix for X gate :\n"
     ]
    },
    {
     "data": {
      "text/latex": [
       "$$\n",
       "\n",
       "\\begin{bmatrix}\n",
       "0 & 1  \\\\\n",
       " 1 & 0  \\\\\n",
       " \\end{bmatrix}\n",
       "$$"
      ],
      "text/plain": [
       "<IPython.core.display.Latex object>"
      ]
     },
     "execution_count": 24,
     "metadata": {},
     "output_type": "execute_result"
    }
   ],
   "source": [
    "print(\"\\nUnitary Matrix for X gate :\")\n",
    "array_to_latex(Xgate_U)"
   ]
  },
  {
   "cell_type": "markdown",
   "id": "61f72d0c",
   "metadata": {},
   "source": [
    "# Unitary matrix is calculated by multiplying each gate matrix to an identity matrix"
   ]
  },
  {
   "cell_type": "code",
   "execution_count": 25,
   "id": "3c10f47c",
   "metadata": {},
   "outputs": [
    {
     "name": "stdout",
     "output_type": "stream",
     "text": [
      "identity matrix :\n"
     ]
    },
    {
     "data": {
      "text/plain": [
       "array([[1., 0.],\n",
       "       [0., 1.]])"
      ]
     },
     "execution_count": 25,
     "metadata": {},
     "output_type": "execute_result"
    }
   ],
   "source": [
    "\n",
    "print(\"identity matrix :\")\n",
    "np.eye(2)"
   ]
  },
  {
   "cell_type": "code",
   "execution_count": 26,
   "id": "f9e91a16",
   "metadata": {},
   "outputs": [
    {
     "data": {
      "text/latex": [
       "$$\n",
       "\n",
       "\\begin{bmatrix}\n",
       "1 & 0  \\\\\n",
       " 0 & 1  \\\\\n",
       " \\end{bmatrix}\n",
       "$$"
      ],
      "text/plain": [
       "<IPython.core.display.Latex object>"
      ]
     },
     "execution_count": 26,
     "metadata": {},
     "output_type": "execute_result"
    }
   ],
   "source": [
    "array_to_latex(np.eye(2))"
   ]
  },
  {
   "cell_type": "markdown",
   "id": "bdd06c0a",
   "metadata": {},
   "source": [
    "### Identity matrix - kron- Hgate matrix"
   ]
  },
  {
   "cell_type": "code",
   "execution_count": 27,
   "id": "b2d9cd26",
   "metadata": {},
   "outputs": [
    {
     "name": "stdout",
     "output_type": "stream",
     "text": [
      "Hgate unitary matrix:\n",
      " [[ 0.70710678+0.00000000e+00j  0.70710678-8.65956056e-17j\n",
      "   0.        +0.00000000e+00j  0.        +0.00000000e+00j]\n",
      " [ 0.70710678+0.00000000e+00j -0.70710678+8.65956056e-17j\n",
      "   0.        +0.00000000e+00j -0.        +0.00000000e+00j]\n",
      " [ 0.        +0.00000000e+00j  0.        +0.00000000e+00j\n",
      "   0.70710678+0.00000000e+00j  0.70710678-8.65956056e-17j]\n",
      " [ 0.        +0.00000000e+00j -0.        +0.00000000e+00j\n",
      "   0.70710678+0.00000000e+00j -0.70710678+8.65956056e-17j]] \n",
      "\n"
     ]
    },
    {
     "data": {
      "text/latex": [
       "$$\n",
       "\n",
       "\\begin{bmatrix}\n",
       "\\tfrac{1}{\\sqrt{2}} & \\tfrac{1}{\\sqrt{2}} & 0 & 0  \\\\\n",
       " \\tfrac{1}{\\sqrt{2}} & -\\tfrac{1}{\\sqrt{2}} & 0 & 0  \\\\\n",
       " 0 & 0 & \\tfrac{1}{\\sqrt{2}} & \\tfrac{1}{\\sqrt{2}}  \\\\\n",
       " 0 & 0 & \\tfrac{1}{\\sqrt{2}} & -\\tfrac{1}{\\sqrt{2}}  \\\\\n",
       " \\end{bmatrix}\n",
       "$$"
      ],
      "text/plain": [
       "<IPython.core.display.Latex object>"
      ]
     },
     "execution_count": 27,
     "metadata": {},
     "output_type": "execute_result"
    }
   ],
   "source": [
    "Hgate_U=np.kron(np.eye(2),unitary_matrix_Hgate.data)\n",
    "\n",
    "print(\"Hgate unitary matrix:\\n\",Hgate_U,\"\\n\")\n",
    "array_to_latex(Hgate_U)\n"
   ]
  },
  {
   "cell_type": "markdown",
   "id": "5a497e52",
   "metadata": {},
   "source": [
    "### Xgate matrix - kron- Identity matrix"
   ]
  },
  {
   "cell_type": "code",
   "execution_count": 28,
   "id": "b491d2a1",
   "metadata": {},
   "outputs": [
    {
     "name": "stdout",
     "output_type": "stream",
     "text": [
      "Xgate unitary matrix:\n",
      " [[0.+0.j 0.+0.j 1.+0.j 0.+0.j]\n",
      " [0.+0.j 0.+0.j 0.+0.j 1.+0.j]\n",
      " [1.+0.j 0.+0.j 0.+0.j 0.+0.j]\n",
      " [0.+0.j 1.+0.j 0.+0.j 0.+0.j]]\n"
     ]
    },
    {
     "data": {
      "text/latex": [
       "$$\n",
       "\n",
       "\\begin{bmatrix}\n",
       "0 & 0 & 1 & 0  \\\\\n",
       " 0 & 0 & 0 & 1  \\\\\n",
       " 1 & 0 & 0 & 0  \\\\\n",
       " 0 & 1 & 0 & 0  \\\\\n",
       " \\end{bmatrix}\n",
       "$$"
      ],
      "text/plain": [
       "<IPython.core.display.Latex object>"
      ]
     },
     "execution_count": 28,
     "metadata": {},
     "output_type": "execute_result"
    }
   ],
   "source": [
    "Xgate_U=np.kron(unitary_matrix_Xgate.data,np.eye(2))\n",
    "\n",
    "print(\"Xgate unitary matrix:\\n\",Xgate_U)\n",
    "\n",
    "array_to_latex(Xgate_U)"
   ]
  },
  {
   "cell_type": "markdown",
   "id": "11b1cea2",
   "metadata": {},
   "source": [
    "### Multiplying Hgate and Xgate"
   ]
  },
  {
   "cell_type": "code",
   "execution_count": 29,
   "id": "4b8c885f",
   "metadata": {},
   "outputs": [
    {
     "name": "stdout",
     "output_type": "stream",
     "text": [
      "[[ 0.        +0.00000000e+00j  0.        +0.00000000e+00j\n",
      "   0.70710678+0.00000000e+00j  0.70710678-8.65956056e-17j]\n",
      " [ 0.        +0.00000000e+00j  0.        +0.00000000e+00j\n",
      "   0.70710678+0.00000000e+00j -0.70710678+8.65956056e-17j]\n",
      " [ 0.70710678+0.00000000e+00j  0.70710678-8.65956056e-17j\n",
      "   0.        +0.00000000e+00j  0.        +0.00000000e+00j]\n",
      " [ 0.70710678+0.00000000e+00j -0.70710678+8.65956056e-17j\n",
      "   0.        +0.00000000e+00j  0.        +0.00000000e+00j]]\n"
     ]
    }
   ],
   "source": [
    "print( np.matmul(Hgate_U,Xgate_U) )"
   ]
  },
  {
   "cell_type": "code",
   "execution_count": 30,
   "id": "a206c12a",
   "metadata": {},
   "outputs": [
    {
     "data": {
      "text/latex": [
       "$$\n",
       "\n",
       "\\begin{bmatrix}\n",
       "0 & 0 & \\tfrac{1}{\\sqrt{2}} & \\tfrac{1}{\\sqrt{2}}  \\\\\n",
       " 0 & 0 & \\tfrac{1}{\\sqrt{2}} & -\\tfrac{1}{\\sqrt{2}}  \\\\\n",
       " \\tfrac{1}{\\sqrt{2}} & \\tfrac{1}{\\sqrt{2}} & 0 & 0  \\\\\n",
       " \\tfrac{1}{\\sqrt{2}} & -\\tfrac{1}{\\sqrt{2}} & 0 & 0  \\\\\n",
       " \\end{bmatrix}\n",
       "$$"
      ],
      "text/plain": [
       "<IPython.core.display.Latex object>"
      ]
     },
     "execution_count": 30,
     "metadata": {},
     "output_type": "execute_result"
    }
   ],
   "source": [
    "array_to_latex(np.matmul(Hgate_U,Xgate_U))"
   ]
  },
  {
   "cell_type": "markdown",
   "id": "d108047f",
   "metadata": {},
   "source": [
    "Conclusion: Using the individual unitary matrix of H gate and X gate , we can see how a unitary matrix is calculated for a Quantum circuit which contains gate H on qubit0 and X qubit1"
   ]
  },
  {
   "cell_type": "markdown",
   "id": "22f07723",
   "metadata": {},
   "source": [
    "# IMP Note:\n",
    "\n",
    "### Unitary simulator cannot have reset or measurement as instructions.\n",
    "### It will throw QiskitError"
   ]
  },
  {
   "cell_type": "code",
   "execution_count": 31,
   "id": "c9863f7f",
   "metadata": {},
   "outputs": [
    {
     "data": {
      "image/png": "[encoded data removed]",
      "text/plain": [
       "<Figure size 357.679x204.68 with 1 Axes>"
      ]
     },
     "execution_count": 31,
     "metadata": {},
     "output_type": "execute_result"
    }
   ],
   "source": [
    "qc=QuantumCircuit(2)\n",
    "qc.h(0)\n",
    "qc.x(1)\n",
    "qc.measure_all()\n",
    "qc.draw(output=\"mpl\")"
   ]
  },
  {
   "cell_type": "code",
   "execution_count": 32,
   "id": "edf47718",
   "metadata": {},
   "outputs": [
    {
     "name": "stderr",
     "output_type": "stream",
     "text": [
      "Simulation failed and returned the following error message:\n",
      "ERROR:  [Experiment 0] Circuit circuit-8 contains invalid instructions {\"instructions\": {save_unitary}} for \"statevector\" method.\n"
     ]
    },
    {
     "ename": "QiskitError",
     "evalue": "'ERROR:  [Experiment 0] Circuit circuit-8 contains invalid instructions {\"instructions\": {save_unitary}} for \"statevector\" method. ,  ERROR: Circuit circuit-8 contains invalid instructions {\"instructions\": {save_unitary}} for \"statevector\" method.'",
     "output_type": "error",
     "traceback": [
      "\u001b[0;31m---------------------------------------------------------------------------\u001b[0m",
      "\u001b[0;31mQiskitError\u001b[0m                               Traceback (most recent call last)",
      "\u001b[0;32m<ipython-input-32-1d16feddc1fa>\u001b[0m in \u001b[0;36m<module>\u001b[0;34m\u001b[0m\n\u001b[1;32m      1\u001b[0m \u001b[0mjob\u001b[0m\u001b[0;34m=\u001b[0m\u001b[0mbackend\u001b[0m\u001b[0;34m.\u001b[0m\u001b[0mrun\u001b[0m\u001b[0;34m(\u001b[0m\u001b[0mqc\u001b[0m\u001b[0;34m)\u001b[0m\u001b[0;34m\u001b[0m\u001b[0;34m\u001b[0m\u001b[0m\n\u001b[1;32m      2\u001b[0m \u001b[0mresult\u001b[0m\u001b[0;34m=\u001b[0m\u001b[0mjob\u001b[0m\u001b[0;34m.\u001b[0m\u001b[0mresult\u001b[0m\u001b[0;34m(\u001b[0m\u001b[0;34m)\u001b[0m\u001b[0;34m\u001b[0m\u001b[0;34m\u001b[0m\u001b[0m\n\u001b[0;32m----> 3\u001b[0;31m \u001b[0munitary_matrix\u001b[0m\u001b[0;34m=\u001b[0m\u001b[0mresult\u001b[0m\u001b[0;34m.\u001b[0m\u001b[0mget_unitary\u001b[0m\u001b[0;34m(\u001b[0m\u001b[0;34m)\u001b[0m\u001b[0;34m\u001b[0m\u001b[0;34m\u001b[0m\u001b[0m\n\u001b[0m\u001b[1;32m      4\u001b[0m \u001b[0munitary_matrix\u001b[0m\u001b[0;34m.\u001b[0m\u001b[0mdata\u001b[0m\u001b[0;34m\u001b[0m\u001b[0;34m\u001b[0m\u001b[0m\n",
      "\u001b[0;32m~/opt/anaconda3/lib/python3.7/site-packages/qiskit/result/result.py\u001b[0m in \u001b[0;36mget_unitary\u001b[0;34m(self, experiment, decimals)\u001b[0m\n\u001b[1;32m    345\u001b[0m         \"\"\"\n\u001b[1;32m    346\u001b[0m         \u001b[0;32mtry\u001b[0m\u001b[0;34m:\u001b[0m\u001b[0;34m\u001b[0m\u001b[0;34m\u001b[0m\u001b[0m\n\u001b[0;32m--> 347\u001b[0;31m             \u001b[0;32mreturn\u001b[0m \u001b[0mpostprocess\u001b[0m\u001b[0;34m.\u001b[0m\u001b[0mformat_unitary\u001b[0m\u001b[0;34m(\u001b[0m\u001b[0mself\u001b[0m\u001b[0;34m.\u001b[0m\u001b[0mdata\u001b[0m\u001b[0;34m(\u001b[0m\u001b[0mexperiment\u001b[0m\u001b[0;34m)\u001b[0m\u001b[0;34m[\u001b[0m\u001b[0;34m\"unitary\"\u001b[0m\u001b[0;34m]\u001b[0m\u001b[0;34m,\u001b[0m \u001b[0mdecimals\u001b[0m\u001b[0;34m=\u001b[0m\u001b[0mdecimals\u001b[0m\u001b[0;34m)\u001b[0m\u001b[0;34m\u001b[0m\u001b[0;34m\u001b[0m\u001b[0m\n\u001b[0m\u001b[1;32m    348\u001b[0m         \u001b[0;32mexcept\u001b[0m \u001b[0mKeyError\u001b[0m \u001b[0;32mas\u001b[0m \u001b[0mex\u001b[0m\u001b[0;34m:\u001b[0m\u001b[0;34m\u001b[0m\u001b[0;34m\u001b[0m\u001b[0m\n\u001b[1;32m    349\u001b[0m             \u001b[0;32mraise\u001b[0m \u001b[0mQiskitError\u001b[0m\u001b[0;34m(\u001b[0m\u001b[0;34mf'No unitary for experiment \"{repr(experiment)}\"'\u001b[0m\u001b[0;34m)\u001b[0m \u001b[0;32mfrom\u001b[0m \u001b[0mex\u001b[0m\u001b[0;34m\u001b[0m\u001b[0;34m\u001b[0m\u001b[0m\n",
      "\u001b[0;32m~/opt/anaconda3/lib/python3.7/site-packages/qiskit/result/result.py\u001b[0m in \u001b[0;36mdata\u001b[0;34m(self, experiment)\u001b[0m\n\u001b[1;32m    196\u001b[0m         \"\"\"\n\u001b[1;32m    197\u001b[0m         \u001b[0;32mtry\u001b[0m\u001b[0;34m:\u001b[0m\u001b[0;34m\u001b[0m\u001b[0;34m\u001b[0m\u001b[0m\n\u001b[0;32m--> 198\u001b[0;31m             \u001b[0;32mreturn\u001b[0m \u001b[0mself\u001b[0m\u001b[0;34m.\u001b[0m\u001b[0m_get_experiment\u001b[0m\u001b[0;34m(\u001b[0m\u001b[0mexperiment\u001b[0m\u001b[0;34m)\u001b[0m\u001b[0;34m.\u001b[0m\u001b[0mdata\u001b[0m\u001b[0;34m.\u001b[0m\u001b[0mto_dict\u001b[0m\u001b[0;34m(\u001b[0m\u001b[0;34m)\u001b[0m\u001b[0;34m\u001b[0m\u001b[0;34m\u001b[0m\u001b[0m\n\u001b[0m\u001b[1;32m    199\u001b[0m         \u001b[0;32mexcept\u001b[0m \u001b[0;34m(\u001b[0m\u001b[0mKeyError\u001b[0m\u001b[0;34m,\u001b[0m \u001b[0mTypeError\u001b[0m\u001b[0;34m)\u001b[0m \u001b[0;32mas\u001b[0m \u001b[0mex\u001b[0m\u001b[0;34m:\u001b[0m\u001b[0;34m\u001b[0m\u001b[0;34m\u001b[0m\u001b[0m\n\u001b[1;32m    200\u001b[0m             \u001b[0;32mraise\u001b[0m \u001b[0mQiskitError\u001b[0m\u001b[0;34m(\u001b[0m\u001b[0;34mf'No data for experiment \"{repr(experiment)}\"'\u001b[0m\u001b[0;34m)\u001b[0m \u001b[0;32mfrom\u001b[0m \u001b[0mex\u001b[0m\u001b[0;34m\u001b[0m\u001b[0;34m\u001b[0m\u001b[0m\n",
      "\u001b[0;32m~/opt/anaconda3/lib/python3.7/site-packages/qiskit/result/result.py\u001b[0m in \u001b[0;36m_get_experiment\u001b[0;34m(self, key)\u001b[0m\n\u001b[1;32m    406\u001b[0m         \u001b[0mresult_status\u001b[0m \u001b[0;34m=\u001b[0m \u001b[0mgetattr\u001b[0m\u001b[0;34m(\u001b[0m\u001b[0mself\u001b[0m\u001b[0;34m,\u001b[0m \u001b[0;34m\"status\"\u001b[0m\u001b[0;34m,\u001b[0m \u001b[0;34m\"Result was not successful\"\u001b[0m\u001b[0;34m)\u001b[0m\u001b[0;34m\u001b[0m\u001b[0;34m\u001b[0m\u001b[0m\n\u001b[1;32m    407\u001b[0m         \u001b[0mexp_status\u001b[0m \u001b[0;34m=\u001b[0m \u001b[0mgetattr\u001b[0m\u001b[0;34m(\u001b[0m\u001b[0mexp\u001b[0m\u001b[0;34m,\u001b[0m \u001b[0;34m\"status\"\u001b[0m\u001b[0;34m,\u001b[0m \u001b[0;34m\"Experiment was not successful\"\u001b[0m\u001b[0;34m)\u001b[0m\u001b[0;34m\u001b[0m\u001b[0;34m\u001b[0m\u001b[0m\n\u001b[0;32m--> 408\u001b[0;31m         \u001b[0;32mraise\u001b[0m \u001b[0mQiskitError\u001b[0m\u001b[0;34m(\u001b[0m\u001b[0mresult_status\u001b[0m\u001b[0;34m,\u001b[0m \u001b[0;34m\", \"\u001b[0m\u001b[0;34m,\u001b[0m \u001b[0mexp_status\u001b[0m\u001b[0;34m)\u001b[0m\u001b[0;34m\u001b[0m\u001b[0;34m\u001b[0m\u001b[0m\n\u001b[0m",
      "\u001b[0;31mQiskitError\u001b[0m: 'ERROR:  [Experiment 0] Circuit circuit-8 contains invalid instructions {\"instructions\": {save_unitary}} for \"statevector\" method. ,  ERROR: Circuit circuit-8 contains invalid instructions {\"instructions\": {save_unitary}} for \"statevector\" method.'"
     ]
    }
   ],
   "source": [
    "job=backend.run(qc)\n",
    "result=job.result()\n",
    "unitary_matrix=result.get_unitary()\n",
    "unitary_matrix.data"
   ]
  },
  {
   "cell_type": "code",
   "execution_count": null,
   "id": "099286ae",
   "metadata": {},
   "outputs": [],
   "source": []
  },
  {
   "cell_type": "code",
   "execution_count": null,
   "id": "9b2de623",
   "metadata": {},
   "outputs": [],
   "source": []
  },
  {
   "cell_type": "code",
   "execution_count": null,
   "id": "5b3e5cb3",
   "metadata": {},
   "outputs": [],
   "source": []
  }
 ],
 "metadata": {
  "kernelspec": {
   "display_name": "Python 3 (ipykernel)",
   "language": "python",
   "name": "python3"
  },
  "language_info": {
   "codemirror_mode": {
    "name": "ipython",
    "version": 3
   },
   "file_extension": ".py",
   "mimetype": "text/x-python",
   "name": "python",
   "nbconvert_exporter": "python",
   "pygments_lexer": "ipython3",
   "version": "3.9.12"
  }
 },
 "nbformat": 4,
 "nbformat_minor": 5
}
