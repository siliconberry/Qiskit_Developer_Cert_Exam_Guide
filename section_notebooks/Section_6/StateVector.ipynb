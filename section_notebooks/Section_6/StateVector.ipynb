{
 "cells": [
  {
   "cell_type": "markdown",
   "id": "8d1adfde",
   "metadata": {},
   "source": [
    "# State Vector:\n",
    "## Ideal quantum circuit statevector simulator\n",
    "References:\n",
    "\n",
    "https://qiskit.org/documentation/apidoc/providers_basicaer.html\n",
    "\n",
    "https://qiskit.org/documentation/tutorials/simulators/1_aer_provider.html\n",
    "\n",
    "Statevector backend:https://qiskit.org/documentation/tutorials/circuits/1_getting_started_with_qiskit.html\n",
    "\n",
    "Different simulators:https://qiskit.org/documentation/tutorials/circuits/3_summary_of_quantum_operations.html\n",
    "\n",
    "\n",
    "# Note: <a href=\"./Create_Statevector.ipynb\">Different types to load a statevector</a>\n",
    "\n",
    "\n",
    "---"
   ]
  },
  {
   "cell_type": "code",
   "execution_count": 1,
   "id": "ef420628",
   "metadata": {},
   "outputs": [],
   "source": [
    "from qiskit import QuantumCircuit,BasicAer,Aer,transpile"
   ]
  },
  {
   "cell_type": "code",
   "execution_count": 2,
   "id": "ac38317e",
   "metadata": {},
   "outputs": [
    {
     "data": {
      "image/png": "[encoded data removed]",
      "text/plain": [
       "<Figure size 206.852x144.48 with 1 Axes>"
      ]
     },
     "execution_count": 2,
     "metadata": {},
     "output_type": "execute_result"
    }
   ],
   "source": [
    "qc=QuantumCircuit(2)\n",
    "qc.h(0)\n",
    "qc.cx(0,1)\n",
    "qc.draw(output=\"mpl\")"
   ]
  },
  {
   "cell_type": "markdown",
   "id": "4be57034",
   "metadata": {},
   "source": [
    "### Get the statevector simulator from Aer"
   ]
  },
  {
   "cell_type": "code",
   "execution_count": 3,
   "id": "f346b4be",
   "metadata": {},
   "outputs": [
    {
     "data": {
      "text/plain": [
       "'statevector_simulator'"
      ]
     },
     "execution_count": 3,
     "metadata": {},
     "output_type": "execute_result"
    }
   ],
   "source": [
    "backend=Aer.get_backend('statevector_simulator')\n",
    "backend.name()"
   ]
  },
  {
   "cell_type": "markdown",
   "id": "1677cf7c",
   "metadata": {},
   "source": [
    "## run():Run a qobj on the backend\n",
    "\n",
    "Reference:\n",
    "\n",
    "https://qiskit.org/documentation/stubs/qiskit.providers.aer.StatevectorSimulator.run.html#qiskit.providers.aer.StatevectorSimulator.run\n",
    "\n",
    "---"
   ]
  },
  {
   "cell_type": "code",
   "execution_count": 4,
   "id": "64efeda2",
   "metadata": {},
   "outputs": [],
   "source": [
    "job=backend.run(qc)"
   ]
  },
  {
   "cell_type": "markdown",
   "id": "0244c54c",
   "metadata": {},
   "source": [
    "## result(): get the job result\n",
    "\n",
    "https://qiskit.org/documentation/stubs/qiskit.providers.aer.jobs.AerJob.result.html#qiskit.providers.aer.jobs.AerJob.result"
   ]
  },
  {
   "cell_type": "code",
   "execution_count": 5,
   "id": "125e274c",
   "metadata": {},
   "outputs": [],
   "source": [
    "result=job.result()"
   ]
  },
  {
   "cell_type": "markdown",
   "id": "7a1991eb",
   "metadata": {},
   "source": [
    "## get_statevector(): get the final statevector of the experiment\n",
    "\n",
    "https://qiskit.org/documentation/stubs/qiskit.result.Result.get_statevector.html?highlight=get_statevector"
   ]
  },
  {
   "cell_type": "code",
   "execution_count": 6,
   "id": "031b28d2",
   "metadata": {},
   "outputs": [],
   "source": [
    "sv=result.get_statevector()"
   ]
  },
  {
   "cell_type": "code",
   "execution_count": 7,
   "id": "428e3f36",
   "metadata": {},
   "outputs": [
    {
     "name": "stdout",
     "output_type": "stream",
     "text": [
      "Statevector([0.70710678+0.j, 0.        +0.j, 0.        +0.j,\n",
      "             0.70710678+0.j],\n",
      "            dims=(2, 2))\n"
     ]
    }
   ],
   "source": [
    "sv"
   ]
  },
  {
   "cell_type": "markdown",
   "id": "0e17ffb1",
   "metadata": {},
   "source": [
    "# Statevector.draw()\n",
    "\n",
    "### returns the visualization of the statvector\n",
    "\n",
    "Reference:\n",
    "\n",
    "https://qiskit.org/documentation/stubs/qiskit.quantum_info.Statevector.draw.html?highlight=draw#qiskit.quantum_info.Statevector.draw"
   ]
  },
  {
   "cell_type": "code",
   "execution_count": 8,
   "id": "a79bd0f4",
   "metadata": {},
   "outputs": [
    {
     "data": {
      "text/latex": [
       "$$\\frac{\\sqrt{2}}{2} |00\\rangle+\\frac{\\sqrt{2}}{2} |11\\rangle$$"
      ],
      "text/plain": [
       "<IPython.core.display.Latex object>"
      ]
     },
     "execution_count": 8,
     "metadata": {},
     "output_type": "execute_result"
    }
   ],
   "source": [
    "sv.draw(output='latex')"
   ]
  },
  {
   "cell_type": "markdown",
   "id": "b5076430",
   "metadata": {},
   "source": [
    "# Another method: use transpile"
   ]
  },
  {
   "cell_type": "code",
   "execution_count": 9,
   "id": "dc4f674a",
   "metadata": {},
   "outputs": [
    {
     "name": "stdout",
     "output_type": "stream",
     "text": [
      "Statevector([0.70710678+0.j, 0.        +0.j, 0.        +0.j,\n",
      "             0.70710678+0.j],\n",
      "            dims=(2, 2))\n"
     ]
    },
    {
     "data": {
      "text/latex": [
       "$$\\frac{\\sqrt{2}}{2} |00\\rangle+\\frac{\\sqrt{2}}{2} |11\\rangle$$"
      ],
      "text/plain": [
       "<IPython.core.display.Latex object>"
      ]
     },
     "execution_count": 9,
     "metadata": {},
     "output_type": "execute_result"
    }
   ],
   "source": [
    "backend=Aer.get_backend('statevector_simulator')\n",
    "\n",
    "qc_transpile=transpile(qc,backend)\n",
    "\n",
    "job=backend.run(qc_transpile)\n",
    "result=job.result()\n",
    "sv=result.get_statevector()\n",
    "print(sv)\n",
    "sv.draw(output='latex')"
   ]
  },
  {
   "cell_type": "markdown",
   "id": "12b384d0",
   "metadata": {},
   "source": [
    "# Let's take one more example"
   ]
  },
  {
   "cell_type": "code",
   "execution_count": 10,
   "id": "e02eff7c",
   "metadata": {},
   "outputs": [
    {
     "data": {
      "image/png": "[encoded data removed]",
      "text/plain": [
       "<Figure size 146.652x144.48 with 1 Axes>"
      ]
     },
     "execution_count": 10,
     "metadata": {},
     "output_type": "execute_result"
    }
   ],
   "source": [
    "qc=QuantumCircuit(2)\n",
    "qc.h(0)\n",
    "qc.x(1)\n",
    "qc.draw(output=\"mpl\")"
   ]
  },
  {
   "cell_type": "code",
   "execution_count": 11,
   "id": "adebed81",
   "metadata": {},
   "outputs": [
    {
     "name": "stdout",
     "output_type": "stream",
     "text": [
      "Statevector([0.        +0.j, 0.        +0.j, 0.70710678+0.j,\n",
      "             0.70710678+0.j],\n",
      "            dims=(2, 2))\n"
     ]
    },
    {
     "data": {
      "text/latex": [
       "$$\\frac{\\sqrt{2}}{2} |10\\rangle+\\frac{\\sqrt{2}}{2} |11\\rangle$$"
      ],
      "text/plain": [
       "<IPython.core.display.Latex object>"
      ]
     },
     "execution_count": 11,
     "metadata": {},
     "output_type": "execute_result"
    }
   ],
   "source": [
    "backend=Aer.get_backend('statevector_simulator')\n",
    "qc_transpile=transpile(qc,backend)\n",
    "job=backend.run(qc_transpile)\n",
    "result=job.result()\n",
    "sv=result.get_statevector()\n",
    "print(sv)\n",
    "sv.draw(output='latex')"
   ]
  },
  {
   "cell_type": "code",
   "execution_count": 12,
   "id": "a1758827",
   "metadata": {},
   "outputs": [
    {
     "data": {
      "text/plain": [
       "array([0.        +0.j, 0.        +0.j, 0.70710678+0.j, 0.70710678+0.j])"
      ]
     },
     "execution_count": 12,
     "metadata": {},
     "output_type": "execute_result"
    }
   ],
   "source": [
    "# get the raw data of the experiment\n",
    "sv.data"
   ]
  }
 ],
 "metadata": {
  "kernelspec": {
   "display_name": "Python 3 (ipykernel)",
   "language": "python",
   "name": "python3"
  },
  "language_info": {
   "codemirror_mode": {
    "name": "ipython",
    "version": 3
   },
   "file_extension": ".py",
   "mimetype": "text/x-python",
   "name": "python",
   "nbconvert_exporter": "python",
   "pygments_lexer": "ipython3",
   "version": "3.9.12"
  }
 },
 "nbformat": 4,
 "nbformat_minor": 5
}
