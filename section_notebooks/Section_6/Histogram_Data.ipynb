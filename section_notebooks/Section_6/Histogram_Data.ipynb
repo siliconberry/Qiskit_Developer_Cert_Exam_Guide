{
 "cells": [
  {
   "cell_type": "markdown",
   "id": "1ab1c1eb",
   "metadata": {},
   "source": [
    "# QASM simulator:\n",
    "\n",
    "## Noisy Quantum Circuit Simulator backend\n",
    "\n",
    "- Introduction to Qiskit:https://qiskit.org/documentation/intro_tutorial1.html\n",
    "\n",
    "- First Quantum Program:https://quantum-computing.ibm.com/lab/docs/iql/first-circuit\n",
    "\n",
    "- Different simulators:https://qiskit.org/documentation/tutorials/circuits/3_summary_of_quantum_operations.html\n",
    "\n",
    "- Other References:\n",
    "\n",
    "    - https://qiskit.org/documentation/apidoc/providers_basicaer.html\n",
    "    - https://qiskit.org/documentation/tutorials/simulators/1_aer_provider.html\n",
    "    \n",
    "# 1. [First Quantum Program: Bell state](#qasm_bell)\n",
    "    - using qasm_simulator(ideal)\n",
    "# 2. <a href=\"Bell_state_EX.ipynb\">Other Examples with respect to Bell state</a>\n",
    "# 3. [Bell state on real device which is noisy](#qasm_real)\n",
    "\n",
    "---"
   ]
  },
  {
   "cell_type": "markdown",
   "id": "d9407f5e",
   "metadata": {},
   "source": [
    "## Points to be noted:\n",
    "\n",
    "- Real experiment requires the measurement in the Quantum Circuit\n",
    "- Mesaurement is in the computational basis\n",
    "- |0> , |1> basis\n",
    "- Without measurement we cannot get any information\n",
    "- Measurement collapses the quantum information into classical bits"
   ]
  },
  {
   "cell_type": "markdown",
   "id": "7fa0d334",
   "metadata": {},
   "source": [
    "### Step1: Import the required packages"
   ]
  },
  {
   "cell_type": "code",
   "execution_count": 1,
   "id": "68c6cef1",
   "metadata": {},
   "outputs": [],
   "source": [
    "from qiskit import QuantumCircuit,BasicAer,Aer,transpile,execute, IBMQ\n",
    "from qiskit.visualization import plot_histogram"
   ]
  },
  {
   "cell_type": "markdown",
   "id": "71acc3e2",
   "metadata": {},
   "source": [
    "# <a id=\"qasm_bell\"> First Quantum Program: Bell Circuit</a>"
   ]
  },
  {
   "cell_type": "markdown",
   "id": "28b12dd9",
   "metadata": {},
   "source": [
    "### Step2: Create a Quantum Circuit\n",
    "- using 2 one-single qubit gates\n",
    "- H and CX gate"
   ]
  },
  {
   "cell_type": "code",
   "execution_count": 2,
   "id": "cf616c73",
   "metadata": {},
   "outputs": [
    {
     "data": {
      "image/png": "[encoded data removed]",
      "text/plain": [
       "<Figure size 206.852x144.48 with 1 Axes>"
      ]
     },
     "execution_count": 2,
     "metadata": {},
     "output_type": "execute_result"
    }
   ],
   "source": [
    "qc=QuantumCircuit(2)\n",
    "qc.h(0)\n",
    "qc.cx(0,1)\n",
    "qc.draw(output=\"mpl\")"
   ]
  },
  {
   "cell_type": "markdown",
   "id": "ea55796d",
   "metadata": {},
   "source": [
    "### Step3: Mesurement"
   ]
  },
  {
   "cell_type": "code",
   "execution_count": 3,
   "id": "a33c0671",
   "metadata": {},
   "outputs": [
    {
     "data": {
      "image/png": "[encoded data removed]",
      "text/plain": [
       "<Figure size 417.879x204.68 with 1 Axes>"
      ]
     },
     "execution_count": 3,
     "metadata": {},
     "output_type": "execute_result"
    }
   ],
   "source": [
    "qc.measure_all()\n",
    "qc.draw(output=\"mpl\")"
   ]
  },
  {
   "cell_type": "markdown",
   "id": "8a5e6502",
   "metadata": {},
   "source": [
    "### Step4: Get the qasm simulator from Aer"
   ]
  },
  {
   "cell_type": "code",
   "execution_count": 4,
   "id": "5ae7db85",
   "metadata": {},
   "outputs": [
    {
     "data": {
      "text/plain": [
       "'qasm_simulator'"
      ]
     },
     "execution_count": 4,
     "metadata": {},
     "output_type": "execute_result"
    }
   ],
   "source": [
    "backend=Aer.get_backend('qasm_simulator')\n",
    "backend.name()"
   ]
  },
  {
   "cell_type": "markdown",
   "id": "1717e266",
   "metadata": {},
   "source": [
    "### Step5: Execute the circuit\n",
    "shots= number of times the experiment/circuit is run"
   ]
  },
  {
   "cell_type": "code",
   "execution_count": 5,
   "id": "e71c03e8",
   "metadata": {},
   "outputs": [],
   "source": [
    "job=execute(qc,backend,shots=1024)"
   ]
  },
  {
   "cell_type": "markdown",
   "id": "93c01cd4",
   "metadata": {},
   "source": [
    "### Step6:  Get the job result: result()\n",
    "\n",
    "https://qiskit.org/documentation/stubs/qiskit.providers.aer.jobs.AerJob.result.html#qiskit.providers.aer.jobs.AerJob.result\n",
    "\n",
    "---"
   ]
  },
  {
   "cell_type": "code",
   "execution_count": 6,
   "id": "f526fdba",
   "metadata": {},
   "outputs": [],
   "source": [
    "result=job.result()"
   ]
  },
  {
   "cell_type": "markdown",
   "id": "ee5cd455",
   "metadata": {},
   "source": [
    "### Step7:  Get the histogram data of the experiement\n",
    "\n",
    "https://qiskit.org/documentation/stubs/qiskit.result.Result.get_counts.html#qiskit.result.Result.get_counts"
   ]
  },
  {
   "cell_type": "code",
   "execution_count": 7,
   "id": "974a6372",
   "metadata": {},
   "outputs": [
    {
     "name": "stdout",
     "output_type": "stream",
     "text": [
      "{'00': 521, '11': 503}\n"
     ]
    }
   ],
   "source": [
    "counts=result.get_counts()\n",
    "print(counts)"
   ]
  },
  {
   "cell_type": "markdown",
   "id": "26c2843b",
   "metadata": {},
   "source": [
    "### Step8: Plot the histogram data\n",
    "\n",
    "- Output obtained is the probabities.\n",
    "- Probabilities are calculated by taking the individual counts of the state / shots"
   ]
  },
  {
   "cell_type": "code",
   "execution_count": 8,
   "id": "b5ee6f77",
   "metadata": {},
   "outputs": [
    {
     "data": {
      "image/png": "[encoded data removed]",
      "text/plain": [
       "<Figure size 504x360 with 1 Axes>"
      ]
     },
     "execution_count": 8,
     "metadata": {},
     "output_type": "execute_result"
    }
   ],
   "source": [
    "plot_histogram(counts)"
   ]
  },
  {
   "cell_type": "markdown",
   "id": "478b5747",
   "metadata": {},
   "source": [
    "## Conclusion:\n",
    "    The Quantum circuit created is called a Bell state.\n",
    "    - Both qubits are 50 % having the value 0\n",
    "    - Both qubits are 50 % having teh value 1\n",
    "    \n",
    "https://quantum-computing.ibm.com/admin/docs/admin/guide/entanglement#experiment-with-the-bell-state"
   ]
  },
  {
   "cell_type": "markdown",
   "id": "94174deb",
   "metadata": {},
   "source": [
    "### above qasm simulator doesn't contain any noise\n",
    "### So output obtained is without noise\n",
    "\n",
    "# Called as maximally entangled quantum state of two qubits"
   ]
  },
  {
   "cell_type": "markdown",
   "id": "277b803b",
   "metadata": {},
   "source": [
    "***\n",
    "# <a id=\"qasm_real\" >Let's take a real device : Real devices are noisy</a>\n",
    "***\n",
    "### output contains noisy measurements"
   ]
  },
  {
   "cell_type": "code",
   "execution_count": 9,
   "id": "96fe6a23",
   "metadata": {},
   "outputs": [
    {
     "name": "stdout",
     "output_type": "stream",
     "text": [
      "{'00': 512, '01': 38, '10': 37, '11': 437}\n"
     ]
    },
    {
     "data": {
      "image/png": "[encoded data removed]",
      "text/plain": [
       "<Figure size 504x360 with 1 Axes>"
      ]
     },
     "execution_count": 9,
     "metadata": {},
     "output_type": "execute_result"
    }
   ],
   "source": [
    "provider=IBMQ.load_account() \n",
    "\n",
    "#Get the backend\n",
    "backend=provider.get_backend('ibmq_bogota')\n",
    "\n",
    "job=execute(qc,backend,shots=1024)\n",
    "result=job.result()\n",
    "counts=result.get_counts()\n",
    "print(counts)\n",
    "plot_histogram(counts)"
   ]
  },
  {
   "cell_type": "code",
   "execution_count": 11,
   "id": "8a1f659c",
   "metadata": {},
   "outputs": [],
   "source": [
    "jobID=job.job_id()"
   ]
  },
  {
   "cell_type": "code",
   "execution_count": 12,
   "id": "a790973e",
   "metadata": {},
   "outputs": [
    {
     "data": {
      "text/plain": [
       "'61e7cae611d037740fabc026'"
      ]
     },
     "execution_count": 12,
     "metadata": {},
     "output_type": "execute_result"
    }
   ],
   "source": [
    "jobID"
   ]
  },
  {
   "cell_type": "code",
   "execution_count": 13,
   "id": "a8882307",
   "metadata": {},
   "outputs": [],
   "source": [
    "qc=job.circuits()"
   ]
  },
  {
   "cell_type": "code",
   "execution_count": 17,
   "id": "40a0e96d",
   "metadata": {},
   "outputs": [
    {
     "data": {
      "image/png": "[encoded data removed]",
      "text/plain": [
       "<Figure size 538.279x385.28 with 1 Axes>"
      ]
     },
     "execution_count": 17,
     "metadata": {},
     "output_type": "execute_result"
    }
   ],
   "source": [
    "qc[0].draw(output=\"mpl\")"
   ]
  },
  {
   "cell_type": "code",
   "execution_count": null,
   "id": "f90e996c",
   "metadata": {},
   "outputs": [],
   "source": []
  }
 ],
 "metadata": {
  "kernelspec": {
   "display_name": "Python 3",
   "language": "python",
   "name": "python3"
  },
  "language_info": {
   "codemirror_mode": {
    "name": "ipython",
    "version": 3
   },
   "file_extension": ".py",
   "mimetype": "text/x-python",
   "name": "python",
   "nbconvert_exporter": "python",
   "pygments_lexer": "ipython3",
   "version": "3.7.9"
  }
 },
 "nbformat": 4,
 "nbformat_minor": 5
}
