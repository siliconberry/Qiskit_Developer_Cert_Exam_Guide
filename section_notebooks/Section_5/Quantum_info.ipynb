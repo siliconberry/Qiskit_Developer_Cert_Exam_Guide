{
 "cells": [
  {
   "cell_type": "markdown",
   "id": "b852e55f",
   "metadata": {},
   "source": [
    "# Quantum Information"
   ]
  },
  {
   "cell_type": "markdown",
   "id": "31689494",
   "metadata": {},
   "source": [
    "Reference:\n",
    "    https://qiskit.org/documentation/apidoc/quantum_info.html"
   ]
  },
  {
   "cell_type": "markdown",
   "id": "729df991",
   "metadata": {},
   "source": [
    "<a href=\"./Operator.ipynb\">Operators: \n",
    "    \n",
    "    1. Operator :Matrix operator class\n",
    "    2. Pauli :N-qubit Pauli operator."
   ]
  },
  {
   "cell_type": "markdown",
   "id": "4e42b000",
   "metadata": {},
   "source": [
    "<a href=\"./States.ipynb\">States: \n",
    "    \n",
    "    1. Statevector class\n",
    "    2. DensityMatrix class"
   ]
  },
  {
   "cell_type": "markdown",
   "id": "c629a0b8",
   "metadata": {},
   "source": [
    "<a href=\"./Fidelity.ipynb\">Measures: \n",
    "    \n",
    "    1. Process Fidelity\n",
    "    2. State Fidelity\n",
    "    3. Average gate Fidelity"
   ]
  },
  {
   "cell_type": "code",
   "execution_count": null,
   "id": "7d9b4cd8",
   "metadata": {},
   "outputs": [],
   "source": []
  },
  {
   "cell_type": "code",
   "execution_count": null,
   "id": "29339ae4",
   "metadata": {},
   "outputs": [],
   "source": []
  }
 ],
 "metadata": {
  "kernelspec": {
   "display_name": "Python 3 (ipykernel)",
   "language": "python",
   "name": "python3"
  },
  "language_info": {
   "codemirror_mode": {
    "name": "ipython",
    "version": 3
   },
   "file_extension": ".py",
   "mimetype": "text/x-python",
   "name": "python",
   "nbconvert_exporter": "python",
   "pygments_lexer": "ipython3",
   "version": "3.9.12"
  }
 },
 "nbformat": 4,
 "nbformat_minor": 5
}
