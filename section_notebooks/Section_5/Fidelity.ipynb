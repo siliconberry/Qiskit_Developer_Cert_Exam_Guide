{
 "cells": [
  {
   "cell_type": "markdown",
   "id": "c4206ffc",
   "metadata": {},
   "source": [
    "# Fidelity\n",
    "\n",
    "### fidelity is a measure of the \"closeness\" of two quantum states\n",
    "\n",
    "Reference:https://en.wikipedia.org/wiki/Fidelity_of_quantum_states\n",
    "\n",
    "1. Process fidleity:\n",
    "\n",
    "Return the process fidelity of a noisy quantum channel.\n",
    "\n",
    "2. state fidelity:\n",
    "\n",
    "Return the state fidelity between two quantum states.\n",
    "\n",
    "3. average_gate_fidelity:\n",
    "\n",
    "Return the average gate fidelity of a noisy quantum channel."
   ]
  },
  {
   "cell_type": "markdown",
   "id": "d268161d",
   "metadata": {},
   "source": [
    "## process fidelity :\n",
    "generally only a valid measure of closeness if the input operators are unitary \n",
    "\n",
    "Reference:\n",
    "https://qiskit.org/documentation/tutorials/circuits_advanced/02_operators_overview.html\n",
    "\n",
    "https://qiskit.org/documentation/stubs/qiskit.quantum_info.process_fidelity.html#qiskit.quantum_info.process_fidelity"
   ]
  },
  {
   "cell_type": "code",
   "execution_count": 94,
   "id": "f3bb5100",
   "metadata": {},
   "outputs": [],
   "source": [
    "from qiskit.quantum_info import *\n",
    "from qiskit.quantum_info.operators import Operator\n",
    "from qiskit.extensions import XGate,ZGate,YGate,SGate\n",
    "from qiskit.visualization import *\n",
    "import numpy as np\n",
    "from qiskit import QuantumCircuit,Aer,execute"
   ]
  },
  {
   "cell_type": "markdown",
   "id": "83c5405c",
   "metadata": {},
   "source": [
    "### initialize the operator object with a matrix given as a list or a Numpy array"
   ]
  },
  {
   "cell_type": "code",
   "execution_count": 50,
   "id": "98b8d706",
   "metadata": {},
   "outputs": [
    {
     "data": {
      "text/plain": [
       "Operator([[0.+0.j, 1.+0.j],\n",
       "          [1.+0.j, 0.+0.j]],\n",
       "         input_dims=(2,), output_dims=(2,))"
      ]
     },
     "execution_count": 50,
     "metadata": {},
     "output_type": "execute_result"
    }
   ],
   "source": [
    "Operator([[0,1],[1,0]])"
   ]
  },
  {
   "cell_type": "code",
   "execution_count": 51,
   "id": "936a4ad1",
   "metadata": {},
   "outputs": [
    {
     "data": {
      "text/latex": [
       "$$\n",
       "\n",
       "\\begin{bmatrix}\n",
       "0 & 1  \\\\\n",
       " 1 & 0  \\\\\n",
       " \\end{bmatrix}\n",
       "$$"
      ],
      "text/plain": [
       "<IPython.core.display.Latex object>"
      ]
     },
     "execution_count": 51,
     "metadata": {},
     "output_type": "execute_result"
    }
   ],
   "source": [
    "array_to_latex(Operator([[0,1],[1,0]]).data)"
   ]
  },
  {
   "cell_type": "markdown",
   "id": "7bd6bd94",
   "metadata": {},
   "source": [
    "### To check whether it is unitary"
   ]
  },
  {
   "cell_type": "code",
   "execution_count": 52,
   "id": "ecfcca88",
   "metadata": {},
   "outputs": [
    {
     "data": {
      "text/plain": [
       "True"
      ]
     },
     "execution_count": 52,
     "metadata": {},
     "output_type": "execute_result"
    }
   ],
   "source": [
    "Operator([[0,1],[1,0]]).is_unitary()"
   ]
  },
  {
   "cell_type": "markdown",
   "id": "ffd90797",
   "metadata": {},
   "source": [
    "### Create an Operator for a Gate object"
   ]
  },
  {
   "cell_type": "code",
   "execution_count": 53,
   "id": "a9819a7d",
   "metadata": {},
   "outputs": [
    {
     "data": {
      "text/plain": [
       "Operator([[0.+0.j, 1.+0.j],\n",
       "          [1.+0.j, 0.+0.j]],\n",
       "         input_dims=(2,), output_dims=(2,))"
      ]
     },
     "execution_count": 53,
     "metadata": {},
     "output_type": "execute_result"
    }
   ],
   "source": [
    "Operator(XGate())"
   ]
  },
  {
   "cell_type": "code",
   "execution_count": 54,
   "id": "de28bab8",
   "metadata": {},
   "outputs": [
    {
     "data": {
      "text/latex": [
       "$$\n",
       "\n",
       "\\begin{bmatrix}\n",
       "0 & 1  \\\\\n",
       " 1 & 0  \\\\\n",
       " \\end{bmatrix}\n",
       "$$"
      ],
      "text/plain": [
       "<IPython.core.display.Latex object>"
      ]
     },
     "execution_count": 54,
     "metadata": {},
     "output_type": "execute_result"
    }
   ],
   "source": [
    "array_to_latex(Operator([[0,1],[1,0]]).data)"
   ]
  },
  {
   "cell_type": "code",
   "execution_count": 55,
   "id": "4392835e",
   "metadata": {},
   "outputs": [
    {
     "data": {
      "text/plain": [
       "True"
      ]
     },
     "execution_count": 55,
     "metadata": {},
     "output_type": "execute_result"
    }
   ],
   "source": [
    "Operator(XGate()).is_unitary()"
   ]
  },
  {
   "cell_type": "markdown",
   "id": "5cc24e6d",
   "metadata": {},
   "source": [
    "### Let's use the process fidelity to verify whether both are unitary"
   ]
  },
  {
   "cell_type": "code",
   "execution_count": 56,
   "id": "7dc06591",
   "metadata": {},
   "outputs": [
    {
     "data": {
      "text/plain": [
       "1.0"
      ]
     },
     "execution_count": 56,
     "metadata": {},
     "output_type": "execute_result"
    }
   ],
   "source": [
    "process_fidelity(Operator([[0,1],[1,0]]),Operator(XGate()))"
   ]
  },
  {
   "cell_type": "markdown",
   "id": "7e86dbc6",
   "metadata": {},
   "source": [
    "### Note:\n",
    "In the case of unitary operators it does not depend on global phase."
   ]
  },
  {
   "cell_type": "code",
   "execution_count": 57,
   "id": "0332dabb",
   "metadata": {},
   "outputs": [
    {
     "name": "stdout",
     "output_type": "stream",
     "text": [
      "Process fidelity = 1.0\n"
     ]
    }
   ],
   "source": [
    "# Two operators which differ only by phase\n",
    "op_a = Operator(XGate())\n",
    "op_b = np.exp(1j * 0.5) * Operator(XGate())\n",
    "\n",
    "# Compute process fidelity\n",
    "F = process_fidelity(op_a, op_b)\n",
    "print('Process fidelity =', F)"
   ]
  },
  {
   "cell_type": "markdown",
   "id": "662b13ec",
   "metadata": {},
   "source": [
    "## State fidelity :\n",
    "Return the state fidelity between two quantum states.\n",
    "\n",
    "Reference:\n",
    "https://qiskit.org/documentation/stubs/qiskit.quantum_info.state_fidelity.html#qiskit.quantum_info.state_fidelity"
   ]
  },
  {
   "cell_type": "code",
   "execution_count": 58,
   "id": "03725bf8",
   "metadata": {},
   "outputs": [
    {
     "data": {
      "image/png": "[encoded data removed]",
      "text/plain": [
       "<Figure size 146.652x144.48 with 1 Axes>"
      ]
     },
     "execution_count": 58,
     "metadata": {},
     "output_type": "execute_result"
    }
   ],
   "source": [
    "qc=QuantumCircuit(2)\n",
    "qc.h(0)\n",
    "qc.h(1)\n",
    "qc.draw(output=\"mpl\")"
   ]
  },
  {
   "cell_type": "code",
   "execution_count": 59,
   "id": "2b8aca02",
   "metadata": {},
   "outputs": [
    {
     "data": {
      "text/latex": [
       "$$\\frac{1}{2} |00\\rangle+\\frac{1}{2} |01\\rangle+\\frac{1}{2} |10\\rangle+\\frac{1}{2} |11\\rangle$$"
      ],
      "text/plain": [
       "<IPython.core.display.Latex object>"
      ]
     },
     "execution_count": 59,
     "metadata": {},
     "output_type": "execute_result"
    }
   ],
   "source": [
    "backend=Aer.get_backend('statevector_simulator')\n",
    "job=execute(qc,backend,shots=1024)\n",
    "result=job.result()\n",
    "sv_1=result.get_statevector()\n",
    "sv_1.draw(output=\"latex\")"
   ]
  },
  {
   "cell_type": "code",
   "execution_count": 60,
   "id": "541cf633",
   "metadata": {},
   "outputs": [
    {
     "data": {
      "image/png": "[encoded data removed]",
      "text/plain": [
       "<Figure size 206.852x144.48 with 1 Axes>"
      ]
     },
     "execution_count": 60,
     "metadata": {},
     "output_type": "execute_result"
    }
   ],
   "source": [
    "qc = QuantumCircuit(2)\n",
    "qc.initialize([1/2, 1/2,1/2,1/2], [0,1])\n",
    "qc.draw(output=\"mpl\")"
   ]
  },
  {
   "cell_type": "code",
   "execution_count": 61,
   "id": "84a2a0b9",
   "metadata": {},
   "outputs": [
    {
     "data": {
      "text/latex": [
       "$$\\frac{1}{2} |00\\rangle+\\frac{1}{2} |01\\rangle+\\frac{1}{2} |10\\rangle+\\frac{1}{2} |11\\rangle$$"
      ],
      "text/plain": [
       "<IPython.core.display.Latex object>"
      ]
     },
     "execution_count": 61,
     "metadata": {},
     "output_type": "execute_result"
    }
   ],
   "source": [
    "backend=Aer.get_backend('statevector_simulator')\n",
    "job=execute(qc,backend,shots=1024)\n",
    "result=job.result()\n",
    "sv_2=result.get_statevector()\n",
    "sv_2.draw(output=\"latex\")"
   ]
  },
  {
   "cell_type": "code",
   "execution_count": 62,
   "id": "964b1238",
   "metadata": {},
   "outputs": [
    {
     "data": {
      "text/plain": [
       "1.0"
      ]
     },
     "execution_count": 62,
     "metadata": {},
     "output_type": "execute_result"
    }
   ],
   "source": [
    "state_fidelity(sv_1,sv_2)"
   ]
  },
  {
   "cell_type": "markdown",
   "id": "2cfc3511",
   "metadata": {},
   "source": [
    "## Average gate fidelity :\n",
    "\n",
    "Reference:\n",
    "https://qiskit.org/documentation/stubs/qiskit.quantum_info.average_gate_fidelity.html#qiskit.quantum_info.average_gate_fidelity"
   ]
  },
  {
   "cell_type": "code",
   "execution_count": 63,
   "id": "55d5ad7d",
   "metadata": {},
   "outputs": [],
   "source": [
    "X_gate1=Operator(XGate())\n",
    "X_gate2= Operator(Pauli(label='X'))\n",
    "\n"
   ]
  },
  {
   "cell_type": "code",
   "execution_count": 64,
   "id": "10badbae",
   "metadata": {},
   "outputs": [
    {
     "data": {
      "text/plain": [
       "1.0"
      ]
     },
     "execution_count": 64,
     "metadata": {},
     "output_type": "execute_result"
    }
   ],
   "source": [
    "average_gate_fidelity(X_gate1,X_gate2)"
   ]
  },
  {
   "cell_type": "code",
   "execution_count": 65,
   "id": "63279c46",
   "metadata": {},
   "outputs": [],
   "source": [
    "# Two operators which differ only by phase"
   ]
  },
  {
   "cell_type": "code",
   "execution_count": 66,
   "id": "37c0ffc0",
   "metadata": {},
   "outputs": [],
   "source": [
    "X_gate1=Operator(XGate())\n",
    "X_gate2= np.exp(1j * 0.5)*Operator(XGate())"
   ]
  },
  {
   "cell_type": "code",
   "execution_count": 67,
   "id": "30416eed",
   "metadata": {},
   "outputs": [
    {
     "data": {
      "text/plain": [
       "1.0"
      ]
     },
     "execution_count": 67,
     "metadata": {},
     "output_type": "execute_result"
    }
   ],
   "source": [
    "average_gate_fidelity(X_gate1,X_gate2)"
   ]
  },
  {
   "cell_type": "code",
   "execution_count": 109,
   "id": "bf2565f6",
   "metadata": {},
   "outputs": [],
   "source": [
    "# let's take another example\n",
    "a=Operator(Pauli(label='Z'))\n",
    "b=Operator(Pauli(label='Y'))"
   ]
  },
  {
   "cell_type": "code",
   "execution_count": 110,
   "id": "7e3352c9",
   "metadata": {},
   "outputs": [
    {
     "data": {
      "text/plain": [
       "0.3333333333333333"
      ]
     },
     "execution_count": 110,
     "metadata": {},
     "output_type": "execute_result"
    }
   ],
   "source": [
    "average_gate_fidelity(a,b)"
   ]
  },
  {
   "cell_type": "code",
   "execution_count": 111,
   "id": "58314921",
   "metadata": {},
   "outputs": [
    {
     "data": {
      "text/plain": [
       "0.0"
      ]
     },
     "execution_count": 111,
     "metadata": {},
     "output_type": "execute_result"
    }
   ],
   "source": [
    "process_fidelity(a,b)"
   ]
  },
  {
   "cell_type": "code",
   "execution_count": 112,
   "id": "7cce7a8a",
   "metadata": {},
   "outputs": [],
   "source": [
    "x=Operator(ZGate())\n",
    "y=Operator(SGate())"
   ]
  },
  {
   "cell_type": "code",
   "execution_count": 113,
   "id": "47c9ad60",
   "metadata": {},
   "outputs": [
    {
     "data": {
      "text/plain": [
       "0.6666666666666666"
      ]
     },
     "execution_count": 113,
     "metadata": {},
     "output_type": "execute_result"
    }
   ],
   "source": [
    "average_gate_fidelity(x,y)"
   ]
  },
  {
   "cell_type": "code",
   "execution_count": 114,
   "id": "cf944163",
   "metadata": {},
   "outputs": [
    {
     "data": {
      "text/plain": [
       "0.5000000000000001"
      ]
     },
     "execution_count": 114,
     "metadata": {},
     "output_type": "execute_result"
    }
   ],
   "source": [
    "process_fidelity(x,y)"
   ]
  },
  {
   "cell_type": "code",
   "execution_count": 95,
   "id": "5e41356f",
   "metadata": {},
   "outputs": [
    {
     "data": {
      "text/plain": [
       "True"
      ]
     },
     "execution_count": 95,
     "metadata": {},
     "output_type": "execute_result"
    }
   ],
   "source": [
    "S_gate=Operator(SGate())\n",
    "S_gate.is_unitary()"
   ]
  }
 ],
 "metadata": {
  "kernelspec": {
   "display_name": "Python 3 (ipykernel)",
   "language": "python",
   "name": "python3"
  },
  "language_info": {
   "codemirror_mode": {
    "name": "ipython",
    "version": 3
   },
   "file_extension": ".py",
   "mimetype": "text/x-python",
   "name": "python",
   "nbconvert_exporter": "python",
   "pygments_lexer": "ipython3",
   "version": "3.9.12"
  }
 },
 "nbformat": 4,
 "nbformat_minor": 5
}
