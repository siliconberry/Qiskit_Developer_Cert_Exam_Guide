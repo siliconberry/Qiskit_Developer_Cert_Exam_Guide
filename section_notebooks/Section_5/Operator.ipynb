{
 "cells": [
  {
   "cell_type": "markdown",
   "id": "03600f86",
   "metadata": {},
   "source": [
    "# Operator\n",
    "\n",
    "Operator class is used in Qiskit to represent matrix operators acting on a quantum system\n",
    "\n",
    "Operator.is_unitary() function, which will return True if the operator is unitary and False otherwise.\n",
    "\n",
    "Reference:\n",
    "\n",
    "https://qiskit.org/documentation/tutorials/circuits_advanced/02_operators_overview.html"
   ]
  },
  {
   "cell_type": "code",
   "execution_count": 1,
   "id": "043242db",
   "metadata": {},
   "outputs": [],
   "source": [
    "from qiskit.quantum_info.operators import Operator, Pauli\n",
    "from qiskit.visualization import *\n",
    "from qiskit.extensions import XGate,HGate\n",
    "from qiskit import QuantumCircuit,BasicAer,execute"
   ]
  },
  {
   "cell_type": "markdown",
   "id": "6142ac85",
   "metadata": {},
   "source": [
    "# create an operator object is to initialize it with a matrix given as a list or a Numpy array."
   ]
  },
  {
   "cell_type": "code",
   "execution_count": 2,
   "id": "60534294",
   "metadata": {},
   "outputs": [],
   "source": [
    "X=Operator([[0,1],[1,0]])"
   ]
  },
  {
   "cell_type": "code",
   "execution_count": 3,
   "id": "5a047979",
   "metadata": {},
   "outputs": [
    {
     "data": {
      "text/plain": [
       "Operator([[0.+0.j, 1.+0.j],\n",
       "          [1.+0.j, 0.+0.j]],\n",
       "         input_dims=(2,), output_dims=(2,))"
      ]
     },
     "execution_count": 3,
     "metadata": {},
     "output_type": "execute_result"
    }
   ],
   "source": [
    "X"
   ]
  },
  {
   "cell_type": "code",
   "execution_count": 4,
   "id": "bfca68b5",
   "metadata": {},
   "outputs": [
    {
     "data": {
      "text/plain": [
       "array([[0.+0.j, 1.+0.j],\n",
       "       [1.+0.j, 0.+0.j]])"
      ]
     },
     "execution_count": 4,
     "metadata": {},
     "output_type": "execute_result"
    }
   ],
   "source": [
    "X.data"
   ]
  },
  {
   "cell_type": "code",
   "execution_count": 5,
   "id": "15d3d459",
   "metadata": {},
   "outputs": [
    {
     "data": {
      "text/latex": [
       "$$\n",
       "\n",
       "\\begin{bmatrix}\n",
       "0 & 1  \\\\\n",
       " 1 & 0  \\\\\n",
       " \\end{bmatrix}\n",
       "$$"
      ],
      "text/plain": [
       "<IPython.core.display.Latex object>"
      ]
     },
     "execution_count": 5,
     "metadata": {},
     "output_type": "execute_result"
    }
   ],
   "source": [
    "array_to_latex(X.data)"
   ]
  },
  {
   "cell_type": "markdown",
   "id": "af16f617",
   "metadata": {},
   "source": [
    "# Create an Operator from a Pauli object"
   ]
  },
  {
   "cell_type": "code",
   "execution_count": 6,
   "id": "840e538c",
   "metadata": {},
   "outputs": [
    {
     "data": {
      "text/plain": [
       "Operator([[0.+0.j, 1.+0.j],\n",
       "          [1.+0.j, 0.+0.j]],\n",
       "         input_dims=(2,), output_dims=(2,))"
      ]
     },
     "execution_count": 6,
     "metadata": {},
     "output_type": "execute_result"
    }
   ],
   "source": [
    "pauli_Xgate = Pauli(label='X')\n",
    "Operator(pauli_Xgate)"
   ]
  },
  {
   "cell_type": "code",
   "execution_count": 7,
   "id": "3bf52913",
   "metadata": {},
   "outputs": [
    {
     "data": {
      "text/latex": [
       "$$\n",
       "\n",
       "\\begin{bmatrix}\n",
       "0 & 1  \\\\\n",
       " 1 & 0  \\\\\n",
       " \\end{bmatrix}\n",
       "$$"
      ],
      "text/plain": [
       "<IPython.core.display.Latex object>"
      ]
     },
     "execution_count": 7,
     "metadata": {},
     "output_type": "execute_result"
    }
   ],
   "source": [
    "array_to_latex(Operator(pauli_Xgate).data)"
   ]
  },
  {
   "cell_type": "code",
   "execution_count": 8,
   "id": "3fbf7c2d",
   "metadata": {},
   "outputs": [
    {
     "data": {
      "text/plain": [
       "True"
      ]
     },
     "execution_count": 8,
     "metadata": {},
     "output_type": "execute_result"
    }
   ],
   "source": [
    "Operator(pauli_Xgate).is_unitary()"
   ]
  },
  {
   "cell_type": "markdown",
   "id": "1379be1a",
   "metadata": {},
   "source": [
    "# Create an Operator for a Gate object"
   ]
  },
  {
   "cell_type": "code",
   "execution_count": 9,
   "id": "3b50c973",
   "metadata": {},
   "outputs": [
    {
     "data": {
      "text/plain": [
       "Operator([[0.+0.j, 1.+0.j],\n",
       "          [1.+0.j, 0.+0.j]],\n",
       "         input_dims=(2,), output_dims=(2,))"
      ]
     },
     "execution_count": 9,
     "metadata": {},
     "output_type": "execute_result"
    }
   ],
   "source": [
    "Operator(XGate())"
   ]
  },
  {
   "cell_type": "code",
   "execution_count": 10,
   "id": "de480902",
   "metadata": {},
   "outputs": [
    {
     "data": {
      "text/latex": [
       "$$\n",
       "\n",
       "\\begin{bmatrix}\n",
       "0 & 1  \\\\\n",
       " 1 & 0  \\\\\n",
       " \\end{bmatrix}\n",
       "$$"
      ],
      "text/plain": [
       "<IPython.core.display.Latex object>"
      ]
     },
     "execution_count": 10,
     "metadata": {},
     "output_type": "execute_result"
    }
   ],
   "source": [
    "array_to_latex(Operator(XGate()).data)"
   ]
  },
  {
   "cell_type": "markdown",
   "id": "92baa35b",
   "metadata": {},
   "source": [
    "# Create an operator from a QuantumCircuit object\n"
   ]
  },
  {
   "cell_type": "code",
   "execution_count": 11,
   "id": "e26ae072",
   "metadata": {},
   "outputs": [
    {
     "data": {
      "text/plain": [
       "Operator([[0.+0.j, 1.+0.j],\n",
       "          [1.+0.j, 0.+0.j]],\n",
       "         input_dims=(2,), output_dims=(2,))"
      ]
     },
     "execution_count": 11,
     "metadata": {},
     "output_type": "execute_result"
    }
   ],
   "source": [
    "qc = QuantumCircuit(1)\n",
    "qc.x(0)\n",
    "\n",
    "# Convert circuit to an operator by implicit unitary simulation\n",
    "Operator(qc)"
   ]
  },
  {
   "cell_type": "code",
   "execution_count": 12,
   "id": "8e3deb00",
   "metadata": {},
   "outputs": [
    {
     "data": {
      "text/latex": [
       "$$\n",
       "\n",
       "\\begin{bmatrix}\n",
       "0 & 1  \\\\\n",
       " 1 & 0  \\\\\n",
       " \\end{bmatrix}\n",
       "$$"
      ],
      "text/plain": [
       "<IPython.core.display.Latex object>"
      ]
     },
     "execution_count": 12,
     "metadata": {},
     "output_type": "execute_result"
    }
   ],
   "source": [
    "array_to_latex(Operator(qc).data)"
   ]
  },
  {
   "cell_type": "markdown",
   "id": "0dfd087a",
   "metadata": {},
   "source": [
    "# Using Operators in circuits\n",
    "\n",
    "### QuantumCircuit.append(): Unitary Operators can be directly inserted into a QuantumCircuit \n",
    "\n",
    "### append() converts the Operator into a UnitaryGate object and  added to the circuit.\n",
    "\n",
    "If the operator is not unitary throws QiskitError"
   ]
  },
  {
   "cell_type": "code",
   "execution_count": 13,
   "id": "1afd8eab",
   "metadata": {},
   "outputs": [
    {
     "data": {
      "image/png": "[encoded data removed]",
      "text/plain": [
       "<Figure size 417.879x204.68 with 1 Axes>"
      ]
     },
     "execution_count": 13,
     "metadata": {},
     "output_type": "execute_result"
    }
   ],
   "source": [
    "#Create an operator\n",
    "\n",
    "XX = Operator(Pauli(label='XX'))\n",
    "\n",
    "# Add to a circuit\n",
    "qc = QuantumCircuit(2)\n",
    "qc.append(XX, [0,1])\n",
    "qc.measure_all()\n",
    "qc.draw('mpl')"
   ]
  },
  {
   "cell_type": "code",
   "execution_count": 14,
   "id": "95e68f1b",
   "metadata": {},
   "outputs": [
    {
     "name": "stdout",
     "output_type": "stream",
     "text": [
      "{'11': 1024}\n"
     ]
    }
   ],
   "source": [
    "#Get the backend\n",
    "backend=BasicAer.get_backend('qasm_simulator')\n",
    "\n",
    "job=backend.run(qc)\n",
    "result=job.result()\n",
    "counts=result.get_counts()\n",
    "print(counts)\n"
   ]
  },
  {
   "cell_type": "markdown",
   "id": "33f64304",
   "metadata": {},
   "source": [
    "# Pauli object may also be directly inserted into the circuit itself"
   ]
  },
  {
   "cell_type": "code",
   "execution_count": 15,
   "id": "daf65018",
   "metadata": {},
   "outputs": [
    {
     "data": {
      "image/png": "[encoded data removed]",
      "text/plain": [
       "<Figure size 417.879x204.68 with 1 Axes>"
      ]
     },
     "execution_count": 15,
     "metadata": {},
     "output_type": "execute_result"
    }
   ],
   "source": [
    "# Add to a circuit\n",
    "qc = QuantumCircuit(2)\n",
    "qc.append(Pauli(label='XX'), [0,1])\n",
    "qc.measure_all()\n",
    "qc.draw('mpl')"
   ]
  },
  {
   "cell_type": "code",
   "execution_count": 17,
   "id": "65fd1355",
   "metadata": {},
   "outputs": [
    {
     "name": "stdout",
     "output_type": "stream",
     "text": [
      "{'11': 1024}\n"
     ]
    }
   ],
   "source": [
    "#Get the backend\n",
    "backend=BasicAer.get_backend('qasm_simulator')\n",
    "\n",
    "job=execute(qc,backend)\n",
    "result=job.result()\n",
    "counts=result.get_counts()\n",
    "print(counts)"
   ]
  },
  {
   "cell_type": "code",
   "execution_count": 18,
   "id": "cf7f8347",
   "metadata": {},
   "outputs": [
    {
     "data": {
      "text/latex": [
       "$$\n",
       "\n",
       "\\begin{bmatrix}\n",
       "\\tfrac{1}{\\sqrt{2}} & \\tfrac{1}{\\sqrt{2}}  \\\\\n",
       " \\tfrac{1}{\\sqrt{2}} & -\\tfrac{1}{\\sqrt{2}}  \\\\\n",
       " \\end{bmatrix}\n",
       "$$"
      ],
      "text/plain": [
       "<IPython.core.display.Latex object>"
      ]
     },
     "execution_count": 18,
     "metadata": {},
     "output_type": "execute_result"
    }
   ],
   "source": [
    "array_to_latex(Operator(HGate()).data)"
   ]
  },
  {
   "cell_type": "code",
   "execution_count": null,
   "id": "8066a8a0",
   "metadata": {},
   "outputs": [],
   "source": []
  }
 ],
 "metadata": {
  "kernelspec": {
   "display_name": "Python 3 (ipykernel)",
   "language": "python",
   "name": "python3"
  },
  "language_info": {
   "codemirror_mode": {
    "name": "ipython",
    "version": 3
   },
   "file_extension": ".py",
   "mimetype": "text/x-python",
   "name": "python",
   "nbconvert_exporter": "python",
   "pygments_lexer": "ipython3",
   "version": "3.9.12"
  }
 },
 "nbformat": 4,
 "nbformat_minor": 5
}
