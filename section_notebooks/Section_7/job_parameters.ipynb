{
 "cells": [
  {
   "cell_type": "markdown",
   "id": "95b81dc0",
   "metadata": {},
   "source": [
    "# Execution on a Real backend  with job parameters"
   ]
  },
  {
   "cell_type": "markdown",
   "id": "c3d481c6",
   "metadata": {},
   "source": [
    "REFERENCE : \"Hello world\" program in Qiskit : Bell state\n",
    "        \n",
    "    https://qiskit.org/documentation/intro_tutorial1.html"
   ]
  },
  {
   "cell_type": "code",
   "execution_count": 1,
   "id": "65c6e7c8",
   "metadata": {},
   "outputs": [],
   "source": [
    "from qiskit import QuantumRegister, ClassicalRegister, QuantumCircuit,IBMQ, execute\n",
    "from qiskit.visualization import *\n",
    "from qiskit.tools import job_monitor\n"
   ]
  },
  {
   "cell_type": "code",
   "execution_count": 2,
   "id": "99964c95",
   "metadata": {},
   "outputs": [
    {
     "data": {
      "image/png": "[encoded data removed]",
      "text/plain": [
       "<Figure size 206.852x204.68 with 1 Axes>"
      ]
     },
     "execution_count": 2,
     "metadata": {},
     "output_type": "execute_result"
    }
   ],
   "source": [
    "# Bell Quantum Circuit\n",
    "qc=QuantumCircuit(2,2)\n",
    "qc.h(0)\n",
    "qc.cx(0,1)\n",
    "qc.draw(output=\"mpl\")"
   ]
  },
  {
   "cell_type": "code",
   "execution_count": 3,
   "id": "cf2df406",
   "metadata": {},
   "outputs": [
    {
     "data": {
      "image/png": "[encoded data removed]",
      "text/plain": [
       "<Figure size 327.252x204.68 with 1 Axes>"
      ]
     },
     "execution_count": 3,
     "metadata": {},
     "output_type": "execute_result"
    }
   ],
   "source": [
    "qc.measure([0,1],[0,1])\n",
    "qc.draw(output=\"mpl\")"
   ]
  },
  {
   "cell_type": "code",
   "execution_count": 4,
   "id": "548d0773",
   "metadata": {},
   "outputs": [
    {
     "data": {
      "text/plain": [
       "[<IBMQSimulator('ibmq_qasm_simulator') from IBMQ(hub='ibm-q', group='open', project='main')>,\n",
       " <IBMQBackend('ibmq_armonk') from IBMQ(hub='ibm-q', group='open', project='main')>,\n",
       " <IBMQBackend('ibmq_santiago') from IBMQ(hub='ibm-q', group='open', project='main')>,\n",
       " <IBMQBackend('ibmq_bogota') from IBMQ(hub='ibm-q', group='open', project='main')>,\n",
       " <IBMQBackend('ibmq_lima') from IBMQ(hub='ibm-q', group='open', project='main')>,\n",
       " <IBMQBackend('ibmq_belem') from IBMQ(hub='ibm-q', group='open', project='main')>,\n",
       " <IBMQBackend('ibmq_quito') from IBMQ(hub='ibm-q', group='open', project='main')>,\n",
       " <IBMQSimulator('simulator_statevector') from IBMQ(hub='ibm-q', group='open', project='main')>,\n",
       " <IBMQSimulator('simulator_mps') from IBMQ(hub='ibm-q', group='open', project='main')>,\n",
       " <IBMQSimulator('simulator_extended_stabilizer') from IBMQ(hub='ibm-q', group='open', project='main')>,\n",
       " <IBMQSimulator('simulator_stabilizer') from IBMQ(hub='ibm-q', group='open', project='main')>,\n",
       " <IBMQBackend('ibmq_manila') from IBMQ(hub='ibm-q', group='open', project='main')>]"
      ]
     },
     "execution_count": 4,
     "metadata": {},
     "output_type": "execute_result"
    }
   ],
   "source": [
    "#IBMQ.save_account('TOKEN ID needs to be provided')\n",
    "\n",
    "#Load the  account\n",
    "provider=IBMQ.load_account() \n",
    "\n",
    "\n",
    "provider.backends()"
   ]
  },
  {
   "cell_type": "code",
   "execution_count": 5,
   "id": "ae654e91",
   "metadata": {},
   "outputs": [],
   "source": [
    "\n",
    "#Get the backend\n",
    "backend=provider.get_backend('ibmq_bogota')\n",
    "\n",
    "#Execute the circuit on the backend\n",
    "job=execute(qc,backend,shots=1024)"
   ]
  },
  {
   "cell_type": "markdown",
   "id": "f35ba939",
   "metadata": {},
   "source": [
    "### status:\n",
    "1. job status :  status of the job \n",
    "\n",
    "2. backend status : status of the backend\n",
    "https://qiskit.org/documentation/stubs/qiskit.providers.ibmq.IBMQBackend.status.html#qiskit.providers.ibmq.IBMQBackend.status"
   ]
  },
  {
   "cell_type": "code",
   "execution_count": 6,
   "id": "7251f61e",
   "metadata": {},
   "outputs": [
    {
     "data": {
      "text/plain": [
       "<JobStatus.VALIDATING: 'job is being validated'>"
      ]
     },
     "execution_count": 6,
     "metadata": {},
     "output_type": "execute_result"
    }
   ],
   "source": [
    "job.status()"
   ]
  },
  {
   "cell_type": "code",
   "execution_count": 7,
   "id": "f278ef8f",
   "metadata": {},
   "outputs": [
    {
     "data": {
      "text/html": [
       "<pre>&lt;qiskit.providers.models.backendstatus.BackendStatus object at 0x7fc38e662e10&gt;</pre><b>name</b>: ibmq_bogota<br/><b>version</b>: 1.6.17, <b>pending jobs</b>: 14<br/><b>status</b>: active<br/>"
      ],
      "text/plain": [
       "<qiskit.providers.models.backendstatus.BackendStatus at 0x7fc38e662e10>"
      ]
     },
     "execution_count": 7,
     "metadata": {},
     "output_type": "execute_result"
    }
   ],
   "source": [
    "backend.status()"
   ]
  },
  {
   "cell_type": "markdown",
   "id": "ded3e1a4",
   "metadata": {},
   "source": [
    "### job_monitor(): Monitors the status of a job\n",
    "https://qiskit.org/documentation/stubs/qiskit.tools.job_monitor.html#qiskit.tools.job_monitor"
   ]
  },
  {
   "cell_type": "code",
   "execution_count": 8,
   "id": "8ba53412",
   "metadata": {},
   "outputs": [
    {
     "name": "stdout",
     "output_type": "stream",
     "text": [
      "Job Status: job has successfully run\n"
     ]
    }
   ],
   "source": [
    "job_monitor(job)"
   ]
  },
  {
   "cell_type": "code",
   "execution_count": 9,
   "id": "8888f12e",
   "metadata": {},
   "outputs": [
    {
     "data": {
      "text/plain": [
       "<JobStatus.DONE: 'job has successfully run'>"
      ]
     },
     "execution_count": 9,
     "metadata": {},
     "output_type": "execute_result"
    }
   ],
   "source": [
    "job.status()"
   ]
  },
  {
   "cell_type": "code",
   "execution_count": 10,
   "id": "18fdf94d",
   "metadata": {},
   "outputs": [
    {
     "name": "stdout",
     "output_type": "stream",
     "text": [
      "{'00': 504, '01': 29, '10': 41, '11': 450}\n"
     ]
    }
   ],
   "source": [
    "#Obtain the result\n",
    "result=job.result()\n",
    "\n",
    "#get and print the counts\n",
    "counts=result.get_counts()\n",
    "print(counts)"
   ]
  },
  {
   "cell_type": "markdown",
   "id": "b64ffdf7",
   "metadata": {},
   "source": [
    "### Note: Real backend has noise which is provided by the states 01 and 10 with some counts"
   ]
  },
  {
   "cell_type": "code",
   "execution_count": 11,
   "id": "3c3f6c29",
   "metadata": {},
   "outputs": [
    {
     "data": {
      "image/png": "[encoded data removed]",
      "text/plain": [
       "<Figure size 504x360 with 1 Axes>"
      ]
     },
     "execution_count": 11,
     "metadata": {},
     "output_type": "execute_result"
    }
   ],
   "source": [
    "plot_histogram(counts,title=\"Bell State Counts\")"
   ]
  },
  {
   "cell_type": "markdown",
   "id": "d3fe7a04",
   "metadata": {},
   "source": [
    "# Methods associated with the job "
   ]
  },
  {
   "cell_type": "markdown",
   "id": "8a1c9e08",
   "metadata": {},
   "source": [
    "### job_id(): retrieves the job id "
   ]
  },
  {
   "cell_type": "code",
   "execution_count": 12,
   "id": "3191447c",
   "metadata": {},
   "outputs": [
    {
     "data": {
      "text/plain": [
       "'61e4deb4fde78b7accdbd0f4'"
      ]
     },
     "execution_count": 12,
     "metadata": {},
     "output_type": "execute_result"
    }
   ],
   "source": [
    "job.job_id()"
   ]
  },
  {
   "cell_type": "markdown",
   "id": "408c1178",
   "metadata": {},
   "source": [
    "### backend(): retrieves the information of the backend on which job was run"
   ]
  },
  {
   "cell_type": "code",
   "execution_count": 13,
   "id": "24eb87c3",
   "metadata": {},
   "outputs": [
    {
     "data": {
      "text/plain": [
       "<IBMQBackend('ibmq_bogota') from IBMQ(hub='ibm-q', group='open', project='main')>"
      ]
     },
     "execution_count": 13,
     "metadata": {},
     "output_type": "execute_result"
    }
   ],
   "source": [
    "job.backend()"
   ]
  },
  {
   "cell_type": "markdown",
   "id": "3663cb51",
   "metadata": {},
   "source": [
    "### result() :provides information of the result from the circuit run"
   ]
  },
  {
   "cell_type": "code",
   "execution_count": 14,
   "id": "2c603cf8",
   "metadata": {},
   "outputs": [
    {
     "data": {
      "text/plain": [
       "Result(backend_name='ibmq_bogota', backend_version='1.6.17', qobj_id='438a85ea-29a9-4afc-b054-036bf2b2597d', job_id='61e4deb4fde78b7accdbd0f4', success=True, results=[ExperimentResult(shots=1024, success=True, meas_level=2, data=ExperimentResultData(counts={'0x0': 504, '0x1': 29, '0x2': 41, '0x3': 450}), header=QobjExperimentHeader(clbit_labels=[['c', 0], ['c', 1]], creg_sizes=[['c', 2]], global_phase=0.7853981633974483, memory_slots=2, metadata={}, n_qubits=5, name='circuit-0', qreg_sizes=[['q', 5]], qubit_labels=[['q', 0], ['q', 1], ['q', 2], ['q', 3], ['q', 4]]))], date=2022-01-17 11:15:16+08:00, status=Successful completion, status=QobjHeader(backend_name='ibmq_bogota', backend_version='1.6.17'), execution_id='ada03fb0-7743-11ec-a709-b02628eaa3aa', time_taken=6.590203285217285, error=None, client_version={'qiskit': '0.31.0'})"
      ]
     },
     "execution_count": 14,
     "metadata": {},
     "output_type": "execute_result"
    }
   ],
   "source": [
    "job.result()"
   ]
  },
  {
   "cell_type": "markdown",
   "id": "91dee79d",
   "metadata": {},
   "source": [
    "### cancle(): cancels the job\n",
    "EX: job.cancel()"
   ]
  },
  {
   "cell_type": "markdown",
   "id": "61c3f099",
   "metadata": {},
   "source": [
    "### status(): gives the status of the job"
   ]
  },
  {
   "cell_type": "code",
   "execution_count": 15,
   "id": "9c4a0d1c",
   "metadata": {},
   "outputs": [
    {
     "data": {
      "text/plain": [
       "<JobStatus.DONE: 'job has successfully run'>"
      ]
     },
     "execution_count": 15,
     "metadata": {},
     "output_type": "execute_result"
    }
   ],
   "source": [
    "job.status()"
   ]
  },
  {
   "cell_type": "markdown",
   "id": "89d48dea",
   "metadata": {},
   "source": [
    "# Backend "
   ]
  },
  {
   "cell_type": "markdown",
   "id": "63d19a01",
   "metadata": {},
   "source": [
    "## 1. Retrieve the job using the jb ID : retrieve_job(jobID)"
   ]
  },
  {
   "cell_type": "code",
   "execution_count": 17,
   "id": "35bd183e",
   "metadata": {},
   "outputs": [],
   "source": [
    "jobID=job.job_id()\n",
    "job_get=backend.retrieve_job(jobID)"
   ]
  },
  {
   "cell_type": "code",
   "execution_count": 18,
   "id": "51aa975b",
   "metadata": {},
   "outputs": [
    {
     "data": {
      "text/plain": [
       "<qiskit.providers.ibmq.job.ibmqjob.IBMQJob at 0x7fc391de9cd0>"
      ]
     },
     "execution_count": 18,
     "metadata": {},
     "output_type": "execute_result"
    }
   ],
   "source": [
    "job_get"
   ]
  },
  {
   "cell_type": "code",
   "execution_count": 19,
   "id": "d9a77e50",
   "metadata": {},
   "outputs": [
    {
     "data": {
      "text/plain": [
       "{'00': 504, '01': 29, '10': 41, '11': 450}"
      ]
     },
     "execution_count": 19,
     "metadata": {},
     "output_type": "execute_result"
    }
   ],
   "source": [
    "job_get.result().get_counts(qc)\n",
    "\n"
   ]
  },
  {
   "cell_type": "code",
   "execution_count": 20,
   "id": "f8a2fabe",
   "metadata": {},
   "outputs": [
    {
     "data": {
      "text/plain": [
       "{'00': 504, '01': 29, '10': 41, '11': 450}"
      ]
     },
     "execution_count": 20,
     "metadata": {},
     "output_type": "execute_result"
    }
   ],
   "source": [
    "counts"
   ]
  },
  {
   "cell_type": "markdown",
   "id": "acd6a647",
   "metadata": {},
   "source": [
    "## 2. List of previously submitted jobs : jobs()"
   ]
  },
  {
   "cell_type": "code",
   "execution_count": 21,
   "id": "2c744d99",
   "metadata": {},
   "outputs": [
    {
     "data": {
      "text/plain": [
       "[<qiskit.providers.ibmq.job.ibmqjob.IBMQJob at 0x7fc38f89bcd0>,\n",
       " <qiskit.providers.ibmq.job.ibmqjob.IBMQJob at 0x7fc393638b10>,\n",
       " <qiskit.providers.ibmq.job.ibmqjob.IBMQJob at 0x7fc3938a5690>,\n",
       " <qiskit.providers.ibmq.job.ibmqjob.IBMQJob at 0x7fc3938a5810>,\n",
       " <qiskit.providers.ibmq.job.ibmqjob.IBMQJob at 0x7fc3938a5950>,\n",
       " <qiskit.providers.ibmq.job.ibmqjob.IBMQJob at 0x7fc3938a5a50>,\n",
       " <qiskit.providers.ibmq.job.ibmqjob.IBMQJob at 0x7fc3938a5c10>,\n",
       " <qiskit.providers.ibmq.job.ibmqjob.IBMQJob at 0x7fc3938a5d50>,\n",
       " <qiskit.providers.ibmq.job.ibmqjob.IBMQJob at 0x7fc3938a5e90>,\n",
       " <qiskit.providers.ibmq.job.ibmqjob.IBMQJob at 0x7fc3938a5e50>]"
      ]
     },
     "execution_count": 21,
     "metadata": {},
     "output_type": "execute_result"
    }
   ],
   "source": [
    "backend.jobs()"
   ]
  },
  {
   "cell_type": "code",
   "execution_count": 22,
   "id": "2f4c56d1",
   "metadata": {},
   "outputs": [],
   "source": [
    "## 3. List of unfinished jobs of the backend: active_jobs()"
   ]
  },
  {
   "cell_type": "code",
   "execution_count": 23,
   "id": "e5f76114",
   "metadata": {},
   "outputs": [
    {
     "data": {
      "text/plain": [
       "[]"
      ]
     },
     "execution_count": 23,
     "metadata": {},
     "output_type": "execute_result"
    }
   ],
   "source": [
    "backend.active_jobs()"
   ]
  },
  {
   "cell_type": "code",
   "execution_count": 24,
   "id": "950b343d",
   "metadata": {},
   "outputs": [],
   "source": [
    "## 4. No of jobs which can be submitted to the backend : remaining_jobs_count()"
   ]
  },
  {
   "cell_type": "code",
   "execution_count": 25,
   "id": "bff73246",
   "metadata": {},
   "outputs": [
    {
     "data": {
      "text/plain": [
       "5"
      ]
     },
     "execution_count": 25,
     "metadata": {},
     "output_type": "execute_result"
    }
   ],
   "source": [
    "backend.remaining_jobs_count()"
   ]
  },
  {
   "cell_type": "markdown",
   "id": "dbeaf314",
   "metadata": {},
   "source": [
    "## additional\n",
    "## status of the backend : status"
   ]
  },
  {
   "cell_type": "code",
   "execution_count": 26,
   "id": "5b78901f",
   "metadata": {},
   "outputs": [
    {
     "data": {
      "text/html": [
       "<pre>&lt;qiskit.providers.models.backendstatus.BackendStatus object at 0x7fc3938a1310&gt;</pre><b>name</b>: ibmq_bogota<br/><b>version</b>: 1.6.17, <b>pending jobs</b>: 16<br/><b>status</b>: active<br/>"
      ],
      "text/plain": [
       "<qiskit.providers.models.backendstatus.BackendStatus at 0x7fc3938a1310>"
      ]
     },
     "execution_count": 26,
     "metadata": {},
     "output_type": "execute_result"
    }
   ],
   "source": [
    "backend.status()"
   ]
  },
  {
   "cell_type": "markdown",
   "id": "9d66a833",
   "metadata": {},
   "source": [
    "## name of the backend : name()"
   ]
  },
  {
   "cell_type": "code",
   "execution_count": 27,
   "id": "5be1edc2",
   "metadata": {},
   "outputs": [
    {
     "data": {
      "text/plain": [
       "'ibmq_bogota'"
      ]
     },
     "execution_count": 27,
     "metadata": {},
     "output_type": "execute_result"
    }
   ],
   "source": [
    "backend.name()"
   ]
  },
  {
   "cell_type": "markdown",
   "id": "267eff63",
   "metadata": {},
   "source": [
    "## provider for the backend: provider()"
   ]
  },
  {
   "cell_type": "code",
   "execution_count": 28,
   "id": "44c7d973",
   "metadata": {},
   "outputs": [
    {
     "data": {
      "text/plain": [
       "<AccountProvider for IBMQ(hub='ibm-q', group='open', project='main')>"
      ]
     },
     "execution_count": 28,
     "metadata": {},
     "output_type": "execute_result"
    }
   ],
   "source": [
    "backend.provider()"
   ]
  },
  {
   "cell_type": "code",
   "execution_count": null,
   "id": "f380b9d7",
   "metadata": {},
   "outputs": [],
   "source": []
  }
 ],
 "metadata": {
  "kernelspec": {
   "display_name": "Python 3",
   "language": "python",
   "name": "python3"
  },
  "language_info": {
   "codemirror_mode": {
    "name": "ipython",
    "version": 3
   },
   "file_extension": ".py",
   "mimetype": "text/x-python",
   "name": "python",
   "nbconvert_exporter": "python",
   "pygments_lexer": "ipython3",
   "version": "3.7.9"
  }
 },
 "nbformat": 4,
 "nbformat_minor": 5
}
