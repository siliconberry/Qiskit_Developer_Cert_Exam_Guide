{
 "cells": [
  {
   "cell_type": "markdown",
   "id": "7ce76de1",
   "metadata": {},
   "source": [
    "# IBMQ backends"
   ]
  },
  {
   "cell_type": "markdown",
   "id": "f8a9c342",
   "metadata": {},
   "source": [
    "REFERENCES:\n",
    "    \n",
    "1. Access IBM Quantum systems using IBM Quantum Account\n",
    "\n",
    "https://quantum-computing.ibm.com/lab/docs/iql/manage/account/ibmq\n",
    "\n",
    "2. IBMQ Backend\n",
    "\n",
    "https://qiskit.org/documentation/stubs/qiskit.providers.ibmq.IBMQBackend.html\n",
    "    \n",
    "3. Youtube 1-minute video\n",
    "\n",
    "https://www.youtube.com/watch?v=ozy0b7eE-lo\n",
    "      \n",
    "\n",
    "4. \n",
    "https://medium.com/qiskit/qiskit-backends-what-they-are-and-how-to-work-with-them-fb66b3bd0463\n"
   ]
  },
  {
   "cell_type": "markdown",
   "id": "8ff77bce",
   "metadata": {},
   "source": [
    "### Main components for the IBMQ backend\n",
    "1. account\n",
    "2. provider\n",
    "3. backend\n",
    "4. job"
   ]
  },
  {
   "cell_type": "markdown",
   "id": "01fc5488",
   "metadata": {},
   "source": [
    "### Qiskit IBMQ :\n",
    "    - account object  \n",
    "    - local reference \n",
    "    - Access to your IBM Quantum account,\n",
    "    - Also access to all of the providers, backends\n",
    "    - Available to the user"
   ]
  },
  {
   "cell_type": "code",
   "execution_count": 1,
   "id": "07e37707",
   "metadata": {},
   "outputs": [],
   "source": [
    "from qiskit import IBMQ\n",
    "from qiskit.providers.ibmq import least_busy\n"
   ]
  },
  {
   "cell_type": "code",
   "execution_count": 2,
   "id": "4f780bcb",
   "metadata": {},
   "outputs": [
    {
     "data": {
      "text/plain": [
       "[<AccountProvider for IBMQ(hub='ibm-q', group='open', project='main')>]"
      ]
     },
     "execution_count": 2,
     "metadata": {},
     "output_type": "execute_result"
    }
   ],
   "source": [
    "\n",
    "#IBMQ.save_account('TOKEN ID needs to be provided')\n",
    "\n",
    "#Load the  account\n",
    "IBMQ.load_account() \n",
    "\n",
    "# Providers available\n",
    "IBMQ.providers()    "
   ]
  },
  {
   "cell_type": "markdown",
   "id": "c1d729b7",
   "metadata": {},
   "source": [
    "## 2 ways to display the available backends to your account\n",
    "\n",
    "1. backends()\n",
    "2. get_provider()\n",
    "\n",
    "Reference:\n",
    "https://qiskit.org/documentation/stubs/qiskit.providers.ibmq.AccountProvider.html#qiskit.providers.ibmq.AccountProvider\n",
    "\n"
   ]
  },
  {
   "cell_type": "code",
   "execution_count": 3,
   "id": "a87142c4",
   "metadata": {},
   "outputs": [
    {
     "name": "stderr",
     "output_type": "stream",
     "text": [
      "ibmqfactory.load_account:WARNING:2022-01-21 02:43:40,992: Credentials are already in use. The existing account in the session will be replaced.\n"
     ]
    }
   ],
   "source": [
    "ibmq_account = IBMQ.load_account()"
   ]
  },
  {
   "cell_type": "markdown",
   "id": "9ccd836e",
   "metadata": {},
   "source": [
    "***\n",
    "## backends() method:\n",
    "***"
   ]
  },
  {
   "cell_type": "code",
   "execution_count": 4,
   "id": "d382be79",
   "metadata": {},
   "outputs": [],
   "source": [
    "backends = ibmq_account.backends()"
   ]
  },
  {
   "cell_type": "markdown",
   "id": "e9e9d848",
   "metadata": {},
   "source": [
    "## Available backends to your account"
   ]
  },
  {
   "cell_type": "code",
   "execution_count": 5,
   "id": "2b7e26c0",
   "metadata": {},
   "outputs": [
    {
     "data": {
      "text/plain": [
       "[<IBMQSimulator('ibmq_qasm_simulator') from IBMQ(hub='ibm-q', group='open', project='main')>,\n",
       " <IBMQBackend('ibmq_armonk') from IBMQ(hub='ibm-q', group='open', project='main')>,\n",
       " <IBMQBackend('ibmq_santiago') from IBMQ(hub='ibm-q', group='open', project='main')>,\n",
       " <IBMQBackend('ibmq_bogota') from IBMQ(hub='ibm-q', group='open', project='main')>,\n",
       " <IBMQBackend('ibmq_lima') from IBMQ(hub='ibm-q', group='open', project='main')>,\n",
       " <IBMQBackend('ibmq_belem') from IBMQ(hub='ibm-q', group='open', project='main')>,\n",
       " <IBMQBackend('ibmq_quito') from IBMQ(hub='ibm-q', group='open', project='main')>,\n",
       " <IBMQSimulator('simulator_statevector') from IBMQ(hub='ibm-q', group='open', project='main')>,\n",
       " <IBMQSimulator('simulator_mps') from IBMQ(hub='ibm-q', group='open', project='main')>,\n",
       " <IBMQSimulator('simulator_extended_stabilizer') from IBMQ(hub='ibm-q', group='open', project='main')>,\n",
       " <IBMQSimulator('simulator_stabilizer') from IBMQ(hub='ibm-q', group='open', project='main')>,\n",
       " <IBMQBackend('ibmq_manila') from IBMQ(hub='ibm-q', group='open', project='main')>]"
      ]
     },
     "execution_count": 5,
     "metadata": {},
     "output_type": "execute_result"
    }
   ],
   "source": [
    "backends"
   ]
  },
  {
   "cell_type": "markdown",
   "id": "e1971585",
   "metadata": {},
   "source": [
    "***\n",
    "## To access a particular backend:\n",
    "***"
   ]
  },
  {
   "cell_type": "markdown",
   "id": "17e0e414",
   "metadata": {},
   "source": [
    "## get_backends() method: \n",
    "\n",
    "To access a particular backend"
   ]
  },
  {
   "cell_type": "code",
   "execution_count": 6,
   "id": "6d866265",
   "metadata": {},
   "outputs": [],
   "source": [
    "backend = ibmq_account.get_backend('ibmq_qasm_simulator')"
   ]
  },
  {
   "cell_type": "code",
   "execution_count": 7,
   "id": "3f812c54",
   "metadata": {},
   "outputs": [
    {
     "data": {
      "text/plain": [
       "<IBMQSimulator('ibmq_qasm_simulator') from IBMQ(hub='ibm-q', group='open', project='main')>"
      ]
     },
     "execution_count": 7,
     "metadata": {},
     "output_type": "execute_result"
    }
   ],
   "source": [
    "backend"
   ]
  },
  {
   "cell_type": "code",
   "execution_count": 8,
   "id": "deb54305",
   "metadata": {},
   "outputs": [
    {
     "data": {
      "text/plain": [
       "'ibmq_qasm_simulator'"
      ]
     },
     "execution_count": 8,
     "metadata": {},
     "output_type": "execute_result"
    }
   ],
   "source": [
    "backend.name()"
   ]
  },
  {
   "cell_type": "markdown",
   "id": "36b49af5",
   "metadata": {},
   "source": [
    "## Another example"
   ]
  },
  {
   "cell_type": "code",
   "execution_count": 9,
   "id": "e20a1bb3",
   "metadata": {},
   "outputs": [],
   "source": [
    "backend=ibmq_account.backend.ibmq_qasm_simulator"
   ]
  },
  {
   "cell_type": "code",
   "execution_count": 10,
   "id": "98a0c61a",
   "metadata": {},
   "outputs": [
    {
     "data": {
      "text/plain": [
       "<IBMQSimulator('ibmq_qasm_simulator') from IBMQ(hub='ibm-q', group='open', project='main')>"
      ]
     },
     "execution_count": 10,
     "metadata": {},
     "output_type": "execute_result"
    }
   ],
   "source": [
    "backend"
   ]
  },
  {
   "cell_type": "code",
   "execution_count": 11,
   "id": "67493471",
   "metadata": {},
   "outputs": [
    {
     "data": {
      "text/plain": [
       "'ibmq_qasm_simulator'"
      ]
     },
     "execution_count": 11,
     "metadata": {},
     "output_type": "execute_result"
    }
   ],
   "source": [
    "backend.name()"
   ]
  },
  {
   "cell_type": "markdown",
   "id": "0e7e4223",
   "metadata": {},
   "source": [
    "***\n",
    "# get_provider() method\n",
    "***\n",
    "\n",
    "- Also provides to list the available backends if the hub is known"
   ]
  },
  {
   "cell_type": "code",
   "execution_count": 12,
   "id": "ffe913c3",
   "metadata": {},
   "outputs": [
    {
     "data": {
      "text/plain": [
       "[<IBMQSimulator('ibmq_qasm_simulator') from IBMQ(hub='ibm-q', group='open', project='main')>,\n",
       " <IBMQBackend('ibmq_armonk') from IBMQ(hub='ibm-q', group='open', project='main')>,\n",
       " <IBMQBackend('ibmq_santiago') from IBMQ(hub='ibm-q', group='open', project='main')>,\n",
       " <IBMQBackend('ibmq_bogota') from IBMQ(hub='ibm-q', group='open', project='main')>,\n",
       " <IBMQBackend('ibmq_lima') from IBMQ(hub='ibm-q', group='open', project='main')>,\n",
       " <IBMQBackend('ibmq_belem') from IBMQ(hub='ibm-q', group='open', project='main')>,\n",
       " <IBMQBackend('ibmq_quito') from IBMQ(hub='ibm-q', group='open', project='main')>,\n",
       " <IBMQSimulator('simulator_statevector') from IBMQ(hub='ibm-q', group='open', project='main')>,\n",
       " <IBMQSimulator('simulator_mps') from IBMQ(hub='ibm-q', group='open', project='main')>,\n",
       " <IBMQSimulator('simulator_extended_stabilizer') from IBMQ(hub='ibm-q', group='open', project='main')>,\n",
       " <IBMQSimulator('simulator_stabilizer') from IBMQ(hub='ibm-q', group='open', project='main')>,\n",
       " <IBMQBackend('ibmq_manila') from IBMQ(hub='ibm-q', group='open', project='main')>]"
      ]
     },
     "execution_count": 12,
     "metadata": {},
     "output_type": "execute_result"
    }
   ],
   "source": [
    "ibmq_provider = IBMQ.get_provider(hub='ibm-q')\n",
    "\n",
    "ibmq_provider.backends()"
   ]
  },
  {
   "cell_type": "markdown",
   "id": "8e621690",
   "metadata": {},
   "source": [
    "---"
   ]
  },
  {
   "cell_type": "markdown",
   "id": "5485fc6a",
   "metadata": {},
   "source": [
    "# Filter the backend with various options"
   ]
  },
  {
   "cell_type": "markdown",
   "id": "54915ef4",
   "metadata": {},
   "source": [
    "***\n",
    "### To access the backend with > 5 qubits\n",
    "***\n",
    "\n",
    "https://qiskit.org/documentation/stubs/qiskit.providers.ibmq.AccountProvider.backends.html#qiskit.providers.ibmq.AccountProvider.backends"
   ]
  },
  {
   "cell_type": "code",
   "execution_count": 13,
   "id": "b735a664",
   "metadata": {},
   "outputs": [
    {
     "data": {
      "text/plain": [
       "[<IBMQSimulator('ibmq_qasm_simulator') from IBMQ(hub='ibm-q', group='open', project='main')>,\n",
       " <IBMQSimulator('simulator_statevector') from IBMQ(hub='ibm-q', group='open', project='main')>,\n",
       " <IBMQSimulator('simulator_mps') from IBMQ(hub='ibm-q', group='open', project='main')>,\n",
       " <IBMQSimulator('simulator_extended_stabilizer') from IBMQ(hub='ibm-q', group='open', project='main')>,\n",
       " <IBMQSimulator('simulator_stabilizer') from IBMQ(hub='ibm-q', group='open', project='main')>]"
      ]
     },
     "execution_count": 13,
     "metadata": {},
     "output_type": "execute_result"
    }
   ],
   "source": [
    "ibmq_provider.backends(filters=lambda b: b.configuration().n_qubits > 5)"
   ]
  },
  {
   "cell_type": "markdown",
   "id": "28109017",
   "metadata": {},
   "source": [
    "***\n",
    "### To access the backend with  5 qubits and operational\n",
    "***\n",
    "\n",
    "https://qiskit.org/documentation/stubs/qiskit.providers.ibmq.AccountProvider.backends.html#qiskit.providers.ibmq.AccountProvider.backends"
   ]
  },
  {
   "cell_type": "code",
   "execution_count": 14,
   "id": "27b8b0d5",
   "metadata": {},
   "outputs": [
    {
     "data": {
      "text/plain": [
       "[<IBMQBackend('ibmq_bogota') from IBMQ(hub='ibm-q', group='open', project='main')>,\n",
       " <IBMQBackend('ibmq_lima') from IBMQ(hub='ibm-q', group='open', project='main')>,\n",
       " <IBMQBackend('ibmq_belem') from IBMQ(hub='ibm-q', group='open', project='main')>,\n",
       " <IBMQBackend('ibmq_quito') from IBMQ(hub='ibm-q', group='open', project='main')>,\n",
       " <IBMQBackend('ibmq_manila') from IBMQ(hub='ibm-q', group='open', project='main')>]"
      ]
     },
     "execution_count": 14,
     "metadata": {},
     "output_type": "execute_result"
    }
   ],
   "source": [
    "ibmq_provider.backends(n_qubits=5, operational=True)"
   ]
  },
  {
   "cell_type": "markdown",
   "id": "4abb258c",
   "metadata": {},
   "source": [
    "***\n",
    "### To access the backend : operational and real devices\n",
    "***\n",
    "\n",
    "\n",
    "https://quantum-computing.ibm.com/lab/docs/iql/manage/account/ibmq"
   ]
  },
  {
   "cell_type": "code",
   "execution_count": 15,
   "id": "b26034f4",
   "metadata": {},
   "outputs": [
    {
     "data": {
      "text/plain": [
       "[<IBMQBackend('ibmq_armonk') from IBMQ(hub='ibm-q', group='open', project='main')>,\n",
       " <IBMQBackend('ibmq_bogota') from IBMQ(hub='ibm-q', group='open', project='main')>,\n",
       " <IBMQBackend('ibmq_lima') from IBMQ(hub='ibm-q', group='open', project='main')>,\n",
       " <IBMQBackend('ibmq_belem') from IBMQ(hub='ibm-q', group='open', project='main')>,\n",
       " <IBMQBackend('ibmq_quito') from IBMQ(hub='ibm-q', group='open', project='main')>,\n",
       " <IBMQBackend('ibmq_manila') from IBMQ(hub='ibm-q', group='open', project='main')>]"
      ]
     },
     "execution_count": 15,
     "metadata": {},
     "output_type": "execute_result"
    }
   ],
   "source": [
    "ibmq_provider.backends(simulator=False, operational=True)"
   ]
  },
  {
   "cell_type": "markdown",
   "id": "e80a52aa",
   "metadata": {},
   "source": [
    "***\n",
    "### To access the backend : simulators\n",
    "***"
   ]
  },
  {
   "cell_type": "code",
   "execution_count": 16,
   "id": "05f2bd71",
   "metadata": {},
   "outputs": [
    {
     "data": {
      "text/plain": [
       "[<IBMQSimulator('ibmq_qasm_simulator') from IBMQ(hub='ibm-q', group='open', project='main')>,\n",
       " <IBMQSimulator('simulator_statevector') from IBMQ(hub='ibm-q', group='open', project='main')>,\n",
       " <IBMQSimulator('simulator_mps') from IBMQ(hub='ibm-q', group='open', project='main')>,\n",
       " <IBMQSimulator('simulator_extended_stabilizer') from IBMQ(hub='ibm-q', group='open', project='main')>,\n",
       " <IBMQSimulator('simulator_stabilizer') from IBMQ(hub='ibm-q', group='open', project='main')>]"
      ]
     },
     "execution_count": 16,
     "metadata": {},
     "output_type": "execute_result"
    }
   ],
   "source": [
    "ibmq_provider.backends(simulator=True)"
   ]
  },
  {
   "cell_type": "markdown",
   "id": "203de3db",
   "metadata": {},
   "source": [
    "***\n",
    "### To access least busy backend\n",
    "***\n",
    "https://qiskit.org/documentation/apidoc/ibmq_provider.html"
   ]
  },
  {
   "cell_type": "code",
   "execution_count": 17,
   "id": "46124ae4",
   "metadata": {},
   "outputs": [
    {
     "data": {
      "text/plain": [
       "<IBMQSimulator('ibmq_qasm_simulator') from IBMQ(hub='ibm-q', group='open', project='main')>"
      ]
     },
     "execution_count": 17,
     "metadata": {},
     "output_type": "execute_result"
    }
   ],
   "source": [
    "least_busy(ibmq_provider.backends())"
   ]
  },
  {
   "cell_type": "markdown",
   "id": "7be12b0f",
   "metadata": {},
   "source": [
    "*** \n",
    "# Information of the backend\n",
    "***\n",
    "\n",
    "https://qiskit.org/documentation/stubs/qiskit.providers.ibmq.IBMQBackend.html#qiskit.providers.ibmq.IBMQBackend\n",
    "\n",
    "\n",
    "IN IBMQBackend:\n",
    "\n",
    "- execute - transpiles the circuit\n",
    "\n",
    "- run- doesn't transpile the circuit\n"
   ]
  },
  {
   "cell_type": "markdown",
   "id": "1a0a4aaa",
   "metadata": {},
   "source": [
    "### Example 1"
   ]
  },
  {
   "cell_type": "code",
   "execution_count": 18,
   "id": "6684d139",
   "metadata": {},
   "outputs": [],
   "source": [
    "backend=least_busy(ibmq_provider.backends())\n"
   ]
  },
  {
   "cell_type": "code",
   "execution_count": 19,
   "id": "19fe1a0e",
   "metadata": {},
   "outputs": [
    {
     "data": {
      "text/plain": [
       "'ibmq_qasm_simulator'"
      ]
     },
     "execution_count": 19,
     "metadata": {},
     "output_type": "execute_result"
    }
   ],
   "source": [
    "backend.name()"
   ]
  },
  {
   "cell_type": "code",
   "execution_count": 20,
   "id": "739ad517",
   "metadata": {},
   "outputs": [
    {
     "data": {
      "text/plain": [
       "<AccountProvider for IBMQ(hub='ibm-q', group='open', project='main')>"
      ]
     },
     "execution_count": 20,
     "metadata": {},
     "output_type": "execute_result"
    }
   ],
   "source": [
    "backend.provider()"
   ]
  },
  {
   "cell_type": "code",
   "execution_count": 21,
   "id": "b7cdabe7",
   "metadata": {},
   "outputs": [
    {
     "data": {
      "text/plain": [
       "<qiskit.providers.models.backendconfiguration.QasmBackendConfiguration at 0x7f81e0261310>"
      ]
     },
     "execution_count": 21,
     "metadata": {},
     "output_type": "execute_result"
    }
   ],
   "source": [
    "backend.configuration()"
   ]
  },
  {
   "cell_type": "code",
   "execution_count": 22,
   "id": "6f7014d3",
   "metadata": {},
   "outputs": [
    {
     "data": {
      "text/html": [
       "<pre>&lt;qiskit.providers.models.backendstatus.BackendStatus object at 0x7f81e0098290&gt;</pre><b>name</b>: ibmq_qasm_simulator<br/><b>version</b>: 0.1.547, <b>pending jobs</b>: 8<br/><b>status</b>: active<br/>"
      ],
      "text/plain": [
       "<qiskit.providers.models.backendstatus.BackendStatus at 0x7f81e0098290>"
      ]
     },
     "execution_count": 22,
     "metadata": {},
     "output_type": "execute_result"
    }
   ],
   "source": [
    "backend.status()"
   ]
  },
  {
   "cell_type": "code",
   "execution_count": 23,
   "id": "5d30c412",
   "metadata": {},
   "outputs": [],
   "source": [
    "backend.properties()"
   ]
  },
  {
   "cell_type": "markdown",
   "id": "bb82ea6d",
   "metadata": {},
   "source": [
    "### Example 2"
   ]
  },
  {
   "cell_type": "code",
   "execution_count": 24,
   "id": "c0ed844a",
   "metadata": {},
   "outputs": [],
   "source": [
    "backend=ibmq_account.backend.ibmq_qasm_simulator"
   ]
  },
  {
   "cell_type": "code",
   "execution_count": 25,
   "id": "51ae64c5",
   "metadata": {},
   "outputs": [
    {
     "data": {
      "text/plain": [
       "'ibmq_qasm_simulator'"
      ]
     },
     "execution_count": 25,
     "metadata": {},
     "output_type": "execute_result"
    }
   ],
   "source": [
    "backend.name()"
   ]
  },
  {
   "cell_type": "code",
   "execution_count": 26,
   "id": "8f9e1068",
   "metadata": {},
   "outputs": [
    {
     "data": {
      "text/plain": [
       "<AccountProvider for IBMQ(hub='ibm-q', group='open', project='main')>"
      ]
     },
     "execution_count": 26,
     "metadata": {},
     "output_type": "execute_result"
    }
   ],
   "source": [
    "backend.provider()"
   ]
  },
  {
   "cell_type": "code",
   "execution_count": 27,
   "id": "de8669d4",
   "metadata": {},
   "outputs": [
    {
     "data": {
      "text/plain": [
       "<qiskit.providers.models.backendconfiguration.QasmBackendConfiguration at 0x7f81e0261310>"
      ]
     },
     "execution_count": 27,
     "metadata": {},
     "output_type": "execute_result"
    }
   ],
   "source": [
    "backend.configuration()"
   ]
  },
  {
   "cell_type": "code",
   "execution_count": 28,
   "id": "86cb62a4",
   "metadata": {},
   "outputs": [
    {
     "data": {
      "text/html": [
       "<pre>&lt;qiskit.providers.models.backendstatus.BackendStatus object at 0x7f81e00b0fd0&gt;</pre><b>name</b>: ibmq_qasm_simulator<br/><b>version</b>: 0.1.547, <b>pending jobs</b>: 8<br/><b>status</b>: active<br/>"
      ],
      "text/plain": [
       "<qiskit.providers.models.backendstatus.BackendStatus at 0x7f81e00b0fd0>"
      ]
     },
     "execution_count": 28,
     "metadata": {},
     "output_type": "execute_result"
    }
   ],
   "source": [
    "backend.status()"
   ]
  },
  {
   "cell_type": "code",
   "execution_count": 29,
   "id": "2bc82909",
   "metadata": {},
   "outputs": [],
   "source": [
    "backend.properties()"
   ]
  },
  {
   "cell_type": "code",
   "execution_count": 34,
   "id": "df14bc57",
   "metadata": {},
   "outputs": [],
   "source": [
    "backend=ibmq_account.backend.ibmq_bogota"
   ]
  },
  {
   "cell_type": "code",
   "execution_count": 35,
   "id": "e5ac249b",
   "metadata": {},
   "outputs": [
    {
     "data": {
      "text/plain": [
       "[<qiskit.providers.ibmq.job.ibmqjob.IBMQJob at 0x7f81e0075390>,\n",
       " <qiskit.providers.ibmq.job.ibmqjob.IBMQJob at 0x7f81e0315d90>,\n",
       " <qiskit.providers.ibmq.job.ibmqjob.IBMQJob at 0x7f81e0313b50>,\n",
       " <qiskit.providers.ibmq.job.ibmqjob.IBMQJob at 0x7f81e0313cd0>,\n",
       " <qiskit.providers.ibmq.job.ibmqjob.IBMQJob at 0x7f81e0313e10>,\n",
       " <qiskit.providers.ibmq.job.ibmqjob.IBMQJob at 0x7f81e0313050>,\n",
       " <qiskit.providers.ibmq.job.ibmqjob.IBMQJob at 0x7f81e0313250>,\n",
       " <qiskit.providers.ibmq.job.ibmqjob.IBMQJob at 0x7f81e0313410>,\n",
       " <qiskit.providers.ibmq.job.ibmqjob.IBMQJob at 0x7f81e0313fd0>,\n",
       " <qiskit.providers.ibmq.job.ibmqjob.IBMQJob at 0x7f81e0313dd0>]"
      ]
     },
     "execution_count": 35,
     "metadata": {},
     "output_type": "execute_result"
    }
   ],
   "source": [
    "backend.jobs()"
   ]
  },
  {
   "cell_type": "code",
   "execution_count": 38,
   "id": "017e737d",
   "metadata": {},
   "outputs": [
    {
     "data": {
      "text/plain": [
       "<qiskit.providers.ibmq.job.ibmqjob.IBMQJob at 0x7f81e0307150>"
      ]
     },
     "execution_count": 38,
     "metadata": {},
     "output_type": "execute_result"
    }
   ],
   "source": [
    "backend.jobs()[0]"
   ]
  },
  {
   "cell_type": "code",
   "execution_count": null,
   "id": "2f0311fb",
   "metadata": {},
   "outputs": [],
   "source": []
  }
 ],
 "metadata": {
  "kernelspec": {
   "display_name": "Python 3 (ipykernel)",
   "language": "python",
   "name": "python3"
  },
  "language_info": {
   "codemirror_mode": {
    "name": "ipython",
    "version": 3
   },
   "file_extension": ".py",
   "mimetype": "text/x-python",
   "name": "python",
   "nbconvert_exporter": "python",
   "pygments_lexer": "ipython3",
   "version": "3.9.12"
  }
 },
 "nbformat": 4,
 "nbformat_minor": 5
}
