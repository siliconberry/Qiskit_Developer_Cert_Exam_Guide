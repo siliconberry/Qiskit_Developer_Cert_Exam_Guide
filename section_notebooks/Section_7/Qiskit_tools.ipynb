{
 "cells": [
  {
   "cell_type": "markdown",
   "id": "073e8e89",
   "metadata": {},
   "source": [
    "# 1. <a href=\"./IBMQBackend_info.ipynb\">IBMQ Backends Information </a>\n",
    "# 2. Qiskit Tools\n",
    "# 3. <a href=\"./job_parameters.ipynb\">Example: Real Device Execution with job parameters </a>"
   ]
  },
  {
   "cell_type": "markdown",
   "id": "61955c09",
   "metadata": {},
   "source": [
    "# Qiskit Tools\n",
    "\n",
    "REFERENCE:\n",
    "- https://qiskit.org/documentation/apidoc/tools.html\n"
   ]
  },
  {
   "cell_type": "markdown",
   "id": "1fa4a9ab",
   "metadata": {},
   "source": [
    "## Monitoring tools:\n",
    "\n",
    "1. <a href=\"./job_parameters.ipynb\">job_monitor</a>\n",
    "2. backend_monitor()\n",
    "3. backend_overview()"
   ]
  },
  {
   "cell_type": "code",
   "execution_count": 1,
   "id": "17963132",
   "metadata": {},
   "outputs": [],
   "source": [
    "# From IBMQ backends information we know\n",
    "from qiskit import IBMQ\n",
    "from qiskit.providers.ibmq import least_busy\n",
    "from qiskit.tools import job_monitor, backend_monitor, backend_overview\n",
    "\n",
    "# IBMQ.save_account(\"Token needs to be provided\")\n",
    "\n",
    "ibmq_account = IBMQ.load_account()"
   ]
  },
  {
   "cell_type": "code",
   "execution_count": 2,
   "id": "c2bfcda2",
   "metadata": {},
   "outputs": [],
   "source": [
    "provider=IBMQ.get_provider()\n",
    "backend=provider.backends()"
   ]
  },
  {
   "cell_type": "code",
   "execution_count": 3,
   "id": "bb7ebbf2",
   "metadata": {},
   "outputs": [],
   "source": [
    "backend= least_busy(backend)"
   ]
  },
  {
   "cell_type": "code",
   "execution_count": 4,
   "id": "37ded551",
   "metadata": {},
   "outputs": [
    {
     "data": {
      "text/plain": [
       "<IBMQBackend('ibmq_armonk') from IBMQ(hub='ibm-q', group='open', project='main')>"
      ]
     },
     "execution_count": 4,
     "metadata": {},
     "output_type": "execute_result"
    }
   ],
   "source": [
    "backend"
   ]
  },
  {
   "cell_type": "markdown",
   "id": "b4293e9f",
   "metadata": {},
   "source": [
    "## backend_overview(): Overview of all the available IBMQ backend"
   ]
  },
  {
   "cell_type": "code",
   "execution_count": 5,
   "id": "cfc757cc",
   "metadata": {},
   "outputs": [
    {
     "name": "stdout",
     "output_type": "stream",
     "text": [
      "ibmq_manila                  ibmq_quito                   ibmq_belem\n",
      "-----------                  ----------                   ----------\n",
      "Num. Qubits:  5              Num. Qubits:  5              Num. Qubits:  5\n",
      "Pending Jobs: 367            Pending Jobs: 25             Pending Jobs: 30\n",
      "Least busy:   False          Least busy:   False          Least busy:   False\n",
      "Operational:  True           Operational:  True           Operational:  True\n",
      "Avg. T1:      186.6          Avg. T1:      77.5           Avg. T1:      100.7\n",
      "Avg. T2:      60.6           Avg. T2:      72.0           Avg. T2:      119.1\n",
      "\n",
      "\n",
      "\n",
      "ibmq_lima                    ibmq_bogota                  ibmq_armonk\n",
      "---------                    -----------                  -----------\n",
      "Num. Qubits:  5              Num. Qubits:  5              Num. Qubits:  1\n",
      "Pending Jobs: 23             Pending Jobs: 50             Pending Jobs: 1\n",
      "Least busy:   False          Least busy:   False          Least busy:   True\n",
      "Operational:  True           Operational:  True           Operational:  True\n",
      "Avg. T1:      85.0           Avg. T1:      99.5           Avg. T1:      150.7\n",
      "Avg. T2:      109.9          Avg. T2:      138.7          Avg. T2:      213.3\n",
      "\n",
      "\n",
      "\n",
      "ibmq_santiago\n",
      "-------------\n",
      "Num. Qubits:  5\n",
      "Pending Jobs: 2040\n",
      "Least busy:   False\n",
      "Operational:  False\n",
      "Avg. T1:      75.0\n",
      "Avg. T2:      92.7\n",
      "\n",
      "\n",
      "\n"
     ]
    }
   ],
   "source": [
    "backend_overview()"
   ]
  },
  {
   "cell_type": "markdown",
   "id": "127380dd",
   "metadata": {},
   "source": [
    "## backend_monitor(backend): information about a single IBMQ backend to monitor"
   ]
  },
  {
   "cell_type": "code",
   "execution_count": 6,
   "id": "9728e91c",
   "metadata": {},
   "outputs": [
    {
     "name": "stdout",
     "output_type": "stream",
     "text": [
      "ibmq_armonk\n",
      "===========\n",
      "Configuration\n",
      "-------------\n",
      "    n_qubits: 1\n",
      "    operational: True\n",
      "    status_msg: active\n",
      "    pending_jobs: 1\n",
      "    backend_version: 2.4.26\n",
      "    basis_gates: ['id', 'rz', 'sx', 'x']\n",
      "    local: False\n",
      "    simulator: False\n",
      "    timing_constraints: {'acquire_alignment': 16, 'granularity': 16, 'min_length': 64, 'pulse_alignment': 1}\n",
      "    n_uchannels: 0\n",
      "    url: None\n",
      "    max_shots: 20000\n",
      "    rep_times: [1000.0]\n",
      "    quantum_volume: 1\n",
      "    u_channel_lo: []\n",
      "    n_registers: 1\n",
      "    uchannels_enabled: True\n",
      "    coupling_map: None\n",
      "    memory: True\n",
      "    description: 1 qubit device\n",
      "    hamiltonian: {'description': 'Qubits are modeled as Duffing oscillators. In this case, the system includes higher energy states, i.e. not just |0> and |1>. The Pauli operators are generalized via the following set of transformations:\\n\\n$(\\\\mathbb{I}-\\\\sigma_{i}^z)/2 \\\\rightarrow O_i \\\\equiv b^\\\\dagger_{i} b_{i}$,\\n\\n$\\\\sigma_{+} \\\\rightarrow b^\\\\dagger$,\\n\\n$\\\\sigma_{-} \\\\rightarrow b$,\\n\\n$\\\\sigma_{i}^X \\\\rightarrow b^\\\\dagger_{i} + b_{i}$.\\n\\nQubits are coupled through resonator buses. The provided Hamiltonian has been projected into the zero excitation subspace of the resonator buses leading to an effective qubit-qubit flip-flop interaction. The qubit resonance frequencies in the Hamiltonian are the cavity dressed frequencies and not exactly what is returned by the backend defaults, which also includes the dressing due to the qubit-qubit interactions.\\n\\nQuantities are returned in angular frequencies, with units 2*pi*GHz.\\n\\nWARNING: Currently not all system Hamiltonian information is available to the public, missing values have been replaced with 0.\\n', 'h_latex': '\\\\begin{align} \\\\mathcal{H}/\\\\hbar = & \\\\sum_{i=0}^{0}\\\\left(\\\\frac{\\\\omega_{q,i}}{2}(\\\\mathbb{I}-\\\\sigma_i^{z})+\\\\frac{\\\\Delta_{i}}{2}(O_i^2-O_i)+\\\\Omega_{d,i}D_i(t)\\\\sigma_i^{X}\\\\right) \\\\\\\\ \\\\end{align}', 'h_str': ['_SUM[i,0,0,wq{i}/2*(I{i}-Z{i})]', '_SUM[i,0,0,delta{i}/2*O{i}*O{i}]', '_SUM[i,0,0,-delta{i}/2*O{i}]', '_SUM[i,0,0,omegad{i}*X{i}||D{i}]'], 'osc': {}, 'qub': {'0': 3}, 'vars': {'delta0': -2.1814775258495027, 'omegad0': 0.10580378421166403, 'wq0': 31.237545914444983}}\n",
      "    processor_type: {'family': 'Canary', 'revision': 1.2}\n",
      "    allow_q_object: True\n",
      "    dt: 0.2222222222222222\n",
      "    qubit_lo_range: [[4.471609842343958, 5.471609842343958]]\n",
      "    meas_lo_range: [[6.493370669000001, 7.493370669000001]]\n",
      "    discriminators: ['linear_discriminator', 'quadratic_discriminator']\n",
      "    online_date: 2019-10-16 04:00:00+00:00\n",
      "    supported_features: ['q', 'o', 'b', 'j']\n",
      "    meas_kernels: ['hw_boxcar']\n",
      "    supported_instructions: ['measure', 'u1', 'u3', 'rz', 'acquire', 'play', 'delay', 'x', 'shiftf', 'u2', 'id', 'sx', 'setf']\n",
      "    input_allowed: ['job', 'runtime']\n",
      "    backend_name: ibmq_armonk\n",
      "    channels: {'acquire0': {'operates': {'qubits': [0]}, 'purpose': 'acquire', 'type': 'acquire'}, 'd0': {'operates': {'qubits': [0]}, 'purpose': 'drive', 'type': 'drive'}, 'm0': {'operates': {'qubits': [0]}, 'purpose': 'measure', 'type': 'measure'}}\n",
      "    pulse_num_qubits: 3\n",
      "    qubit_channel_mapping: [['d0', 'm0']]\n",
      "    dynamic_reprate_enabled: False\n",
      "    conditional: False\n",
      "    meas_map: [[0]]\n",
      "    dtm: 0.2222222222222222\n",
      "    sample_name: family: Canary, revision: 1.2\n",
      "    measure_esp_enabled: False\n",
      "    pulse_num_channels: 9\n",
      "    clops: None\n",
      "    acquisition_latency: []\n",
      "    open_pulse: True\n",
      "    credits_required: True\n",
      "    meas_levels: [1, 2]\n",
      "    conditional_latency: []\n",
      "    max_experiments: 100\n",
      "    allow_object_storage: True\n",
      "    multi_meas_enabled: True\n",
      "    parametric_pulses: ['gaussian', 'gaussian_square', 'drag', 'constant']\n",
      "\n",
      "Qubits [Name / Freq / T1 / T2 / RZ err / SX err / X err / Readout err]\n",
      "----------------------------------------------------------------------\n",
      "    Q0 / 4.97161 GHz / 150.74517 us / 213.29821 us / 0.00000 / 0.00018 / 0.00018 / 0.03180 \n",
      "\n",
      "Multi-Qubit Gates [Name / Type / Gate Error]\n",
      "--------------------------------------------\n"
     ]
    }
   ],
   "source": [
    "backend_monitor(backend)"
   ]
  },
  {
   "cell_type": "markdown",
   "id": "2ea64d9c",
   "metadata": {},
   "source": [
    "# %qiskit_backend_overview  : Details of the available backends"
   ]
  },
  {
   "cell_type": "code",
   "execution_count": 7,
   "id": "b9587db1",
   "metadata": {},
   "outputs": [
    {
     "data": {
      "application/vnd.jupyter.widget-view+json": {
       "model_id": "696824604ace45808fa845f569f5b04f",
       "version_major": 2,
       "version_minor": 0
      },
      "text/plain": [
       "VBox(children=(HTML(value=\"<h2 style ='color:#ffffff; background-color:#000000;padding-top: 1%; padding-bottom…"
      ]
     },
     "metadata": {},
     "output_type": "display_data"
    }
   ],
   "source": [
    "from qiskit.tools.jupyter import *\n",
    "%qiskit_backend_overview"
   ]
  },
  {
   "cell_type": "code",
   "execution_count": 8,
   "id": "b2b63c30",
   "metadata": {},
   "outputs": [],
   "source": [
    "provider=IBMQ.get_provider()\n",
    "backend=provider.get_backend('ibmq_qasm_simulator')"
   ]
  },
  {
   "cell_type": "code",
   "execution_count": 9,
   "id": "c6d8fdbe",
   "metadata": {},
   "outputs": [
    {
     "data": {
      "application/vnd.jupyter.widget-view+json": {
       "model_id": "c5c0fd4e0ce445bfa4515a40befe888f",
       "version_major": 2,
       "version_minor": 0
      },
      "text/plain": [
       "VBox(children=(HTML(value=\"<h1 style='color:#ffffff;background-color:#000000;padding-top: 1%;padding-bottom: 1…"
      ]
     },
     "metadata": {},
     "output_type": "display_data"
    },
    {
     "data": {
      "text/plain": [
       "<IBMQSimulator('ibmq_qasm_simulator') from IBMQ(hub='ibm-q', group='open', project='main')>"
      ]
     },
     "execution_count": 9,
     "metadata": {},
     "output_type": "execute_result"
    }
   ],
   "source": [
    "backend"
   ]
  },
  {
   "cell_type": "markdown",
   "id": "20e5fac0",
   "metadata": {},
   "source": [
    "# 2 ways to display the overview of all the available backends\n",
    "\n",
    "1. %qiskit_backend_overview\n",
    "2. backend_overview()"
   ]
  }
 ],
 "metadata": {
  "kernelspec": {
   "display_name": "Python 3 (ipykernel)",
   "language": "python",
   "name": "python3"
  },
  "language_info": {
   "codemirror_mode": {
    "name": "ipython",
    "version": 3
   },
   "file_extension": ".py",
   "mimetype": "text/x-python",
   "name": "python",
   "nbconvert_exporter": "python",
   "pygments_lexer": "ipython3",
   "version": "3.9.12"
  }
 },
 "nbformat": 4,
 "nbformat_minor": 5
}
